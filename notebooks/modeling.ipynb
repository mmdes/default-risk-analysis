{
 "cells": [
  {
   "cell_type": "markdown",
   "id": "5892b033",
   "metadata": {},
   "source": [
    "# Modelagem"
   ]
  },
  {
   "cell_type": "code",
   "execution_count": 4,
   "id": "81446a13",
   "metadata": {},
   "outputs": [],
   "source": [
    "import pandas as pd\n",
    "import numpy as np\n",
    "import matplotlib.pyplot as plt\n",
    "import pickle\n",
    "import seaborn as sns\n",
    "\n",
    "from sklearn.model_selection import train_test_split, StratifiedKFold, GridSearchCV\n",
    "from sklearn.preprocessing import StandardScaler\n",
    "from sklearn.metrics import ConfusionMatrixDisplay\n",
    "from sklearn.ensemble import RandomForestClassifier\n",
    "from sklearn.linear_model import LogisticRegression\n",
    "from xgboost import XGBClassifier\n",
    "from lightgbm import LGBMClassifier\n",
    "from imblearn.pipeline import Pipeline\n",
    "from imblearn.over_sampling import SMOTE\n",
    "from sklearn.metrics import (\n",
    "    classification_report, confusion_matrix, roc_auc_score,\n",
    "    accuracy_score, precision_score, recall_score, f1_score\n",
    ")\n",
    "\n",
    "import warnings\n",
    "\n",
    "# remoção segura para deixar o log mais limpo\n",
    "warnings.filterwarnings(\"ignore\", message=\"X does not have valid feature names\") "
   ]
  },
  {
   "cell_type": "markdown",
   "id": "ccde5257",
   "metadata": {},
   "source": [
    "## Pré-processamento dos dados para o modelo "
   ]
  },
  {
   "cell_type": "markdown",
   "id": "94fdb854",
   "metadata": {},
   "source": [
    "Leitura do dataset de features e covertendo os tipos dos dados"
   ]
  },
  {
   "cell_type": "code",
   "execution_count": 5,
   "id": "f0d3e9f3",
   "metadata": {},
   "outputs": [],
   "source": [
    "# Leitura do dataset\n",
    "dataset_features_v1 = pd.read_csv('../data/processed/dataset_features_v1.csv')\n",
    "\n",
    "# Conversão dos tipos numéricos e categóricos\n",
    "dataset_features_v1 = dataset_features_v1.astype({\n",
    "    'ID_CLIENTE': 'int64',\n",
    "    'VALOR_A_PAGAR': 'float64',\n",
    "    'TAXA': 'float64',\n",
    "    'RENDA_MES_ANTERIOR': 'float64',\n",
    "    'NO_FUNCIONARIOS': 'int64',\n",
    "    'FLAG_PF': 'int64',\n",
    "    'DIAS_ATRASO': 'int64',\n",
    "    'TARGET_INADIMPLENCIA': 'int64',\n",
    "    'DIAS_ADIANTAMENTO': 'int64',\n",
    "    'TEMPO_DE_CASA_MESES': 'int64',\n",
    "    'PRAZO_PAGAMENTO_DIAS': 'int64',\n",
    "    'MES_SAFRA': 'int32',\n",
    "    'INADIMPLENCIAS_ANTERIORES': 'int64',\n",
    "    'SEGMENTO_INDUSTRIAL': 'category',\n",
    "    'DOMINIO_EMAIL': 'category',\n",
    "    'PORTE': 'category',\n",
    "    'CEP_2_DIG': 'category',\n",
    "})\n",
    "\n",
    "# Conversão de datas\n",
    "dataset_features_v1['SAFRA_REF'] = pd.to_datetime(\n",
    "    dataset_features_v1['SAFRA_REF'], format='%Y-%m-%d', errors='coerce'\n",
    ")\n",
    "\n",
    "dataset_features_v1['DATA_EMISSAO_DOCUMENTO'] = pd.to_datetime(\n",
    "    dataset_features_v1['DATA_EMISSAO_DOCUMENTO'], format='%Y-%m-%d', errors='coerce'\n",
    ")\n",
    "\n",
    "dataset_features_v1['DATA_PAGAMENTO'] = pd.to_datetime(\n",
    "    dataset_features_v1['DATA_PAGAMENTO'], format='%Y-%m-%d', errors='coerce'\n",
    ")\n",
    "\n",
    "dataset_features_v1['DATA_VENCIMENTO'] = pd.to_datetime(\n",
    "    dataset_features_v1['DATA_VENCIMENTO'], format='%Y-%m-%d', errors='coerce'\n",
    ")\n",
    "\n",
    "dataset_features_v1['DATA_CADASTRO'] = pd.to_datetime(\n",
    "    dataset_features_v1['DATA_CADASTRO'], format='%Y-%m-%d', errors='coerce'\n",
    ")\n"
   ]
  },
  {
   "cell_type": "code",
   "execution_count": 6,
   "id": "e679a2bd",
   "metadata": {},
   "outputs": [
    {
     "data": {
      "application/vnd.microsoft.datawrangler.viewer.v0+json": {
       "columns": [
        {
         "name": "index",
         "rawType": "object",
         "type": "string"
        },
        {
         "name": "0",
         "rawType": "object",
         "type": "unknown"
        }
       ],
       "ref": "ebaa4bef-4737-447e-8caa-da4f59781a3d",
       "rows": [
        [
         "ID_CLIENTE",
         "int64"
        ],
        [
         "SAFRA_REF",
         "datetime64[ns]"
        ],
        [
         "DATA_EMISSAO_DOCUMENTO",
         "datetime64[ns]"
        ],
        [
         "DATA_PAGAMENTO",
         "datetime64[ns]"
        ],
        [
         "DATA_VENCIMENTO",
         "datetime64[ns]"
        ],
        [
         "VALOR_A_PAGAR",
         "float64"
        ],
        [
         "TAXA",
         "float64"
        ],
        [
         "RENDA_MES_ANTERIOR",
         "float64"
        ],
        [
         "NO_FUNCIONARIOS",
         "int64"
        ],
        [
         "DATA_CADASTRO",
         "datetime64[ns]"
        ],
        [
         "FLAG_PF",
         "int64"
        ],
        [
         "SEGMENTO_INDUSTRIAL",
         "category"
        ],
        [
         "DOMINIO_EMAIL",
         "category"
        ],
        [
         "PORTE",
         "category"
        ],
        [
         "CEP_2_DIG",
         "category"
        ],
        [
         "DIAS_ATRASO",
         "int64"
        ],
        [
         "TARGET_INADIMPLENCIA",
         "int64"
        ],
        [
         "DIAS_ADIANTAMENTO",
         "int64"
        ],
        [
         "TEMPO_DE_CASA_MESES",
         "int64"
        ],
        [
         "PRAZO_PAGAMENTO_DIAS",
         "int64"
        ],
        [
         "MES_SAFRA",
         "int32"
        ],
        [
         "INADIMPLENCIAS_ANTERIORES",
         "int64"
        ],
        [
         "ADIANTAMENTOS_ANTERIORES",
         "int64"
        ]
       ],
       "shape": {
        "columns": 1,
        "rows": 23
       }
      },
      "text/plain": [
       "ID_CLIENTE                            int64\n",
       "SAFRA_REF                    datetime64[ns]\n",
       "DATA_EMISSAO_DOCUMENTO       datetime64[ns]\n",
       "DATA_PAGAMENTO               datetime64[ns]\n",
       "DATA_VENCIMENTO              datetime64[ns]\n",
       "VALOR_A_PAGAR                       float64\n",
       "TAXA                                float64\n",
       "RENDA_MES_ANTERIOR                  float64\n",
       "NO_FUNCIONARIOS                       int64\n",
       "DATA_CADASTRO                datetime64[ns]\n",
       "FLAG_PF                               int64\n",
       "SEGMENTO_INDUSTRIAL                category\n",
       "DOMINIO_EMAIL                      category\n",
       "PORTE                              category\n",
       "CEP_2_DIG                          category\n",
       "DIAS_ATRASO                           int64\n",
       "TARGET_INADIMPLENCIA                  int64\n",
       "DIAS_ADIANTAMENTO                     int64\n",
       "TEMPO_DE_CASA_MESES                   int64\n",
       "PRAZO_PAGAMENTO_DIAS                  int64\n",
       "MES_SAFRA                             int32\n",
       "INADIMPLENCIAS_ANTERIORES             int64\n",
       "ADIANTAMENTOS_ANTERIORES              int64\n",
       "dtype: object"
      ]
     },
     "execution_count": 6,
     "metadata": {},
     "output_type": "execute_result"
    }
   ],
   "source": [
    "dataset_features_v1.dtypes"
   ]
  },
  {
   "cell_type": "markdown",
   "id": "a1a4dec0",
   "metadata": {},
   "source": [
    "#### Remoção de colunas irrelevantes\n",
    "\n",
    "Comecei eliminando colunas que não agregam valor ao modelo.\n",
    "\n",
    "* **ID_CLIENTE** é apenas um identificador único, não possui utilidade preditiva.\n",
    "* As colunas de datas brutas (**DATA_EMISSAO_DOCUMENTO**, **DATA_PAGAMENTO**, **DATA_VENCIMENTO**, **DATA_CADASTRO** e **SAFRA_REF**) foram removidas porque já foram utilizadas para criar variáveis derivadas mais informativas.\n",
    "\n",
    "#### Prevenção de data leakage\n",
    "\n",
    "* As variáveis **DIAS_ATRASO** e **DIAS_ADIANTAMENTO** foram retiradas porque só estariam disponíveis após o vencimento, ou seja, depois da ocorrência ou não da inadimplência.\n",
    "* Manter essas colunas geraria vazamento de informação (data leakage), prejudicando a generalização do modelo e provocando overfitting.\n",
    "\n",
    "#### Codificação de variáveis categóricas\n",
    "\n",
    "* As variáveis **SEGMENTO_INDUSTRIAL**, **PORTE** e **DOMINIO_EMAIL**, por serem categóricas com baixa cardinalidade, foram tratadas com One-Hot Encoding.\n",
    "* Já a variável **CEP_2_DIG** apresenta alta cardinalidade, e por isso utilizei Frequency Encoding, uma técnica que substitui cada categoria pela frequência relativa com que aparece na base de dados. Isso evita a explosão de colunas sem perder a representatividade da variável.\n",
    "\n",
    "#### Separação dos dados\n",
    "\n",
    "* Após o pré-processamento, separei as variáveis explicativas (**X**) da variável alvo (**TARGET_INADIMPLENCIA**).\n",
    "* Em seguida, fiz a divisão entre treino e teste com **train_test_split**, utilizando **stratify=y** para garantir a mesma proporção de inadimplentes em ambas as amostras.\n"
   ]
  },
  {
   "cell_type": "code",
   "execution_count": 7,
   "id": "69376d95",
   "metadata": {},
   "outputs": [],
   "source": [
    "# Eliminar colunas irrelevantes\n",
    "cols_drop = [\n",
    "    'ID_CLIENTE', 'DATA_EMISSAO_DOCUMENTO', 'DATA_PAGAMENTO',\n",
    "    'DATA_VENCIMENTO', 'DATA_CADASTRO', 'SAFRA_REF',\n",
    "    'DIAS_ATRASO', 'DIAS_ADIANTAMENTO', # Colunas que só são conhecidas depois do treinamento. São removidas para evitar data leakage\n",
    "]\n",
    "\n",
    "df = dataset_features_v1.drop(columns=cols_drop)\n",
    "\n",
    "# Aplicando One-Hot Encoding em variáveis categóricas de baixa cardinalidade\n",
    "df = pd.get_dummies(df, columns=['SEGMENTO_INDUSTRIAL', 'PORTE', 'DOMINIO_EMAIL'], drop_first=True)\n",
    "\n",
    "# Aplicando Frequency Encoding para variável com alta cardinalidade \n",
    "freq_map = df['CEP_2_DIG'].value_counts(normalize=True)\n",
    "df['CEP_2_DIG'] = df['CEP_2_DIG'].map(freq_map)\n",
    "\n",
    "# Importante não adionar a variável target, resultaria em data leackage e consequentemente overfitting\n",
    "X = df.drop(columns='TARGET_INADIMPLENCIA')\n",
    "y = df['TARGET_INADIMPLENCIA']\n",
    "\n",
    "# Divisão treino/teste\n",
    "X_train, X_test, y_train, y_test = train_test_split(\n",
    "    X, y, test_size=0.2, stratify=y, random_state=42\n",
    ")"
   ]
  },
  {
   "cell_type": "markdown",
   "id": "25d24508",
   "metadata": {},
   "source": [
    "## Escolhendo o modelo preditor e seus parâmetros (Cross Validation e GridSearch)"
   ]
  },
  {
   "cell_type": "markdown",
   "id": "1f908fb9",
   "metadata": {},
   "source": [
    "\n",
    "Aqui realizo a comparação entre diferentes algoritmos de classificação — **XGBoost**, **Random Forest**, **Regressão Logística** e **LightGBM**\n",
    "\n",
    "Para cada modelo:\n",
    "\n",
    "* É definida uma grade de hiperparâmetros (parâmetros comumente observados em problemas de crédito e inadimplência em outros trabalhos)\n",
    "* Aplica-se validação cruzada estratificada com 5 divisões, utilizando GridSearchCV.\n",
    "* A métrica utilizada para otimização é o **ROC AUC**.\n",
    "\n",
    "O pipeline inclui os seguintes passos:\n",
    "\n",
    "1. **Padronização dos dados** com **StandardScaler**.\n",
    "2. **Balanceamento das classes** com **SMOTE**, para lidar com o desbalanceamento da variável alvo.\n",
    "3. **Treinamento e avaliação** de cada modelo com base nos melhores hiperparâmetros encontrados.\n",
    "\n",
    "Ao final, são calculadas as principais métricas no conjunto de teste:\n",
    "\n",
    "* ROC AUC\n",
    "* Relatório de classificação (precision, recall e F1-score)\n",
    "* Matriz de confusão\n",
    "\n",
    "Os resultados finais são salvos em um arquivo **.pkl** para facilitar a análise posterior."
   ]
  },
  {
   "cell_type": "code",
   "execution_count": null,
   "id": "40df0681",
   "metadata": {},
   "outputs": [
    {
     "name": "stdout",
     "output_type": "stream",
     "text": [
      "\n",
      "Treinando: XGBoost\n",
      "\n",
      "Treinando: RandomForest\n",
      "\n",
      "Treinando: LogisticRegression\n",
      "\n",
      "Treinando: LightGBM\n",
      "[LightGBM] [Info] Number of positive: 54699, number of negative: 54699\n",
      "[LightGBM] [Info] Auto-choosing col-wise multi-threading, the overhead of testing was 0,006732 seconds.\n",
      "You can set `force_col_wise=true` to remove the overhead.\n",
      "[LightGBM] [Info] Total Bins 4389\n",
      "[LightGBM] [Info] Number of data points in the train set: 109398, number of used features: 19\n",
      "[LightGBM] [Info] [binary:BoostFromScore]: pavg=0,500000 -> initscore=0,000000\n"
     ]
    }
   ],
   "source": [
    "# Parâmetros\n",
    "modelos_parametros = {\n",
    "    \"XGBoost\": (\n",
    "        XGBClassifier(\n",
    "            #use_label_encoder=False,\n",
    "            objective=\"binary:logistic\",\n",
    "            eval_metric=\"logloss\",\n",
    "            random_state=42,\n",
    "            n_jobs=-1\n",
    "        ),\n",
    "        {\n",
    "            \"clf__n_estimators\": [200, 300, 400],\n",
    "            \"clf__max_depth\": [7, 10],\n",
    "            \"clf__learning_rate\": [0.01, 0.1],\n",
    "            \"clf__subsample\": [0.6, 0.8, 1.0],\n",
    "            \"clf__colsample_bytree\": [0.6, 0.8],\n",
    "            \"clf__gamma\": [0, 1],  \n",
    "            \"clf__min_child_weight\": [1, 5],\n",
    "            \"clf__reg_alpha\": [0, 0.5],    # L1 regularização (sem e com força moderada)\n",
    "            \"clf__reg_lambda\": [1, 2.0],   # L2 regularização (default e valor mais forte)\n",
    "        }\n",
    "    ),\n",
    "    \n",
    "    \"RandomForest\": (\n",
    "        RandomForestClassifier(random_state=42, n_jobs=-1),\n",
    "        {\n",
    "            \"clf__n_estimators\": [100, 200, 300],\n",
    "            \"clf__max_depth\": [None, 10, 20],\n",
    "            \"clf__min_samples_split\": [2, 5, 10],\n",
    "            \"clf__min_samples_leaf\": [1, 2, 4],\n",
    "            \"clf__max_features\": ['sqrt', 'log2'],  # diversificação\n",
    "            \"clf__bootstrap\": [True, False]\n",
    "        }\n",
    "    ),\n",
    "\n",
    "    \"LogisticRegression\": (\n",
    "        LogisticRegression(max_iter=1000, solver='lbfgs', random_state=42),\n",
    "        {\n",
    "            \"clf__C\": [0.1, 1.0, 10.0, 100.0]\n",
    "        }\n",
    "    ),\n",
    "\n",
    "    \"LightGBM\": (\n",
    "        LGBMClassifier(random_state=42),\n",
    "        {\n",
    "            \"clf__n_estimators\": [100, 200],\n",
    "            \"clf__num_leaves\": [31, 50, 100],\n",
    "            \"clf__learning_rate\": [0.01, 0.05, 0.1],\n",
    "            \"clf__min_child_samples\": [10, 20, 50],\n",
    "            \"clf__subsample\": [0.6, 0.8, 1.0],\n",
    "            \"clf__colsample_bytree\": [0.6, 0.8, 1.0]\n",
    "        }\n",
    "    )\n",
    "}\n",
    "\n",
    "\n",
    "\n",
    "\n",
    "# *******************************************************************\n",
    "#   ATENÇÃO: Este bloco foi comentado porque realiza o GridSearchCV,\n",
    "#   que demanda muito tempo de processamento. Os melhores parâmetros\n",
    "#   já foram definidos e estão aplicados logo abaixo no treino do \n",
    "#   Random Forest com todos os dados. \n",
    "#   A reprodução do modelo abaixo costuma ser rápida.\n",
    "# *******************************************************************\n",
    "\n",
    "\n",
    "\n",
    "\n",
    "'''\n",
    "# Validação cruzada e execução \n",
    "cv = StratifiedKFold(n_splits=5, shuffle=True, random_state=42)\n",
    "resultados = {}\n",
    "\n",
    "for nome, (modelo, grid_params) in modelos_parametros.items():\n",
    "    print(f\"\\nTreinando: {nome}\")\n",
    "    pipeline = Pipeline(steps=[\n",
    "        (\"scaler\", StandardScaler()),\n",
    "        (\"smote\", SMOTE(random_state=42)),\n",
    "        (\"clf\", modelo)\n",
    "    ])\n",
    "\n",
    "    grid = GridSearchCV(\n",
    "        pipeline,\n",
    "        param_grid=grid_params,\n",
    "        cv=cv,\n",
    "        scoring=\"roc_auc\",\n",
    "        #verbose=3,\n",
    "        n_jobs=-1\n",
    "    )\n",
    "\n",
    "    grid.fit(X_train, y_train)\n",
    "\n",
    "    best_model = grid.best_estimator_\n",
    "    y_pred = best_model.predict(X_test)\n",
    "    y_proba = best_model.predict_proba(X_test)[:, 1]\n",
    "\n",
    "    resultados[nome] = {\n",
    "        \"Melhores parâmetros\": grid.best_params_,\n",
    "        \"ROC AUC (validação)\": grid.best_score_,\n",
    "        \"ROC AUC (teste)\": roc_auc_score(y_test, y_proba),\n",
    "        \"Classification Report\": classification_report(y_test, y_pred, output_dict=True),\n",
    "        \"Confusion Matrix\": confusion_matrix(y_test, y_pred).tolist()\n",
    "    }\n",
    "\n",
    "\n",
    "# Salva resultados Grid Search CV\n",
    "with open(\"../data/processed/resultados_grid_search_cv_v6.pkl\", \"wb\") as f:\n",
    "    pickle.dump(resultados, f)\n",
    "\n",
    "'''"
   ]
  },
  {
   "cell_type": "markdown",
   "id": "729bbaa3",
   "metadata": {},
   "source": [
    "O melhor modelo para o problema é o **Random Forest**. Isso se justifica pelos seus resultados equilibrados entre desempenho preditivo e estabilidade. Apesar de outros modelos como o XGBoost também apresentarem boas métricas, o Random Forest obteve a **maior ROC AUC no conjunto de teste (0.9621)**, o que indica uma excelente capacidade de discriminar entre clientes inadimplentes e adimplentes. Além disso, seu desempenho na **classe minoritária (inadimplentes)** foi sólido, com um **F1-score de 0.72** e **recall de 0.75**, demonstrando boa sensibilidade para identificar casos positivos, ponto crítico em cenários de risco de crédito. O modelo apresentou um ótimo equilíbrio entre **precisão e recall**, sem exigir parametrizações muito sensíveis como outros modelos baseados em boosting. Esses fatores tornam o Random Forest uma escolha confiável para o problema proposto."
   ]
  },
  {
   "cell_type": "code",
   "execution_count": null,
   "id": "278f5609",
   "metadata": {},
   "outputs": [
    {
     "name": "stdout",
     "output_type": "stream",
     "text": [
      "\n",
      "=== XGBoost ===\n",
      "Melhores parâmetros: {'clf__colsample_bytree': 0.6, 'clf__gamma': 0, 'clf__learning_rate': 0.1, 'clf__max_depth': 10, 'clf__min_child_weight': 1, 'clf__n_estimators': 300, 'clf__reg_alpha': 0, 'clf__reg_lambda': 2.0, 'clf__subsample': 0.8}\n",
      "ROC AUC (validação): 0.962\n",
      "ROC AUC (teste): 0.9587\n",
      "Classification Report:\n",
      "              precision    recall  f1-score       support\n",
      "0              0.976291  0.981645  0.978961  13675.000000\n",
      "1              0.751239  0.699262  0.724319   1084.000000\n",
      "accuracy       0.960905  0.960905  0.960905      0.960905\n",
      "macro avg      0.863765  0.840454  0.851640  14759.000000\n",
      "weighted avg   0.959762  0.960905  0.960258  14759.000000\n",
      "Confusion Matrix:\n",
      "[[13424   251]\n",
      " [  326   758]]\n"
     ]
    },
    {
     "data": {
      "image/png": "[encoded data removed]",
      "text/plain": [
       "<Figure size 640x480 with 2 Axes>"
      ]
     },
     "metadata": {},
     "output_type": "display_data"
    },
    {
     "name": "stdout",
     "output_type": "stream",
     "text": [
      "\n",
      "=== RandomForest ===\n",
      "Melhores parâmetros: {'clf__bootstrap': False, 'clf__max_depth': 20, 'clf__max_features': 'sqrt', 'clf__min_samples_leaf': 1, 'clf__min_samples_split': 5, 'clf__n_estimators': 300}\n",
      "ROC AUC (validação): 0.962\n",
      "ROC AUC (teste): 0.9615\n",
      "Classification Report:\n",
      "              precision    recall  f1-score       support\n",
      "0              0.980339  0.973528  0.976922  13675.000000\n",
      "1              0.692960  0.753690  0.722050   1084.000000\n",
      "accuracy       0.957382  0.957382  0.957382      0.957382\n",
      "macro avg      0.836649  0.863609  0.849486  14759.000000\n",
      "weighted avg   0.959232  0.957382  0.958202  14759.000000\n",
      "Confusion Matrix:\n",
      "[[13313   362]\n",
      " [  267   817]]\n"
     ]
    },
    {
     "data": {
      "image/png": "[encoded data removed]",
      "text/plain": [
       "<Figure size 640x480 with 2 Axes>"
      ]
     },
     "metadata": {},
     "output_type": "display_data"
    },
    {
     "name": "stdout",
     "output_type": "stream",
     "text": [
      "\n",
      "=== LogisticRegression ===\n",
      "Melhores parâmetros: {'clf__C': 100.0}\n",
      "ROC AUC (validação): 0.8857\n",
      "ROC AUC (teste): 0.8877\n",
      "Classification Report:\n",
      "              precision    recall  f1-score       support\n",
      "0              0.980332  0.838318  0.903780  13675.000000\n",
      "1              0.278630  0.787823  0.411665   1084.000000\n",
      "accuracy       0.834609  0.834609  0.834609      0.834609\n",
      "macro avg      0.629481  0.813070  0.657723  14759.000000\n",
      "weighted avg   0.928794  0.834609  0.867636  14759.000000\n",
      "Confusion Matrix:\n",
      "[[11464  2211]\n",
      " [  230   854]]\n"
     ]
    },
    {
     "data": {
      "image/png": "[encoded data removed]",
      "text/plain": [
       "<Figure size 640x480 with 2 Axes>"
      ]
     },
     "metadata": {},
     "output_type": "display_data"
    },
    {
     "name": "stdout",
     "output_type": "stream",
     "text": [
      "\n",
      "=== LightGBM ===\n",
      "Melhores parâmetros: {'clf__colsample_bytree': 0.6, 'clf__learning_rate': 0.1, 'clf__min_child_samples': 50, 'clf__n_estimators': 200, 'clf__num_leaves': 100, 'clf__subsample': 0.6}\n",
      "ROC AUC (validação): 0.9604\n",
      "ROC AUC (teste): 0.9585\n",
      "Classification Report:\n",
      "              precision    recall  f1-score       support\n",
      "0              0.975418  0.980768  0.978086  13675.000000\n",
      "1              0.739346  0.688192  0.712852   1084.000000\n",
      "accuracy       0.959279  0.959279  0.959279      0.959279\n",
      "macro avg      0.857382  0.834480  0.845469  14759.000000\n",
      "weighted avg   0.958079  0.959279  0.958605  14759.000000\n",
      "Confusion Matrix:\n",
      "[[13412   263]\n",
      " [  338   746]]\n"
     ]
    },
    {
     "data": {
      "image/png": "[encoded data removed]",
      "text/plain": [
       "<Figure size 640x480 with 2 Axes>"
      ]
     },
     "metadata": {},
     "output_type": "display_data"
    }
   ],
   "source": [
    "# ****************************************************************************\n",
    "#   ATENÇÃO: Este bloco foi comentado porque serve para exibir os resultados,\n",
    "#   do GridSearchCV que não precisa mais ser executado.\n",
    "#  \n",
    "# ****************************************************************************\n",
    "\n",
    "\n",
    "'''\n",
    "# Resultados Finais \n",
    "for nome, res in resultados.items():\n",
    "    print(f\"\\n=== {nome} ===\")\n",
    "    print(\"Melhores parâmetros:\", res[\"Melhores parâmetros\"])\n",
    "    print(\"ROC AUC (validação):\", round(res[\"ROC AUC (validação)\"], 4))\n",
    "    print(\"ROC AUC (teste):\", round(res[\"ROC AUC (teste)\"], 4))\n",
    "    print(\"Classification Report:\")\n",
    "    print(pd.DataFrame(res[\"Classification Report\"]).T)\n",
    "    print(\"Confusion Matrix:\")\n",
    "    print(np.array(res[\"Confusion Matrix\"]))\n",
    "    #plotando a matriz de confusão \n",
    "    cm = np.array(res[\"Confusion Matrix\"])\n",
    "    disp = ConfusionMatrixDisplay(confusion_matrix=cm, display_labels=[0, 1])\n",
    "    disp.plot(cmap=\"plasma\", values_format=\"d\")\n",
    "    plt.title(f\"Matriz de Confusão - {nome}\")\n",
    "    plt.show()\n",
    "\n",
    "'''"
   ]
  },
  {
   "cell_type": "markdown",
   "id": "bb09c680",
   "metadata": {},
   "source": [
    "## HOLD OUT (X_train, X_test)"
   ]
  },
  {
   "cell_type": "code",
   "execution_count": 8,
   "id": "e4263e00",
   "metadata": {},
   "outputs": [
    {
     "name": "stdout",
     "output_type": "stream",
     "text": [
      "\n",
      "=== Treinamento em hold-out com o modelo escolhido ===\n"
     ]
    },
    {
     "name": "stderr",
     "output_type": "stream",
     "text": [
      "[Parallel(n_jobs=-1)]: Using backend ThreadingBackend with 12 concurrent workers.\n",
      "[Parallel(n_jobs=-1)]: Done  26 tasks      | elapsed:    1.1s\n",
      "[Parallel(n_jobs=-1)]: Done 176 tasks      | elapsed:    5.8s\n",
      "[Parallel(n_jobs=-1)]: Done 300 out of 300 | elapsed:    9.6s finished\n",
      "[Parallel(n_jobs=12)]: Using backend ThreadingBackend with 12 concurrent workers.\n",
      "[Parallel(n_jobs=12)]: Done  26 tasks      | elapsed:    0.0s\n",
      "[Parallel(n_jobs=12)]: Done 176 tasks      | elapsed:    0.0s\n",
      "[Parallel(n_jobs=12)]: Done 300 out of 300 | elapsed:    0.0s finished\n",
      "[Parallel(n_jobs=12)]: Using backend ThreadingBackend with 12 concurrent workers.\n",
      "[Parallel(n_jobs=12)]: Done  26 tasks      | elapsed:    0.0s\n",
      "[Parallel(n_jobs=12)]: Done 176 tasks      | elapsed:    0.0s\n"
     ]
    },
    {
     "name": "stdout",
     "output_type": "stream",
     "text": [
      "\n",
      "=== Classification Report ===\n",
      "              precision    recall  f1-score   support\n",
      "\n",
      "           0     0.9808    0.9732    0.9769     13675\n",
      "           1     0.6916    0.7592    0.7238      1084\n",
      "\n",
      "    accuracy                         0.9574     14759\n",
      "   macro avg     0.8362    0.8662    0.8504     14759\n",
      "weighted avg     0.9595    0.9574    0.9584     14759\n",
      "\n",
      "ROC AUC (teste): 0.9621\n"
     ]
    },
    {
     "name": "stderr",
     "output_type": "stream",
     "text": [
      "[Parallel(n_jobs=12)]: Done 300 out of 300 | elapsed:    0.0s finished\n"
     ]
    },
    {
     "data": {
      "image/png": "[encoded data removed]",
      "text/plain": [
       "<Figure size 600x500 with 2 Axes>"
      ]
     },
     "metadata": {},
     "output_type": "display_data"
    }
   ],
   "source": [
    "# === Hiperparâmetros ótimos para Random Forest ===\n",
    "melhores_params = {\n",
    "     'bootstrap': False,\n",
    "     'max_depth': 20,\n",
    "     'max_features': 'sqrt',\n",
    "     'min_samples_leaf': 1,\n",
    "     'min_samples_split': 5,\n",
    "     'n_estimators': 300,\n",
    "     'random_state': 42,\n",
    "     'n_jobs': -1,\n",
    "     'verbose': 1  # ativa logs do Random Forest durante o fit\n",
    " }\n",
    "\n",
    "# === Pipeline com SMOTE + Escalonamento + Random Forest ===\n",
    "pipeline = Pipeline(steps=[\n",
    "    ('scaler', StandardScaler()),\n",
    "    ('smote', SMOTE(random_state=42)),\n",
    "    ('clf', RandomForestClassifier(**melhores_params))\n",
    "])\n",
    "\n",
    "# === Treinamento com o conjunto treino ===\n",
    "print(\"\\n=== Treinamento em hold-out com o modelo escolhido ===\")\n",
    "pipeline.fit(X_train, y_train)\n",
    "\n",
    "# === Predição no holdout ===\n",
    "y_pred = pipeline.predict(X_test)\n",
    "y_proba = pipeline.predict_proba(X_test)[:, 1]\n",
    "\n",
    "# === Métricas ===\n",
    "report = classification_report(y_test, y_pred, output_dict=True)\n",
    "roc_auc = roc_auc_score(y_test, y_proba)\n",
    "\n",
    "print(\"\\n=== Classification Report ===\")\n",
    "print(classification_report(y_test, y_pred, digits=4))\n",
    "print(f\"ROC AUC (teste): {roc_auc:.4f}\")\n",
    "\n",
    "# === Matriz de Confusão ===\n",
    "cm = confusion_matrix(y_test, y_pred)\n",
    "plt.figure(figsize=(6, 5))\n",
    "sns.heatmap(cm, annot=True, fmt='d', cmap='plasma', xticklabels=[0, 1], yticklabels=[0, 1])\n",
    "plt.xlabel(\"Predito\")\n",
    "plt.ylabel(\"Real\")\n",
    "plt.title(\"Matriz de Confusão - Holdout\")\n",
    "plt.tight_layout()\n",
    "plt.show()\n",
    "\n",
    "# === Barplot com principais métricas ===\n",
    "metrics_dict = {\n",
    "    \"ROC AUC\": roc_auc,\n",
    "    \"Acurácia\": accuracy_score(y_test, y_pred),\n",
    "    \"Precisão (Classe 1)\": precision_score(y_test, y_pred),\n",
    "    \"Recall (Classe 1)\": recall_score(y_test, y_pred),\n",
    "    \"F1-Score (Classe 1)\": f1_score(y_test, y_pred),\n",
    "    \"F1 Macro\": report[\"macro avg\"][\"f1-score\"],\n",
    "    \"F1 Weighted\": report[\"weighted avg\"][\"f1-score\"],\n",
    "    \"Classification_report\": classification_report(y_test, y_pred, digits=4),\n",
    "    \"Confusion Matrix\": confusion_matrix(y_test, y_pred),\n",
    "}\n",
    "\n",
    "# === Salvar dados de treinamento ===\n",
    "with open('../data/processed/resultados_holdout_random_forest.pkl', 'wb') as f:\n",
    "    pickle.dump(metrics_dict, f)"
   ]
  },
  {
   "cell_type": "markdown",
   "id": "04f2f363",
   "metadata": {},
   "source": [
    "## Treinamento final do modelo com todos os dados "
   ]
  },
  {
   "cell_type": "code",
   "execution_count": 9,
   "id": "ca083065",
   "metadata": {},
   "outputs": [
    {
     "name": "stdout",
     "output_type": "stream",
     "text": [
      "\n",
      "=== Treinamento final do modelo escolhido com todos os dados ===\n"
     ]
    },
    {
     "name": "stderr",
     "output_type": "stream",
     "text": [
      "[Parallel(n_jobs=-1)]: Using backend ThreadingBackend with 12 concurrent workers.\n",
      "[Parallel(n_jobs=-1)]: Done  26 tasks      | elapsed:    1.3s\n",
      "[Parallel(n_jobs=-1)]: Done 176 tasks      | elapsed:    6.9s\n",
      "[Parallel(n_jobs=-1)]: Done 300 out of 300 | elapsed:   11.3s finished\n"
     ]
    },
    {
     "name": "stdout",
     "output_type": "stream",
     "text": [
      "Modelo salvo em '../data/processed/final_random_forest_structure.pkl'\n"
     ]
    }
   ],
   "source": [
    "print(\"\\n=== Treinamento final do modelo escolhido com todos os dados ===\")\n",
    "pipeline.fit(X, y)\n",
    "\n",
    "# === Salvar modelo treinado ===\n",
    "with open('../data/processed/final_random_forest_structure.pkl', 'wb') as f:\n",
    "    pickle.dump(pipeline, f)\n",
    "\n",
    "print(\"Modelo salvo em '../data/processed/final_random_forest_structure.pkl'\")"
   ]
  }
 ],
 "metadata": {
  "kernelspec": {
   "display_name": "dra",
   "language": "python",
   "name": "python3"
  },
  "language_info": {
   "codemirror_mode": {
    "name": "ipython",
    "version": 3
   },
   "file_extension": ".py",
   "mimetype": "text/x-python",
   "name": "python",
   "nbconvert_exporter": "python",
   "pygments_lexer": "ipython3",
   "version": "3.10.11"
  }
 },
 "nbformat": 4,
 "nbformat_minor": 5
}
