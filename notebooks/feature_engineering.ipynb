{
 "cells": [
  {
   "cell_type": "markdown",
   "id": "dfa39266",
   "metadata": {},
   "source": [
    "# Engenharia de Atributos"
   ]
  },
  {
   "cell_type": "code",
   "execution_count": 7,
   "id": "f0961ae3",
   "metadata": {},
   "outputs": [],
   "source": [
    "import pandas as pd"
   ]
  },
  {
   "cell_type": "code",
   "execution_count": 11,
   "id": "ffe2c87a",
   "metadata": {},
   "outputs": [
    {
     "name": "stderr",
     "output_type": "stream",
     "text": [
      "C:\\Users\\Matheus\\AppData\\Local\\Temp\\ipykernel_19960\\3999875462.py:1: DtypeWarning: Columns (13) have mixed types. Specify dtype option on import or set low_memory=False.\n",
      "  merged_dataset = pd.read_csv('../data/processed/merged_dataset.csv')\n"
     ]
    }
   ],
   "source": [
    "merged_dataset = pd.read_csv('../data/processed/merged_dataset.csv')"
   ]
  },
  {
   "cell_type": "code",
   "execution_count": 13,
   "id": "7c2b5d27",
   "metadata": {},
   "outputs": [
    {
     "data": {
      "application/vnd.microsoft.datawrangler.viewer.v0+json": {
       "columns": [
        {
         "name": "index",
         "rawType": "object",
         "type": "string"
        },
        {
         "name": "0",
         "rawType": "object",
         "type": "unknown"
        }
       ],
       "ref": "01f875f8-111c-4e40-a391-afc681dc6cd3",
       "rows": [
        [
         "ID_CLIENTE",
         "int64"
        ],
        [
         "SAFRA_REF",
         "object"
        ],
        [
         "DATA_EMISSAO_DOCUMENTO",
         "object"
        ],
        [
         "DATA_PAGAMENTO",
         "object"
        ],
        [
         "DATA_VENCIMENTO",
         "object"
        ],
        [
         "VALOR_A_PAGAR",
         "float64"
        ],
        [
         "TAXA",
         "float64"
        ],
        [
         "RENDA_MES_ANTERIOR",
         "float64"
        ],
        [
         "NO_FUNCIONARIOS",
         "float64"
        ],
        [
         "DATA_CADASTRO",
         "object"
        ],
        [
         "FLAG_PF",
         "int64"
        ],
        [
         "SEGMENTO_INDUSTRIAL",
         "object"
        ],
        [
         "PORTE",
         "object"
        ],
        [
         "CEP_2_DIG",
         "object"
        ],
        [
         "DIAS_ATRASO",
         "int64"
        ],
        [
         "TARGET_INADIMPLENCIA",
         "int64"
        ]
       ],
       "shape": {
        "columns": 1,
        "rows": 16
       }
      },
      "text/plain": [
       "ID_CLIENTE                  int64\n",
       "SAFRA_REF                  object\n",
       "DATA_EMISSAO_DOCUMENTO     object\n",
       "DATA_PAGAMENTO             object\n",
       "DATA_VENCIMENTO            object\n",
       "VALOR_A_PAGAR             float64\n",
       "TAXA                      float64\n",
       "RENDA_MES_ANTERIOR        float64\n",
       "NO_FUNCIONARIOS           float64\n",
       "DATA_CADASTRO              object\n",
       "FLAG_PF                     int64\n",
       "SEGMENTO_INDUSTRIAL        object\n",
       "PORTE                      object\n",
       "CEP_2_DIG                  object\n",
       "DIAS_ATRASO                 int64\n",
       "TARGET_INADIMPLENCIA        int64\n",
       "dtype: object"
      ]
     },
     "execution_count": 13,
     "metadata": {},
     "output_type": "execute_result"
    }
   ],
   "source": [
    "merged_dataset.dtypes"
   ]
  }
 ],
 "metadata": {
  "kernelspec": {
   "display_name": "dra-env",
   "language": "python",
   "name": "python3"
  },
  "language_info": {
   "codemirror_mode": {
    "name": "ipython",
    "version": 3
   },
   "file_extension": ".py",
   "mimetype": "text/x-python",
   "name": "python",
   "nbconvert_exporter": "python",
   "pygments_lexer": "ipython3",
   "version": "3.12.3"
  }
 },
 "nbformat": 4,
 "nbformat_minor": 5
}
