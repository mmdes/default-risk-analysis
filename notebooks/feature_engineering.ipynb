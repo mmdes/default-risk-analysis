{
 "cells": [
  {
   "cell_type": "markdown",
   "id": "dfa39266",
   "metadata": {},
   "source": [
    "# Engenharia de Atributos"
   ]
  },
  {
   "cell_type": "code",
   "execution_count": 37,
   "id": "f0961ae3",
   "metadata": {},
   "outputs": [],
   "source": [
    "import pandas as pd"
   ]
  },
  {
   "cell_type": "code",
   "execution_count": 38,
   "id": "ffe2c87a",
   "metadata": {},
   "outputs": [
    {
     "name": "stderr",
     "output_type": "stream",
     "text": [
      "/tmp/ipykernel_59660/3999875462.py:1: DtypeWarning: Columns (14) have mixed types. Specify dtype option on import or set low_memory=False.\n",
      "  merged_dataset = pd.read_csv('../data/processed/merged_dataset.csv')\n"
     ]
    }
   ],
   "source": [
    "merged_dataset = pd.read_csv('../data/processed/merged_dataset.csv')"
   ]
  },
  {
   "cell_type": "markdown",
   "id": "3c630884",
   "metadata": {},
   "source": [
    "Convertendo as variáveis para os seus respectivos tipos corretos "
   ]
  },
  {
   "cell_type": "code",
   "execution_count": 39,
   "id": "7c2b5d27",
   "metadata": {},
   "outputs": [],
   "source": [
    "# Conversão dos tipos numéricos e categóricos\n",
    "merged_dataset = merged_dataset.astype({\n",
    "    'ID_CLIENTE': 'int64',\n",
    "    'VALOR_A_PAGAR': 'float64',\n",
    "    'TAXA': 'float64',\n",
    "    'RENDA_MES_ANTERIOR': 'float64',\n",
    "    'NO_FUNCIONARIOS': 'int64',\n",
    "    'FLAG_PF': 'int', \n",
    "    'DIAS_ATRASO': 'Int64',\n",
    "    'TARGET_INADIMPLENCIA': 'int',\n",
    "    'SEGMENTO_INDUSTRIAL': 'category',\n",
    "    'PORTE': 'category',\n",
    "    'CEP_2_DIG': 'category',\n",
    "    'DIAS_ADIANTAMENTO': 'int',\n",
    "    'DOMINIO_EMAIL': 'category',\n",
    "})\n",
    "\n",
    "# Conversão de datas\n",
    "merged_dataset['SAFRA_REF'] = pd.to_datetime(\n",
    "    merged_dataset['SAFRA_REF'], format='%Y-%m-%d', errors='coerce'\n",
    ")\n",
    "\n",
    "merged_dataset['DATA_EMISSAO_DOCUMENTO'] = pd.to_datetime(\n",
    "    merged_dataset['DATA_EMISSAO_DOCUMENTO'], format='%Y-%m-%d', errors='coerce'\n",
    ")\n",
    "\n",
    "merged_dataset['DATA_PAGAMENTO'] = pd.to_datetime(\n",
    "    merged_dataset['DATA_PAGAMENTO'], format='%Y-%m-%d', errors='coerce'\n",
    ")\n",
    "\n",
    "merged_dataset['DATA_VENCIMENTO'] = pd.to_datetime(\n",
    "    merged_dataset['DATA_VENCIMENTO'], format='%Y-%m-%d', errors='coerce'\n",
    ")\n",
    "\n",
    "merged_dataset['DATA_CADASTRO'] = pd.to_datetime(\n",
    "    merged_dataset['DATA_CADASTRO'], format='%Y-%m-%d', errors='coerce'\n",
    ")\n"
   ]
  },
  {
   "cell_type": "markdown",
   "id": "4760d1a0",
   "metadata": {},
   "source": [
    "### Criando novas features"
   ]
  },
  {
   "cell_type": "markdown",
   "id": "7ae3f7b0",
   "metadata": {},
   "source": [
    "Calculando tempo de casa. Indica a relação dos clientes com a empresa, isso pode influenciar na inadimplência. Clientes mais velhos de casa têm menos tendência a inadimplência."
   ]
  },
  {
   "cell_type": "code",
   "execution_count": 40,
   "id": "98e19475",
   "metadata": {},
   "outputs": [],
   "source": [
    "merged_dataset['TEMPO_CADASTRO_PARA_VENCIMENTO'] = (merged_dataset['DATA_VENCIMENTO'] - merged_dataset['DATA_CADASTRO']).dt.days"
   ]
  },
  {
   "cell_type": "code",
   "execution_count": 41,
   "id": "bdd805fa",
   "metadata": {},
   "outputs": [],
   "source": [
    "merged_dataset['TEMPO_DE_CASA_MESES'] = merged_dataset['TEMPO_CADASTRO_PARA_VENCIMENTO'] // 30\n"
   ]
  },
  {
   "cell_type": "code",
   "execution_count": 42,
   "id": "0c6b57f5",
   "metadata": {},
   "outputs": [],
   "source": [
    "merged_dataset = merged_dataset.drop(columns='TEMPO_CADASTRO_PARA_VENCIMENTO')\n"
   ]
  },
  {
   "cell_type": "markdown",
   "id": "edb1b4e7",
   "metadata": {},
   "source": [
    "Prazo para o pagamento: ajuda a entender o tempo que o cliente teve para se preparar para o pagamento. Prazos curtos podem influenciar na inadimplência.\n",
    "\n"
   ]
  },
  {
   "cell_type": "code",
   "execution_count": 43,
   "id": "e11226b1",
   "metadata": {},
   "outputs": [],
   "source": [
    "merged_dataset['PRAZO_PAGAMENTO_DIAS'] = (merged_dataset['DATA_VENCIMENTO'] - merged_dataset['DATA_EMISSAO_DOCUMENTO']).dt.days"
   ]
  },
  {
   "cell_type": "markdown",
   "id": "2773f17f",
   "metadata": {},
   "source": [
    "Mês da SAFRA_REF: capta padrões sazonais (ex: pode haver mais inadimplência no final do ano ou em meses com impostos)."
   ]
  },
  {
   "cell_type": "code",
   "execution_count": 44,
   "id": "a0b3e077",
   "metadata": {},
   "outputs": [],
   "source": [
    "merged_dataset['MES_SAFRA'] = merged_dataset['SAFRA_REF'].dt.month"
   ]
  },
  {
   "cell_type": "markdown",
   "id": "541d56ab",
   "metadata": {},
   "source": [
    "Criação de **INADIMPLENCIAS_ANTERIORES**. Essa variável é um contador cumulativo do número de inadimplências passadas para cada cliente até o momento do pagamento atual. Ela captura o comportamento passado do cliente, que é um forte indicador de risco de inadimplência. Clientes reincidentes tendem a ter maior probabilidade de inadimplir novamente."
   ]
  },
  {
   "cell_type": "code",
   "execution_count": null,
   "id": "d3f2c789",
   "metadata": {},
   "outputs": [],
   "source": [
    "# PODE CONSERTAR ESSE CÓDIGO QUE ALGO DE ERRADO NÃO ESTÁ CERTO...\n",
    "\n",
    "# Ordena por cliente e data de emissão\n",
    "merged_dataset = merged_dataset.sort_values(by=['ID_CLIENTE', 'DATA_EMISSAO_DOCUMENTO'])\n",
    "\n",
    "# Cria coluna cumulativa de inadimplências\n",
    "merged_dataset['INADIMPLENCIAS_ANTERIORES'] = (\n",
    "    merged_dataset\n",
    "    .groupby('ID_CLIENTE')['TARGET_INADIMPLENCIA']\n",
    "    .cumsum()\n",
    "    .shift(fill_value=0)  # para não contar a linha atual, evitando data leakage\n",
    ")\n"
   ]
  },
  {
   "cell_type": "code",
   "execution_count": 46,
   "id": "d22e19a8",
   "metadata": {},
   "outputs": [
    {
     "data": {
      "application/vnd.microsoft.datawrangler.viewer.v0+json": {
       "columns": [
        {
         "name": "index",
         "rawType": "object",
         "type": "string"
        },
        {
         "name": "0",
         "rawType": "int64",
         "type": "integer"
        }
       ],
       "ref": "9a07fe2f-d941-4f26-ae1f-29d8f7c16283",
       "rows": [
        [
         "ID_CLIENTE",
         "0"
        ],
        [
         "SAFRA_REF",
         "0"
        ],
        [
         "DATA_EMISSAO_DOCUMENTO",
         "0"
        ],
        [
         "DATA_PAGAMENTO",
         "0"
        ],
        [
         "DATA_VENCIMENTO",
         "0"
        ],
        [
         "VALOR_A_PAGAR",
         "0"
        ],
        [
         "TAXA",
         "0"
        ],
        [
         "RENDA_MES_ANTERIOR",
         "0"
        ],
        [
         "NO_FUNCIONARIOS",
         "0"
        ],
        [
         "DATA_CADASTRO",
         "0"
        ],
        [
         "FLAG_PF",
         "0"
        ],
        [
         "SEGMENTO_INDUSTRIAL",
         "0"
        ],
        [
         "DOMINIO_EMAIL",
         "0"
        ],
        [
         "PORTE",
         "0"
        ],
        [
         "CEP_2_DIG",
         "0"
        ],
        [
         "DIAS_ATRASO",
         "0"
        ],
        [
         "TARGET_INADIMPLENCIA",
         "0"
        ],
        [
         "DIAS_ADIANTAMENTO",
         "0"
        ],
        [
         "TEMPO_DE_CASA_MESES",
         "0"
        ],
        [
         "PRAZO_PAGAMENTO_DIAS",
         "0"
        ],
        [
         "MES_SAFRA",
         "0"
        ],
        [
         "INADIMPLENCIAS_ANTERIORES",
         "0"
        ]
       ],
       "shape": {
        "columns": 1,
        "rows": 22
       }
      },
      "text/plain": [
       "ID_CLIENTE                   0\n",
       "SAFRA_REF                    0\n",
       "DATA_EMISSAO_DOCUMENTO       0\n",
       "DATA_PAGAMENTO               0\n",
       "DATA_VENCIMENTO              0\n",
       "VALOR_A_PAGAR                0\n",
       "TAXA                         0\n",
       "RENDA_MES_ANTERIOR           0\n",
       "NO_FUNCIONARIOS              0\n",
       "DATA_CADASTRO                0\n",
       "FLAG_PF                      0\n",
       "SEGMENTO_INDUSTRIAL          0\n",
       "DOMINIO_EMAIL                0\n",
       "PORTE                        0\n",
       "CEP_2_DIG                    0\n",
       "DIAS_ATRASO                  0\n",
       "TARGET_INADIMPLENCIA         0\n",
       "DIAS_ADIANTAMENTO            0\n",
       "TEMPO_DE_CASA_MESES          0\n",
       "PRAZO_PAGAMENTO_DIAS         0\n",
       "MES_SAFRA                    0\n",
       "INADIMPLENCIAS_ANTERIORES    0\n",
       "dtype: int64"
      ]
     },
     "execution_count": 46,
     "metadata": {},
     "output_type": "execute_result"
    }
   ],
   "source": [
    "merged_dataset.isnull().sum()"
   ]
  },
  {
   "cell_type": "markdown",
   "id": "f1779603",
   "metadata": {},
   "source": [
    "Criação da coluna ADIANTAMENTOS_ANTERIORES. Usar o histórico de adiantamentos como feature pode ser útil em modelos de inadimplência, pois clientes que pagam antes do vencimento tendem a apresentar menor risco, revelando disciplina financeira e previsibilidade de caixa. Para evitar **data leakage**, a contagem considera apenas os pagamentos realizados antes da data da cobrança analisada, sem utilizar informações futuras que estariam indisponíveis no momento da previsão.\n"
   ]
  },
  {
   "cell_type": "code",
   "execution_count": null,
   "id": "d88ccbc6",
   "metadata": {},
   "outputs": [],
   "source": [
    "# PODE CONSERTAR ESSE CÓDIGO QUE ALGO DE ERRADO NÃO ESTÁ CERTO...\n",
    "\n",
    "merged_dataset['ADIANTAMENTOS_ANTERIORES'] = (\n",
    "    merged_dataset\n",
    "    .groupby('ID_CLIENTE')['TARGET_INADIMPLENCIA']\n",
    "    .cumsum()\n",
    "    .shift(fill_value=0)  # para não contar a linha atual, evitando data leakage\n",
    ")\n"
   ]
  },
  {
   "cell_type": "markdown",
   "id": "73a8278b",
   "metadata": {},
   "source": [
    "Selecionando uma amostra para conferir se o que eu fiz funcionou corretamente "
   ]
  },
  {
   "cell_type": "code",
   "execution_count": 48,
   "id": "e06db60b",
   "metadata": {},
   "outputs": [
    {
     "data": {
      "application/vnd.microsoft.datawrangler.viewer.v0+json": {
       "columns": [
        {
         "name": "index",
         "rawType": "int64",
         "type": "integer"
        },
        {
         "name": "DATA_EMISSAO_DOCUMENTO",
         "rawType": "datetime64[ns]",
         "type": "datetime"
        },
        {
         "name": "DATA_VENCIMENTO",
         "rawType": "datetime64[ns]",
         "type": "datetime"
        },
        {
         "name": "DATA_PAGAMENTO",
         "rawType": "datetime64[ns]",
         "type": "datetime"
        },
        {
         "name": "DIAS_ADIANTAMENTO",
         "rawType": "int64",
         "type": "integer"
        },
        {
         "name": "ADIANTAMENTOS_ANTERIORES",
         "rawType": "int64",
         "type": "integer"
        },
        {
         "name": "INADIMPLENCIAS_ANTERIORES",
         "rawType": "int64",
         "type": "integer"
        },
        {
         "name": "TARGET_INADIMPLENCIA",
         "rawType": "int64",
         "type": "integer"
        }
       ],
       "ref": "34a2fea4-eb4b-430e-9ae1-719babaefea5",
       "rows": [
        [
         "0",
         "2018-09-04 00:00:00",
         "2018-09-24 00:00:00",
         "2018-09-24 00:00:00",
         "0",
         "0",
         "0",
         "0"
        ],
        [
         "1",
         "2018-09-06 00:00:00",
         "2018-09-24 00:00:00",
         "2018-09-24 00:00:00",
         "0",
         "0",
         "0",
         "0"
        ],
        [
         "2",
         "2018-09-09 00:00:00",
         "2018-09-25 00:00:00",
         "2018-09-25 00:00:00",
         "0",
         "0",
         "0",
         "0"
        ],
        [
         "3",
         "2018-09-11 00:00:00",
         "2018-09-27 00:00:00",
         "2018-09-27 00:00:00",
         "0",
         "0",
         "0",
         "0"
        ],
        [
         "4",
         "2018-09-17 00:00:00",
         "2018-10-03 00:00:00",
         "2018-10-03 00:00:00",
         "0",
         "0",
         "0",
         "0"
        ],
        [
         "5",
         "2018-09-20 00:00:00",
         "2018-10-08 00:00:00",
         "2018-10-08 00:00:00",
         "0",
         "0",
         "0",
         "0"
        ],
        [
         "6",
         "2018-09-23 00:00:00",
         "2018-10-15 00:00:00",
         "2018-10-15 00:00:00",
         "0",
         "0",
         "0",
         "0"
        ],
        [
         "7",
         "2018-09-24 00:00:00",
         "2018-10-15 00:00:00",
         "2018-10-15 00:00:00",
         "0",
         "0",
         "0",
         "0"
        ],
        [
         "8",
         "2018-09-27 00:00:00",
         "2018-10-17 00:00:00",
         "2018-10-17 00:00:00",
         "0",
         "0",
         "0",
         "0"
        ],
        [
         "9",
         "2018-09-28 00:00:00",
         "2018-10-16 00:00:00",
         "2018-10-16 00:00:00",
         "0",
         "0",
         "0",
         "0"
        ],
        [
         "10",
         "2018-10-02 00:00:00",
         "2018-11-05 00:00:00",
         "2018-11-05 00:00:00",
         "0",
         "0",
         "0",
         "0"
        ],
        [
         "11",
         "2018-10-13 00:00:00",
         "2018-10-30 00:00:00",
         "2018-10-30 00:00:00",
         "0",
         "0",
         "0",
         "0"
        ],
        [
         "12",
         "2018-10-15 00:00:00",
         "2018-10-31 00:00:00",
         "2018-10-31 00:00:00",
         "0",
         "0",
         "0",
         "0"
        ],
        [
         "13",
         "2018-10-17 00:00:00",
         "2018-11-06 00:00:00",
         "2018-11-06 00:00:00",
         "0",
         "0",
         "0",
         "0"
        ],
        [
         "14",
         "2018-10-17 00:00:00",
         "2018-11-06 00:00:00",
         "2018-11-06 00:00:00",
         "0",
         "0",
         "0",
         "0"
        ],
        [
         "15",
         "2018-10-23 00:00:00",
         "2018-11-08 00:00:00",
         "2018-11-08 00:00:00",
         "0",
         "0",
         "0",
         "0"
        ],
        [
         "16",
         "2018-11-01 00:00:00",
         "2018-11-19 00:00:00",
         "2018-11-19 00:00:00",
         "0",
         "0",
         "0",
         "0"
        ],
        [
         "17",
         "2018-11-02 00:00:00",
         "2018-11-21 00:00:00",
         "2018-11-21 00:00:00",
         "0",
         "0",
         "0",
         "0"
        ],
        [
         "18",
         "2018-11-09 00:00:00",
         "2018-11-27 00:00:00",
         "2018-11-27 00:00:00",
         "0",
         "0",
         "0",
         "0"
        ],
        [
         "19",
         "2018-11-12 00:00:00",
         "2018-11-28 00:00:00",
         "2018-11-28 00:00:00",
         "0",
         "0",
         "0",
         "0"
        ],
        [
         "20",
         "2018-11-18 00:00:00",
         "2018-12-04 00:00:00",
         "2018-12-04 00:00:00",
         "0",
         "0",
         "0",
         "0"
        ],
        [
         "21",
         "2018-11-21 00:00:00",
         "2018-12-10 00:00:00",
         "2018-12-10 00:00:00",
         "0",
         "0",
         "0",
         "0"
        ],
        [
         "22",
         "2018-11-25 00:00:00",
         "2018-12-17 00:00:00",
         "2018-12-17 00:00:00",
         "0",
         "0",
         "0",
         "0"
        ],
        [
         "23",
         "2018-11-27 00:00:00",
         "2018-12-17 00:00:00",
         "2018-12-17 00:00:00",
         "0",
         "0",
         "0",
         "0"
        ],
        [
         "24",
         "2018-11-28 00:00:00",
         "2018-12-17 00:00:00",
         "2018-12-17 00:00:00",
         "0",
         "0",
         "0",
         "0"
        ],
        [
         "25",
         "2018-12-01 00:00:00",
         "2018-12-18 00:00:00",
         "2018-12-18 00:00:00",
         "0",
         "0",
         "0",
         "0"
        ],
        [
         "26",
         "2018-12-03 00:00:00",
         "2019-01-07 00:00:00",
         "2019-01-07 00:00:00",
         "0",
         "0",
         "0",
         "0"
        ],
        [
         "27",
         "2018-12-03 00:00:00",
         "2018-12-19 00:00:00",
         "2018-12-19 00:00:00",
         "0",
         "0",
         "0",
         "0"
        ],
        [
         "28",
         "2018-12-07 00:00:00",
         "2018-12-26 00:00:00",
         "2018-12-26 00:00:00",
         "0",
         "0",
         "0",
         "0"
        ],
        [
         "29",
         "2018-12-12 00:00:00",
         "2019-01-02 00:00:00",
         "2019-01-02 00:00:00",
         "0",
         "0",
         "0",
         "0"
        ],
        [
         "30",
         "2018-12-13 00:00:00",
         "2019-01-02 00:00:00",
         "2019-01-02 00:00:00",
         "0",
         "0",
         "0",
         "0"
        ],
        [
         "31",
         "2018-12-26 00:00:00",
         "2019-01-14 00:00:00",
         "2019-01-14 00:00:00",
         "0",
         "0",
         "0",
         "0"
        ],
        [
         "32",
         "2019-01-08 00:00:00",
         "2019-01-24 00:00:00",
         "2019-01-24 00:00:00",
         "0",
         "0",
         "0",
         "0"
        ],
        [
         "33",
         "2019-01-15 00:00:00",
         "2019-01-31 00:00:00",
         "2019-01-31 00:00:00",
         "0",
         "0",
         "0",
         "0"
        ],
        [
         "34",
         "2019-01-21 00:00:00",
         "2019-02-06 00:00:00",
         "2019-02-06 00:00:00",
         "0",
         "0",
         "0",
         "0"
        ],
        [
         "35",
         "2019-01-27 00:00:00",
         "2019-02-12 00:00:00",
         "2019-02-12 00:00:00",
         "0",
         "0",
         "0",
         "0"
        ],
        [
         "36",
         "2019-01-27 00:00:00",
         "2019-02-12 00:00:00",
         "2019-02-12 00:00:00",
         "0",
         "0",
         "0",
         "0"
        ],
        [
         "37",
         "2019-01-28 00:00:00",
         "2019-02-13 00:00:00",
         "2019-02-13 00:00:00",
         "0",
         "0",
         "0",
         "0"
        ],
        [
         "38",
         "2019-02-04 00:00:00",
         "2019-02-20 00:00:00",
         "2019-02-20 00:00:00",
         "0",
         "0",
         "0",
         "0"
        ],
        [
         "39",
         "2019-02-12 00:00:00",
         "2019-02-28 00:00:00",
         "2019-02-28 00:00:00",
         "0",
         "0",
         "0",
         "0"
        ],
        [
         "40",
         "2019-02-19 00:00:00",
         "2019-03-07 00:00:00",
         "2019-03-07 00:00:00",
         "0",
         "0",
         "0",
         "0"
        ],
        [
         "41",
         "2019-03-06 00:00:00",
         "2019-03-25 00:00:00",
         "2019-03-25 00:00:00",
         "0",
         "0",
         "0",
         "0"
        ],
        [
         "42",
         "2019-03-07 00:00:00",
         "2019-03-25 00:00:00",
         "2019-03-25 00:00:00",
         "0",
         "0",
         "0",
         "0"
        ],
        [
         "43",
         "2019-03-08 00:00:00",
         "2019-03-26 00:00:00",
         "2019-03-26 00:00:00",
         "0",
         "0",
         "0",
         "0"
        ],
        [
         "44",
         "2019-03-13 00:00:00",
         "2019-04-01 00:00:00",
         "2019-04-01 00:00:00",
         "0",
         "0",
         "0",
         "0"
        ],
        [
         "45",
         "2019-03-16 00:00:00",
         "2019-04-02 00:00:00",
         "2019-04-02 00:00:00",
         "0",
         "0",
         "0",
         "0"
        ],
        [
         "46",
         "2019-03-18 00:00:00",
         "2019-04-03 00:00:00",
         "2019-04-03 00:00:00",
         "0",
         "0",
         "0",
         "0"
        ],
        [
         "47",
         "2019-03-20 00:00:00",
         "2019-04-08 00:00:00",
         "2019-04-08 00:00:00",
         "0",
         "0",
         "0",
         "0"
        ],
        [
         "48",
         "2019-03-22 00:00:00",
         "2019-04-09 00:00:00",
         "2019-04-09 00:00:00",
         "0",
         "0",
         "0",
         "0"
        ],
        [
         "49",
         "2019-04-01 00:00:00",
         "2019-04-17 00:00:00",
         "2019-04-17 00:00:00",
         "0",
         "0",
         "0",
         "0"
        ]
       ],
       "shape": {
        "columns": 7,
        "rows": 236
       }
      },
      "text/html": [
       "<div>\n",
       "<style scoped>\n",
       "    .dataframe tbody tr th:only-of-type {\n",
       "        vertical-align: middle;\n",
       "    }\n",
       "\n",
       "    .dataframe tbody tr th {\n",
       "        vertical-align: top;\n",
       "    }\n",
       "\n",
       "    .dataframe thead th {\n",
       "        text-align: right;\n",
       "    }\n",
       "</style>\n",
       "<table border=\"1\" class=\"dataframe\">\n",
       "  <thead>\n",
       "    <tr style=\"text-align: right;\">\n",
       "      <th></th>\n",
       "      <th>DATA_EMISSAO_DOCUMENTO</th>\n",
       "      <th>DATA_VENCIMENTO</th>\n",
       "      <th>DATA_PAGAMENTO</th>\n",
       "      <th>DIAS_ADIANTAMENTO</th>\n",
       "      <th>ADIANTAMENTOS_ANTERIORES</th>\n",
       "      <th>INADIMPLENCIAS_ANTERIORES</th>\n",
       "      <th>TARGET_INADIMPLENCIA</th>\n",
       "    </tr>\n",
       "  </thead>\n",
       "  <tbody>\n",
       "    <tr>\n",
       "      <th>0</th>\n",
       "      <td>2018-09-04</td>\n",
       "      <td>2018-09-24</td>\n",
       "      <td>2018-09-24</td>\n",
       "      <td>0</td>\n",
       "      <td>0</td>\n",
       "      <td>0</td>\n",
       "      <td>0</td>\n",
       "    </tr>\n",
       "    <tr>\n",
       "      <th>1</th>\n",
       "      <td>2018-09-06</td>\n",
       "      <td>2018-09-24</td>\n",
       "      <td>2018-09-24</td>\n",
       "      <td>0</td>\n",
       "      <td>0</td>\n",
       "      <td>0</td>\n",
       "      <td>0</td>\n",
       "    </tr>\n",
       "    <tr>\n",
       "      <th>2</th>\n",
       "      <td>2018-09-09</td>\n",
       "      <td>2018-09-25</td>\n",
       "      <td>2018-09-25</td>\n",
       "      <td>0</td>\n",
       "      <td>0</td>\n",
       "      <td>0</td>\n",
       "      <td>0</td>\n",
       "    </tr>\n",
       "    <tr>\n",
       "      <th>3</th>\n",
       "      <td>2018-09-11</td>\n",
       "      <td>2018-09-27</td>\n",
       "      <td>2018-09-27</td>\n",
       "      <td>0</td>\n",
       "      <td>0</td>\n",
       "      <td>0</td>\n",
       "      <td>0</td>\n",
       "    </tr>\n",
       "    <tr>\n",
       "      <th>4</th>\n",
       "      <td>2018-09-17</td>\n",
       "      <td>2018-10-03</td>\n",
       "      <td>2018-10-03</td>\n",
       "      <td>0</td>\n",
       "      <td>0</td>\n",
       "      <td>0</td>\n",
       "      <td>0</td>\n",
       "    </tr>\n",
       "    <tr>\n",
       "      <th>...</th>\n",
       "      <td>...</td>\n",
       "      <td>...</td>\n",
       "      <td>...</td>\n",
       "      <td>...</td>\n",
       "      <td>...</td>\n",
       "      <td>...</td>\n",
       "      <td>...</td>\n",
       "    </tr>\n",
       "    <tr>\n",
       "      <th>231</th>\n",
       "      <td>2021-06-10</td>\n",
       "      <td>2021-06-28</td>\n",
       "      <td>2021-06-28</td>\n",
       "      <td>0</td>\n",
       "      <td>1</td>\n",
       "      <td>1</td>\n",
       "      <td>0</td>\n",
       "    </tr>\n",
       "    <tr>\n",
       "      <th>232</th>\n",
       "      <td>2021-06-11</td>\n",
       "      <td>2021-07-01</td>\n",
       "      <td>2021-07-01</td>\n",
       "      <td>0</td>\n",
       "      <td>1</td>\n",
       "      <td>1</td>\n",
       "      <td>0</td>\n",
       "    </tr>\n",
       "    <tr>\n",
       "      <th>233</th>\n",
       "      <td>2021-06-12</td>\n",
       "      <td>2021-06-29</td>\n",
       "      <td>2021-06-29</td>\n",
       "      <td>0</td>\n",
       "      <td>1</td>\n",
       "      <td>1</td>\n",
       "      <td>0</td>\n",
       "    </tr>\n",
       "    <tr>\n",
       "      <th>234</th>\n",
       "      <td>2021-06-14</td>\n",
       "      <td>2021-06-30</td>\n",
       "      <td>2021-06-30</td>\n",
       "      <td>0</td>\n",
       "      <td>1</td>\n",
       "      <td>1</td>\n",
       "      <td>0</td>\n",
       "    </tr>\n",
       "    <tr>\n",
       "      <th>235</th>\n",
       "      <td>2021-06-28</td>\n",
       "      <td>2021-07-14</td>\n",
       "      <td>2021-07-14</td>\n",
       "      <td>0</td>\n",
       "      <td>1</td>\n",
       "      <td>1</td>\n",
       "      <td>0</td>\n",
       "    </tr>\n",
       "  </tbody>\n",
       "</table>\n",
       "<p>236 rows × 7 columns</p>\n",
       "</div>"
      ],
      "text/plain": [
       "    DATA_EMISSAO_DOCUMENTO DATA_VENCIMENTO DATA_PAGAMENTO  DIAS_ADIANTAMENTO  \\\n",
       "0               2018-09-04      2018-09-24     2018-09-24                  0   \n",
       "1               2018-09-06      2018-09-24     2018-09-24                  0   \n",
       "2               2018-09-09      2018-09-25     2018-09-25                  0   \n",
       "3               2018-09-11      2018-09-27     2018-09-27                  0   \n",
       "4               2018-09-17      2018-10-03     2018-10-03                  0   \n",
       "..                     ...             ...            ...                ...   \n",
       "231             2021-06-10      2021-06-28     2021-06-28                  0   \n",
       "232             2021-06-11      2021-07-01     2021-07-01                  0   \n",
       "233             2021-06-12      2021-06-29     2021-06-29                  0   \n",
       "234             2021-06-14      2021-06-30     2021-06-30                  0   \n",
       "235             2021-06-28      2021-07-14     2021-07-14                  0   \n",
       "\n",
       "     ADIANTAMENTOS_ANTERIORES  INADIMPLENCIAS_ANTERIORES  TARGET_INADIMPLENCIA  \n",
       "0                           0                          0                     0  \n",
       "1                           0                          0                     0  \n",
       "2                           0                          0                     0  \n",
       "3                           0                          0                     0  \n",
       "4                           0                          0                     0  \n",
       "..                        ...                        ...                   ...  \n",
       "231                         1                          1                     0  \n",
       "232                         1                          1                     0  \n",
       "233                         1                          1                     0  \n",
       "234                         1                          1                     0  \n",
       "235                         1                          1                     0  \n",
       "\n",
       "[236 rows x 7 columns]"
      ]
     },
     "execution_count": 48,
     "metadata": {},
     "output_type": "execute_result"
    }
   ],
   "source": [
    "merged_dataset[merged_dataset['ID_CLIENTE']==8784237149961904][['DATA_EMISSAO_DOCUMENTO','DATA_VENCIMENTO','DATA_PAGAMENTO','DIAS_ADIANTAMENTO', 'ADIANTAMENTOS_ANTERIORES', 'INADIMPLENCIAS_ANTERIORES', 'TARGET_INADIMPLENCIA']]"
   ]
  },
  {
   "cell_type": "markdown",
   "id": "7126eef2",
   "metadata": {},
   "source": [
    "Analisando a correlação de todas as features com a variável target"
   ]
  },
  {
   "cell_type": "code",
   "execution_count": null,
   "id": "9694f90c",
   "metadata": {},
   "outputs": [],
   "source": [
    "#merged_dataset.to_csv('../data/processed/dataset_features_v1.csv', index=False)"
   ]
  },
  {
   "cell_type": "markdown",
   "id": "ad0ca442",
   "metadata": {},
   "source": [
    "# LIDAR COM A ALTA CARDINALIDADE DE CEP_2_DIG POSTERIORMENTE\n"
   ]
  }
 ],
 "metadata": {
  "kernelspec": {
   "display_name": "dra",
   "language": "python",
   "name": "python3"
  },
  "language_info": {
   "codemirror_mode": {
    "name": "ipython",
    "version": 3
   },
   "file_extension": ".py",
   "mimetype": "text/x-python",
   "name": "python",
   "nbconvert_exporter": "python",
   "pygments_lexer": "ipython3",
   "version": "3.10.18"
  }
 },
 "nbformat": 4,
 "nbformat_minor": 5
}
