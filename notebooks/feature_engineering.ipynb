{
 "cells": [
  {
   "cell_type": "markdown",
   "id": "dfa39266",
   "metadata": {},
   "source": [
    "# Engenharia de Atributos"
   ]
  },
  {
   "cell_type": "code",
   "execution_count": 31,
   "id": "f0961ae3",
   "metadata": {},
   "outputs": [],
   "source": [
    "import pandas as pd"
   ]
  },
  {
   "cell_type": "code",
   "execution_count": 32,
   "id": "ffe2c87a",
   "metadata": {},
   "outputs": [
    {
     "name": "stderr",
     "output_type": "stream",
     "text": [
      "/tmp/ipykernel_17860/3999875462.py:1: DtypeWarning: Columns (14) have mixed types. Specify dtype option on import or set low_memory=False.\n",
      "  merged_dataset = pd.read_csv('../data/processed/merged_dataset.csv')\n"
     ]
    }
   ],
   "source": [
    "merged_dataset = pd.read_csv('../data/processed/merged_dataset.csv')"
   ]
  },
  {
   "cell_type": "markdown",
   "id": "3c630884",
   "metadata": {},
   "source": [
    "Convertendo as variáveis para os seus respectivos tipos corretos "
   ]
  },
  {
   "cell_type": "code",
   "execution_count": 33,
   "id": "7c2b5d27",
   "metadata": {},
   "outputs": [],
   "source": [
    "# Conversão dos tipos numéricos e categóricos\n",
    "merged_dataset = merged_dataset.astype({\n",
    "    'ID_CLIENTE': 'int64',\n",
    "    'VALOR_A_PAGAR': 'float64',\n",
    "    'TAXA': 'float64',\n",
    "    'RENDA_MES_ANTERIOR': 'float64',\n",
    "    'NO_FUNCIONARIOS': 'int64',\n",
    "    'FLAG_PF': 'int', \n",
    "    'DIAS_ATRASO': 'Int64',\n",
    "    'TARGET_INADIMPLENCIA': 'int',\n",
    "    'SEGMENTO_INDUSTRIAL': 'category',\n",
    "    'PORTE': 'category',\n",
    "    'CEP_2_DIG': 'category',\n",
    "    'DIAS_ADIANTAMENTO': 'int',\n",
    "    'DOMINIO_EMAIL': 'category',\n",
    "})\n",
    "\n",
    "# Conversão de datas\n",
    "merged_dataset['SAFRA_REF'] = pd.to_datetime(\n",
    "    merged_dataset['SAFRA_REF'], format='%Y-%m-%d', errors='coerce'\n",
    ")\n",
    "\n",
    "merged_dataset['DATA_EMISSAO_DOCUMENTO'] = pd.to_datetime(\n",
    "    merged_dataset['DATA_EMISSAO_DOCUMENTO'], format='%Y-%m-%d', errors='coerce'\n",
    ")\n",
    "\n",
    "merged_dataset['DATA_PAGAMENTO'] = pd.to_datetime(\n",
    "    merged_dataset['DATA_PAGAMENTO'], format='%Y-%m-%d', errors='coerce'\n",
    ")\n",
    "\n",
    "merged_dataset['DATA_VENCIMENTO'] = pd.to_datetime(\n",
    "    merged_dataset['DATA_VENCIMENTO'], format='%Y-%m-%d', errors='coerce'\n",
    ")\n",
    "\n",
    "merged_dataset['DATA_CADASTRO'] = pd.to_datetime(\n",
    "    merged_dataset['DATA_CADASTRO'], format='%Y-%m-%d', errors='coerce'\n",
    ")\n"
   ]
  },
  {
   "cell_type": "markdown",
   "id": "4760d1a0",
   "metadata": {},
   "source": [
    "Criando novas features (pense nelas)"
   ]
  },
  {
   "cell_type": "markdown",
   "id": "7ae3f7b0",
   "metadata": {},
   "source": [
    "Calculando tempo de casa. Indica a relação dos clientes com a empresa, isso pode influenciar na inadimplência. Clientes mais velhos de casa têm menos tendência a inadimplência."
   ]
  },
  {
   "cell_type": "code",
   "execution_count": 34,
   "id": "98e19475",
   "metadata": {},
   "outputs": [],
   "source": [
    "merged_dataset['TEMPO_CADASTRO_PARA_VENCIMENTO'] = (merged_dataset['DATA_VENCIMENTO'] - merged_dataset['DATA_CADASTRO']).dt.days"
   ]
  },
  {
   "cell_type": "code",
   "execution_count": 35,
   "id": "bdd805fa",
   "metadata": {},
   "outputs": [],
   "source": [
    "merged_dataset['TEMPO_DE_CASA_MESES'] = merged_dataset['TEMPO_CADASTRO_PARA_VENCIMENTO'] // 30\n"
   ]
  },
  {
   "cell_type": "code",
   "execution_count": 36,
   "id": "0c6b57f5",
   "metadata": {},
   "outputs": [],
   "source": [
    "merged_dataset = merged_dataset.drop(columns='TEMPO_CADASTRO_PARA_VENCIMENTO')\n"
   ]
  },
  {
   "cell_type": "markdown",
   "id": "edb1b4e7",
   "metadata": {},
   "source": [
    "Prazo para o pagamento: ajuda a entender o tempo que o cliente teve para se preparar para o pagamento. Prazos curtos podem influenciar na inadimplência.\n",
    "\n"
   ]
  },
  {
   "cell_type": "code",
   "execution_count": 37,
   "id": "e11226b1",
   "metadata": {},
   "outputs": [],
   "source": [
    "merged_dataset['PRAZO_PAGAMENTO_DIAS'] = (merged_dataset['DATA_VENCIMENTO'] - merged_dataset['DATA_EMISSAO_DOCUMENTO']).dt.days"
   ]
  },
  {
   "cell_type": "markdown",
   "id": "2773f17f",
   "metadata": {},
   "source": [
    "Mês/Ano da SAFRA_REF: capta padrões sazonais (ex: pode haver mais inadimplência no final do ano ou em meses com impostos)."
   ]
  },
  {
   "cell_type": "code",
   "execution_count": 38,
   "id": "a0b3e077",
   "metadata": {},
   "outputs": [],
   "source": [
    "merged_dataset['MES_SAFRA'] = merged_dataset['SAFRA_REF'].dt.month\n",
    "#merged_dataset['ANO_SAFRA'] = merged_dataset['SAFRA_REF'].dt.year ano pode não influenciar muito\n"
   ]
  },
  {
   "cell_type": "markdown",
   "id": "541d56ab",
   "metadata": {},
   "source": [
    "Criação de **INADIMPLENCIAS_ANTERIORES**. Essa variável é um contador cumulativo do número de inadimplências passadas para cada cliente até o momento do pagamento atual. Ela captura o comportamento passado do cliente, que é um forte indicador de risco de inadimplência. Clientes reincidentes tendem a ter maior probabilidade de inadimplir novamente."
   ]
  },
  {
   "cell_type": "code",
   "execution_count": 39,
   "id": "d3f2c789",
   "metadata": {},
   "outputs": [],
   "source": [
    "# Ordena por cliente e data de emissão\n",
    "merged_dataset = merged_dataset.sort_values(by=['ID_CLIENTE', 'DATA_EMISSAO_DOCUMENTO'])\n",
    "\n",
    "# Cria coluna cumulativa de inadimplências\n",
    "merged_dataset['INADIMPLENCIAS_ANTERIORES'] = (\n",
    "    merged_dataset\n",
    "    .groupby('ID_CLIENTE')['TARGET_INADIMPLENCIA']\n",
    "    .cumsum()\n",
    "    .shift(fill_value=0)  # Para não contar a linha atual, evitando data leak\n",
    ")\n"
   ]
  },
  {
   "cell_type": "code",
   "execution_count": 40,
   "id": "be690bba",
   "metadata": {},
   "outputs": [
    {
     "data": {
      "application/vnd.microsoft.datawrangler.viewer.v0+json": {
       "columns": [
        {
         "name": "index",
         "rawType": "object",
         "type": "string"
        },
        {
         "name": "0",
         "rawType": "object",
         "type": "unknown"
        }
       ],
       "ref": "3fb8648f-9f47-4f53-9225-161a9d509cdd",
       "rows": [
        [
         "ID_CLIENTE",
         "int64"
        ],
        [
         "SAFRA_REF",
         "datetime64[ns]"
        ],
        [
         "DATA_EMISSAO_DOCUMENTO",
         "datetime64[ns]"
        ],
        [
         "DATA_PAGAMENTO",
         "datetime64[ns]"
        ],
        [
         "DATA_VENCIMENTO",
         "datetime64[ns]"
        ],
        [
         "VALOR_A_PAGAR",
         "float64"
        ],
        [
         "TAXA",
         "float64"
        ],
        [
         "RENDA_MES_ANTERIOR",
         "float64"
        ],
        [
         "NO_FUNCIONARIOS",
         "int64"
        ],
        [
         "DATA_CADASTRO",
         "datetime64[ns]"
        ],
        [
         "FLAG_PF",
         "int64"
        ],
        [
         "SEGMENTO_INDUSTRIAL",
         "category"
        ],
        [
         "DOMINIO_EMAIL",
         "category"
        ],
        [
         "PORTE",
         "category"
        ],
        [
         "CEP_2_DIG",
         "category"
        ],
        [
         "DIAS_ATRASO",
         "Int64"
        ],
        [
         "TARGET_INADIMPLENCIA",
         "int64"
        ],
        [
         "DIAS_ADIANTAMENTO",
         "int64"
        ],
        [
         "TEMPO_DE_CASA_MESES",
         "int64"
        ],
        [
         "PRAZO_PAGAMENTO_DIAS",
         "int64"
        ],
        [
         "MES_SAFRA",
         "int32"
        ],
        [
         "INADIMPLENCIAS_ANTERIORES",
         "int64"
        ]
       ],
       "shape": {
        "columns": 1,
        "rows": 22
       }
      },
      "text/plain": [
       "ID_CLIENTE                            int64\n",
       "SAFRA_REF                    datetime64[ns]\n",
       "DATA_EMISSAO_DOCUMENTO       datetime64[ns]\n",
       "DATA_PAGAMENTO               datetime64[ns]\n",
       "DATA_VENCIMENTO              datetime64[ns]\n",
       "VALOR_A_PAGAR                       float64\n",
       "TAXA                                float64\n",
       "RENDA_MES_ANTERIOR                  float64\n",
       "NO_FUNCIONARIOS                       int64\n",
       "DATA_CADASTRO                datetime64[ns]\n",
       "FLAG_PF                               int64\n",
       "SEGMENTO_INDUSTRIAL                category\n",
       "DOMINIO_EMAIL                      category\n",
       "PORTE                              category\n",
       "CEP_2_DIG                          category\n",
       "DIAS_ATRASO                           Int64\n",
       "TARGET_INADIMPLENCIA                  int64\n",
       "DIAS_ADIANTAMENTO                     int64\n",
       "TEMPO_DE_CASA_MESES                   int64\n",
       "PRAZO_PAGAMENTO_DIAS                  int64\n",
       "MES_SAFRA                             int32\n",
       "INADIMPLENCIAS_ANTERIORES             int64\n",
       "dtype: object"
      ]
     },
     "execution_count": 40,
     "metadata": {},
     "output_type": "execute_result"
    }
   ],
   "source": [
    "merged_dataset.dtypes"
   ]
  },
  {
   "cell_type": "code",
   "execution_count": 41,
   "id": "9694f90c",
   "metadata": {},
   "outputs": [],
   "source": [
    "merged_dataset.to_csv('../data/processed/dataset_features_v1.csv', index=False)"
   ]
  },
  {
   "cell_type": "markdown",
   "id": "ad0ca442",
   "metadata": {},
   "source": [
    "# LIDAR COM A ALTA CARDINALIDADE DE CEP_2_DIG POSTERIORMENTE\n"
   ]
  }
 ],
 "metadata": {
  "kernelspec": {
   "display_name": "dra",
   "language": "python",
   "name": "python3"
  },
  "language_info": {
   "codemirror_mode": {
    "name": "ipython",
    "version": 3
   },
   "file_extension": ".py",
   "mimetype": "text/x-python",
   "name": "python",
   "nbconvert_exporter": "python",
   "pygments_lexer": "ipython3",
   "version": "3.10.18"
  }
 },
 "nbformat": 4,
 "nbformat_minor": 5
}
