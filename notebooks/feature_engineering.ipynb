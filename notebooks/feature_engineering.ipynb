{
 "cells": [
  {
   "cell_type": "markdown",
   "id": "dfa39266",
   "metadata": {},
   "source": [
    "# Engenharia de Atributos"
   ]
  },
  {
   "cell_type": "code",
   "execution_count": 122,
   "id": "f0961ae3",
   "metadata": {},
   "outputs": [],
   "source": [
    "import pandas as pd"
   ]
  },
  {
   "cell_type": "code",
   "execution_count": 123,
   "id": "ffe2c87a",
   "metadata": {},
   "outputs": [
    {
     "name": "stderr",
     "output_type": "stream",
     "text": [
      "C:\\Users\\Matheus\\AppData\\Local\\Temp\\ipykernel_20812\\3999875462.py:1: DtypeWarning: Columns (14) have mixed types. Specify dtype option on import or set low_memory=False.\n",
      "  merged_dataset = pd.read_csv('../data/processed/merged_dataset.csv')\n"
     ]
    }
   ],
   "source": [
    "merged_dataset = pd.read_csv('../data/processed/merged_dataset.csv')"
   ]
  },
  {
   "cell_type": "markdown",
   "id": "3c630884",
   "metadata": {},
   "source": [
    "Convertendo as variáveis para os seus respectivos tipos corretos "
   ]
  },
  {
   "cell_type": "code",
   "execution_count": 124,
   "id": "7c2b5d27",
   "metadata": {},
   "outputs": [],
   "source": [
    "# Conversão dos tipos numéricos e categóricos\n",
    "merged_dataset = merged_dataset.astype({\n",
    "    'ID_CLIENTE': 'int64',\n",
    "    'VALOR_A_PAGAR': 'float64',\n",
    "    'TAXA': 'float64',\n",
    "    'RENDA_MES_ANTERIOR': 'float64',\n",
    "    'NO_FUNCIONARIOS': 'int64',\n",
    "    'FLAG_PF': 'int', \n",
    "    'DIAS_ATRASO': 'Int64',\n",
    "    'TARGET_INADIMPLENCIA': 'int',\n",
    "    'SEGMENTO_INDUSTRIAL': 'category',\n",
    "    'PORTE': 'category',\n",
    "    'CEP_2_DIG': 'category',\n",
    "    'DIAS_ADIANTAMENTO': 'int',\n",
    "    'DOMINIO_EMAIL': 'category',\n",
    "})\n",
    "\n",
    "# Conversão de datas\n",
    "merged_dataset['SAFRA_REF'] = pd.to_datetime(\n",
    "    merged_dataset['SAFRA_REF'], format='%Y-%m-%d', errors='coerce'\n",
    ")\n",
    "\n",
    "merged_dataset['DATA_EMISSAO_DOCUMENTO'] = pd.to_datetime(\n",
    "    merged_dataset['DATA_EMISSAO_DOCUMENTO'], format='%Y-%m-%d', errors='coerce'\n",
    ")\n",
    "\n",
    "merged_dataset['DATA_PAGAMENTO'] = pd.to_datetime(\n",
    "    merged_dataset['DATA_PAGAMENTO'], format='%Y-%m-%d', errors='coerce'\n",
    ")\n",
    "\n",
    "merged_dataset['DATA_VENCIMENTO'] = pd.to_datetime(\n",
    "    merged_dataset['DATA_VENCIMENTO'], format='%Y-%m-%d', errors='coerce'\n",
    ")\n",
    "\n",
    "merged_dataset['DATA_CADASTRO'] = pd.to_datetime(\n",
    "    merged_dataset['DATA_CADASTRO'], format='%Y-%m-%d', errors='coerce'\n",
    ")\n"
   ]
  },
  {
   "cell_type": "markdown",
   "id": "4760d1a0",
   "metadata": {},
   "source": [
    "Criando novas features (pense nelas)"
   ]
  },
  {
   "cell_type": "markdown",
   "id": "7ae3f7b0",
   "metadata": {},
   "source": [
    "Calculando tempo de casa. Indica a relação dos clientes com a empresa, isso pode influenciar na inadimplência. Clientes mais velhos de casa têm menos tendência a inadimplência."
   ]
  },
  {
   "cell_type": "code",
   "execution_count": 125,
   "id": "98e19475",
   "metadata": {},
   "outputs": [],
   "source": [
    "merged_dataset['TEMPO_CADASTRO_PARA_VENCIMENTO'] = (merged_dataset['DATA_VENCIMENTO'] - merged_dataset['DATA_CADASTRO']).dt.days"
   ]
  },
  {
   "cell_type": "code",
   "execution_count": 126,
   "id": "bdd805fa",
   "metadata": {},
   "outputs": [],
   "source": [
    "merged_dataset['TEMPO_DE_CASA_MESES'] = merged_dataset['TEMPO_CADASTRO_PARA_VENCIMENTO'] // 30\n"
   ]
  },
  {
   "cell_type": "code",
   "execution_count": 127,
   "id": "0c6b57f5",
   "metadata": {},
   "outputs": [],
   "source": [
    "merged_dataset = merged_dataset.drop(columns='TEMPO_CADASTRO_PARA_VENCIMENTO')\n"
   ]
  },
  {
   "cell_type": "markdown",
   "id": "edb1b4e7",
   "metadata": {},
   "source": [
    "Prazo para o pagamento: ajuda a entender o tempo que o cliente teve para se preparar para o pagamento. Prazos curtos podem influenciar na inadimplência.\n",
    "\n"
   ]
  },
  {
   "cell_type": "code",
   "execution_count": 128,
   "id": "e11226b1",
   "metadata": {},
   "outputs": [],
   "source": [
    "merged_dataset['PRAZO_PAGAMENTO_DIAS'] = (merged_dataset['DATA_VENCIMENTO'] - merged_dataset['DATA_EMISSAO_DOCUMENTO']).dt.days"
   ]
  },
  {
   "cell_type": "markdown",
   "id": "2773f17f",
   "metadata": {},
   "source": [
    "Mês/Ano da SAFRA_REF: capta padrões sazonais (ex: pode haver mais inadimplência no final do ano ou em meses com impostos)."
   ]
  },
  {
   "cell_type": "code",
   "execution_count": 129,
   "id": "a0b3e077",
   "metadata": {},
   "outputs": [],
   "source": [
    "merged_dataset['MES_SAFRA'] = merged_dataset['SAFRA_REF'].dt.month\n",
    "merged_dataset['ANO_SAFRA'] = merged_dataset['SAFRA_REF'].dt.year\n"
   ]
  },
  {
   "cell_type": "markdown",
   "id": "541d56ab",
   "metadata": {},
   "source": [
    "Criação de **INADIMPLENCIAS_ANTERIORES**. Essa variável é um contador cumulativo do número de inadimplências passadas para cada cliente até o momento do pagamento atual. Ela captura o comportamento passado do cliente, que é um forte indicador de risco de inadimplência. Clientes reincidentes tendem a ter maior probabilidade de inadimplir novamente."
   ]
  },
  {
   "cell_type": "code",
   "execution_count": 130,
   "id": "d3f2c789",
   "metadata": {},
   "outputs": [],
   "source": [
    "# Ordena por cliente e data de emissão\n",
    "merged_dataset = merged_dataset.sort_values(by=['ID_CLIENTE', 'DATA_EMISSAO_DOCUMENTO'])\n",
    "\n",
    "# Cria coluna cumulativa de inadimplências\n",
    "merged_dataset['INADIMPLENCIAS_ANTERIORES'] = (\n",
    "    merged_dataset\n",
    "    .groupby('ID_CLIENTE')['TARGET_INADIMPLENCIA']\n",
    "    .cumsum()\n",
    "    .shift(fill_value=0)  # Para não contar a linha atual\n",
    ")\n"
   ]
  },
  {
   "cell_type": "code",
   "execution_count": 131,
   "id": "be690bba",
   "metadata": {},
   "outputs": [
    {
     "data": {
      "application/vnd.microsoft.datawrangler.viewer.v0+json": {
       "columns": [
        {
         "name": "index",
         "rawType": "object",
         "type": "string"
        },
        {
         "name": "0",
         "rawType": "object",
         "type": "unknown"
        }
       ],
       "ref": "315cde15-c0d3-42b1-b949-8d9bf9fbd2e3",
       "rows": [
        [
         "ID_CLIENTE",
         "int64"
        ],
        [
         "SAFRA_REF",
         "datetime64[ns]"
        ],
        [
         "DATA_EMISSAO_DOCUMENTO",
         "datetime64[ns]"
        ],
        [
         "DATA_PAGAMENTO",
         "datetime64[ns]"
        ],
        [
         "DATA_VENCIMENTO",
         "datetime64[ns]"
        ],
        [
         "VALOR_A_PAGAR",
         "float64"
        ],
        [
         "TAXA",
         "float64"
        ],
        [
         "RENDA_MES_ANTERIOR",
         "float64"
        ],
        [
         "NO_FUNCIONARIOS",
         "int64"
        ],
        [
         "DATA_CADASTRO",
         "datetime64[ns]"
        ],
        [
         "FLAG_PF",
         "int64"
        ],
        [
         "SEGMENTO_INDUSTRIAL",
         "category"
        ],
        [
         "DOMINIO_EMAIL",
         "category"
        ],
        [
         "PORTE",
         "category"
        ],
        [
         "CEP_2_DIG",
         "category"
        ],
        [
         "DIAS_ATRASO",
         "Int64"
        ],
        [
         "TARGET_INADIMPLENCIA",
         "int64"
        ],
        [
         "DIAS_ADIANTAMENTO",
         "int64"
        ],
        [
         "TEMPO_DE_CASA_MESES",
         "int64"
        ],
        [
         "PRAZO_PAGAMENTO_DIAS",
         "int64"
        ],
        [
         "MES_SAFRA",
         "int32"
        ],
        [
         "ANO_SAFRA",
         "int32"
        ],
        [
         "INADIMPLENCIAS_ANTERIORES",
         "int64"
        ]
       ],
       "shape": {
        "columns": 1,
        "rows": 23
       }
      },
      "text/plain": [
       "ID_CLIENTE                            int64\n",
       "SAFRA_REF                    datetime64[ns]\n",
       "DATA_EMISSAO_DOCUMENTO       datetime64[ns]\n",
       "DATA_PAGAMENTO               datetime64[ns]\n",
       "DATA_VENCIMENTO              datetime64[ns]\n",
       "VALOR_A_PAGAR                       float64\n",
       "TAXA                                float64\n",
       "RENDA_MES_ANTERIOR                  float64\n",
       "NO_FUNCIONARIOS                       int64\n",
       "DATA_CADASTRO                datetime64[ns]\n",
       "FLAG_PF                               int64\n",
       "SEGMENTO_INDUSTRIAL                category\n",
       "DOMINIO_EMAIL                      category\n",
       "PORTE                              category\n",
       "CEP_2_DIG                          category\n",
       "DIAS_ATRASO                           Int64\n",
       "TARGET_INADIMPLENCIA                  int64\n",
       "DIAS_ADIANTAMENTO                     int64\n",
       "TEMPO_DE_CASA_MESES                   int64\n",
       "PRAZO_PAGAMENTO_DIAS                  int64\n",
       "MES_SAFRA                             int32\n",
       "ANO_SAFRA                             int32\n",
       "INADIMPLENCIAS_ANTERIORES             int64\n",
       "dtype: object"
      ]
     },
     "execution_count": 131,
     "metadata": {},
     "output_type": "execute_result"
    }
   ],
   "source": [
    "merged_dataset.dtypes"
   ]
  },
  {
   "cell_type": "code",
   "execution_count": 132,
   "id": "bfe03ff3",
   "metadata": {},
   "outputs": [
    {
     "data": {
      "application/vnd.microsoft.datawrangler.viewer.v0+json": {
       "columns": [
        {
         "name": "index",
         "rawType": "int64",
         "type": "integer"
        },
        {
         "name": "ID_CLIENTE",
         "rawType": "int64",
         "type": "integer"
        },
        {
         "name": "DATA_EMISSAO_DOCUMENTO",
         "rawType": "datetime64[ns]",
         "type": "datetime"
        },
        {
         "name": "SAFRA_REF",
         "rawType": "datetime64[ns]",
         "type": "datetime"
        },
        {
         "name": "RENDA_MES_ANTERIOR",
         "rawType": "float64",
         "type": "float"
        }
       ],
       "ref": "5ba0160e-d217-4d40-ac3c-73d154b6ceb8",
       "rows": [
        [
         "0",
         "8784237149961904",
         "2018-09-04 00:00:00",
         "2018-09-01 00:00:00",
         "300502.0"
        ],
        [
         "1",
         "8784237149961904",
         "2018-09-06 00:00:00",
         "2018-09-01 00:00:00",
         "300502.0"
        ],
        [
         "2",
         "8784237149961904",
         "2018-09-09 00:00:00",
         "2018-09-01 00:00:00",
         "300502.0"
        ],
        [
         "3",
         "8784237149961904",
         "2018-09-11 00:00:00",
         "2018-09-01 00:00:00",
         "300502.0"
        ],
        [
         "4",
         "8784237149961904",
         "2018-09-17 00:00:00",
         "2018-09-01 00:00:00",
         "300502.0"
        ],
        [
         "5",
         "8784237149961904",
         "2018-09-20 00:00:00",
         "2018-09-01 00:00:00",
         "300502.0"
        ],
        [
         "6",
         "8784237149961904",
         "2018-09-23 00:00:00",
         "2018-09-01 00:00:00",
         "300502.0"
        ],
        [
         "7",
         "8784237149961904",
         "2018-09-24 00:00:00",
         "2018-09-01 00:00:00",
         "300502.0"
        ],
        [
         "8",
         "8784237149961904",
         "2018-09-27 00:00:00",
         "2018-09-01 00:00:00",
         "300502.0"
        ],
        [
         "9",
         "8784237149961904",
         "2018-09-28 00:00:00",
         "2018-09-01 00:00:00",
         "300502.0"
        ],
        [
         "10",
         "8784237149961904",
         "2018-10-02 00:00:00",
         "2018-10-01 00:00:00",
         "499238.0"
        ],
        [
         "11",
         "8784237149961904",
         "2018-10-13 00:00:00",
         "2018-10-01 00:00:00",
         "499238.0"
        ],
        [
         "12",
         "8784237149961904",
         "2018-10-15 00:00:00",
         "2018-10-01 00:00:00",
         "499238.0"
        ],
        [
         "13",
         "8784237149961904",
         "2018-10-17 00:00:00",
         "2018-10-01 00:00:00",
         "499238.0"
        ],
        [
         "14",
         "8784237149961904",
         "2018-10-17 00:00:00",
         "2018-10-01 00:00:00",
         "499238.0"
        ],
        [
         "15",
         "8784237149961904",
         "2018-10-23 00:00:00",
         "2018-10-01 00:00:00",
         "499238.0"
        ],
        [
         "16",
         "8784237149961904",
         "2018-11-01 00:00:00",
         "2018-11-01 00:00:00",
         "256117.0"
        ],
        [
         "17",
         "8784237149961904",
         "2018-11-02 00:00:00",
         "2018-11-01 00:00:00",
         "256117.0"
        ],
        [
         "18",
         "8784237149961904",
         "2018-11-09 00:00:00",
         "2018-11-01 00:00:00",
         "256117.0"
        ],
        [
         "19",
         "8784237149961904",
         "2018-11-12 00:00:00",
         "2018-11-01 00:00:00",
         "256117.0"
        ],
        [
         "20",
         "8784237149961904",
         "2018-11-18 00:00:00",
         "2018-11-01 00:00:00",
         "256117.0"
        ],
        [
         "21",
         "8784237149961904",
         "2018-11-21 00:00:00",
         "2018-11-01 00:00:00",
         "256117.0"
        ],
        [
         "22",
         "8784237149961904",
         "2018-11-25 00:00:00",
         "2018-11-01 00:00:00",
         "256117.0"
        ],
        [
         "23",
         "8784237149961904",
         "2018-11-27 00:00:00",
         "2018-11-01 00:00:00",
         "256117.0"
        ],
        [
         "24",
         "8784237149961904",
         "2018-11-28 00:00:00",
         "2018-11-01 00:00:00",
         "256117.0"
        ],
        [
         "25",
         "8784237149961904",
         "2018-12-01 00:00:00",
         "2018-12-01 00:00:00",
         "433897.0"
        ],
        [
         "26",
         "8784237149961904",
         "2018-12-03 00:00:00",
         "2018-12-01 00:00:00",
         "433897.0"
        ],
        [
         "27",
         "8784237149961904",
         "2018-12-03 00:00:00",
         "2018-12-01 00:00:00",
         "433897.0"
        ],
        [
         "28",
         "8784237149961904",
         "2018-12-07 00:00:00",
         "2018-12-01 00:00:00",
         "433897.0"
        ],
        [
         "29",
         "8784237149961904",
         "2018-12-12 00:00:00",
         "2018-12-01 00:00:00",
         "433897.0"
        ],
        [
         "30",
         "8784237149961904",
         "2018-12-13 00:00:00",
         "2018-12-01 00:00:00",
         "433897.0"
        ],
        [
         "31",
         "8784237149961904",
         "2018-12-26 00:00:00",
         "2018-12-01 00:00:00",
         "433897.0"
        ],
        [
         "32",
         "8784237149961904",
         "2019-01-08 00:00:00",
         "2019-01-01 00:00:00",
         "370549.0"
        ],
        [
         "33",
         "8784237149961904",
         "2019-01-15 00:00:00",
         "2019-01-01 00:00:00",
         "370549.0"
        ],
        [
         "34",
         "8784237149961904",
         "2019-01-21 00:00:00",
         "2019-01-01 00:00:00",
         "370549.0"
        ],
        [
         "35",
         "8784237149961904",
         "2019-01-27 00:00:00",
         "2019-01-01 00:00:00",
         "370549.0"
        ],
        [
         "36",
         "8784237149961904",
         "2019-01-27 00:00:00",
         "2019-01-01 00:00:00",
         "370549.0"
        ],
        [
         "37",
         "8784237149961904",
         "2019-01-28 00:00:00",
         "2019-01-01 00:00:00",
         "370549.0"
        ],
        [
         "38",
         "8784237149961904",
         "2019-02-04 00:00:00",
         "2019-02-01 00:00:00",
         "437759.0"
        ],
        [
         "39",
         "8784237149961904",
         "2019-02-12 00:00:00",
         "2019-02-01 00:00:00",
         "437759.0"
        ],
        [
         "40",
         "8784237149961904",
         "2019-02-19 00:00:00",
         "2019-02-01 00:00:00",
         "437759.0"
        ],
        [
         "41",
         "8784237149961904",
         "2019-03-06 00:00:00",
         "2019-03-01 00:00:00",
         "476666.0"
        ],
        [
         "42",
         "8784237149961904",
         "2019-03-07 00:00:00",
         "2019-03-01 00:00:00",
         "476666.0"
        ],
        [
         "43",
         "8784237149961904",
         "2019-03-08 00:00:00",
         "2019-03-01 00:00:00",
         "476666.0"
        ],
        [
         "44",
         "8784237149961904",
         "2019-03-13 00:00:00",
         "2019-03-01 00:00:00",
         "476666.0"
        ],
        [
         "45",
         "8784237149961904",
         "2019-03-16 00:00:00",
         "2019-03-01 00:00:00",
         "476666.0"
        ],
        [
         "46",
         "8784237149961904",
         "2019-03-18 00:00:00",
         "2019-03-01 00:00:00",
         "476666.0"
        ],
        [
         "47",
         "8784237149961904",
         "2019-03-20 00:00:00",
         "2019-03-01 00:00:00",
         "476666.0"
        ],
        [
         "48",
         "8784237149961904",
         "2019-03-22 00:00:00",
         "2019-03-01 00:00:00",
         "476666.0"
        ],
        [
         "49",
         "8784237149961904",
         "2019-04-01 00:00:00",
         "2019-04-01 00:00:00",
         "320319.0"
        ]
       ],
       "shape": {
        "columns": 4,
        "rows": 72490
       }
      },
      "text/html": [
       "<div>\n",
       "<style scoped>\n",
       "    .dataframe tbody tr th:only-of-type {\n",
       "        vertical-align: middle;\n",
       "    }\n",
       "\n",
       "    .dataframe tbody tr th {\n",
       "        vertical-align: top;\n",
       "    }\n",
       "\n",
       "    .dataframe thead th {\n",
       "        text-align: right;\n",
       "    }\n",
       "</style>\n",
       "<table border=\"1\" class=\"dataframe\">\n",
       "  <thead>\n",
       "    <tr style=\"text-align: right;\">\n",
       "      <th></th>\n",
       "      <th>ID_CLIENTE</th>\n",
       "      <th>DATA_EMISSAO_DOCUMENTO</th>\n",
       "      <th>SAFRA_REF</th>\n",
       "      <th>RENDA_MES_ANTERIOR</th>\n",
       "    </tr>\n",
       "  </thead>\n",
       "  <tbody>\n",
       "    <tr>\n",
       "      <th>0</th>\n",
       "      <td>8784237149961904</td>\n",
       "      <td>2018-09-04</td>\n",
       "      <td>2018-09-01</td>\n",
       "      <td>300502.0</td>\n",
       "    </tr>\n",
       "    <tr>\n",
       "      <th>1</th>\n",
       "      <td>8784237149961904</td>\n",
       "      <td>2018-09-06</td>\n",
       "      <td>2018-09-01</td>\n",
       "      <td>300502.0</td>\n",
       "    </tr>\n",
       "    <tr>\n",
       "      <th>2</th>\n",
       "      <td>8784237149961904</td>\n",
       "      <td>2018-09-09</td>\n",
       "      <td>2018-09-01</td>\n",
       "      <td>300502.0</td>\n",
       "    </tr>\n",
       "    <tr>\n",
       "      <th>3</th>\n",
       "      <td>8784237149961904</td>\n",
       "      <td>2018-09-11</td>\n",
       "      <td>2018-09-01</td>\n",
       "      <td>300502.0</td>\n",
       "    </tr>\n",
       "    <tr>\n",
       "      <th>4</th>\n",
       "      <td>8784237149961904</td>\n",
       "      <td>2018-09-17</td>\n",
       "      <td>2018-09-01</td>\n",
       "      <td>300502.0</td>\n",
       "    </tr>\n",
       "    <tr>\n",
       "      <th>...</th>\n",
       "      <td>...</td>\n",
       "      <td>...</td>\n",
       "      <td>...</td>\n",
       "      <td>...</td>\n",
       "    </tr>\n",
       "    <tr>\n",
       "      <th>72485</th>\n",
       "      <td>9206030810342980458</td>\n",
       "      <td>2021-05-16</td>\n",
       "      <td>2021-05-01</td>\n",
       "      <td>256133.0</td>\n",
       "    </tr>\n",
       "    <tr>\n",
       "      <th>72486</th>\n",
       "      <td>9206030810342980458</td>\n",
       "      <td>2021-05-23</td>\n",
       "      <td>2021-05-01</td>\n",
       "      <td>256133.0</td>\n",
       "    </tr>\n",
       "    <tr>\n",
       "      <th>72487</th>\n",
       "      <td>9206030810342980458</td>\n",
       "      <td>2021-06-16</td>\n",
       "      <td>2021-06-01</td>\n",
       "      <td>463963.0</td>\n",
       "    </tr>\n",
       "    <tr>\n",
       "      <th>72488</th>\n",
       "      <td>9206030810342980458</td>\n",
       "      <td>2021-06-18</td>\n",
       "      <td>2021-06-01</td>\n",
       "      <td>463963.0</td>\n",
       "    </tr>\n",
       "    <tr>\n",
       "      <th>72489</th>\n",
       "      <td>9206030810342980458</td>\n",
       "      <td>2021-06-24</td>\n",
       "      <td>2021-06-01</td>\n",
       "      <td>463963.0</td>\n",
       "    </tr>\n",
       "  </tbody>\n",
       "</table>\n",
       "<p>72490 rows × 4 columns</p>\n",
       "</div>"
      ],
      "text/plain": [
       "                ID_CLIENTE DATA_EMISSAO_DOCUMENTO  SAFRA_REF  \\\n",
       "0         8784237149961904             2018-09-04 2018-09-01   \n",
       "1         8784237149961904             2018-09-06 2018-09-01   \n",
       "2         8784237149961904             2018-09-09 2018-09-01   \n",
       "3         8784237149961904             2018-09-11 2018-09-01   \n",
       "4         8784237149961904             2018-09-17 2018-09-01   \n",
       "...                    ...                    ...        ...   \n",
       "72485  9206030810342980458             2021-05-16 2021-05-01   \n",
       "72486  9206030810342980458             2021-05-23 2021-05-01   \n",
       "72487  9206030810342980458             2021-06-16 2021-06-01   \n",
       "72488  9206030810342980458             2021-06-18 2021-06-01   \n",
       "72489  9206030810342980458             2021-06-24 2021-06-01   \n",
       "\n",
       "       RENDA_MES_ANTERIOR  \n",
       "0                300502.0  \n",
       "1                300502.0  \n",
       "2                300502.0  \n",
       "3                300502.0  \n",
       "4                300502.0  \n",
       "...                   ...  \n",
       "72485            256133.0  \n",
       "72486            256133.0  \n",
       "72487            463963.0  \n",
       "72488            463963.0  \n",
       "72489            463963.0  \n",
       "\n",
       "[72490 rows x 4 columns]"
      ]
     },
     "execution_count": 132,
     "metadata": {},
     "output_type": "execute_result"
    }
   ],
   "source": [
    "merged_dataset[['ID_CLIENTE', 'DATA_EMISSAO_DOCUMENTO', 'SAFRA_REF', 'RENDA_MES_ANTERIOR']]"
   ]
  },
  {
   "cell_type": "markdown",
   "id": "26b2bd96",
   "metadata": {},
   "source": [
    "Pré-processamento dos dados para o modelo "
   ]
  },
  {
   "cell_type": "markdown",
   "id": "80bed537",
   "metadata": {},
   "source": [
    "Colunas a serem removidas:\n",
    "\n",
    "- ID_CLIENTE: funciona como um identificador, não possui informação útil para predição.\n",
    "- DATA_EMISSAO_DOCUMENTO, DATA_PAGAMENTO, DATA_VENCIMENTO, DATA_CADASTRO, SAFRA_REF: São datas brutas. Foram transformadas em variáveis derivadas.\n",
    "\n",
    "\n",
    "Colunas categóricas a serem tratadas: \n",
    "- SEGMENTO_INDUSTRIAL, PORTE, CEP_2_DIG, DOMINIO_EMAIL: aplicar One-Hot Encoding \n",
    "\n"
   ]
  },
  {
   "cell_type": "markdown",
   "id": "ad0ca442",
   "metadata": {},
   "source": [
    "# LIDAR COM A ALTA CARDINALIDADE DE CEP_2_DIG POSTERIORMENTE\n"
   ]
  },
  {
   "cell_type": "markdown",
   "id": "0a1a84e9",
   "metadata": {},
   "source": [
    "Aplicando o pré-processamento "
   ]
  },
  {
   "cell_type": "code",
   "execution_count": 133,
   "id": "ab8f7264",
   "metadata": {},
   "outputs": [],
   "source": [
    "# Eliminar colunas irrelevantes\n",
    "cols_drop = [\n",
    "    'ID_CLIENTE', 'DATA_EMISSAO_DOCUMENTO', 'DATA_PAGAMENTO',\n",
    "    'DATA_VENCIMENTO', 'DATA_CADASTRO', 'SAFRA_REF', 'CEP_2_DIG',\n",
    "    'DIAS_ATRASO', 'DIAS_ADIANTAMENTO' # Colunas que só são conhecidas depois do treinamento\n",
    "]\n",
    "\n",
    "df = merged_dataset.drop(columns=cols_drop)\n",
    "\n",
    "\n",
    "# Aplicando One-Hot Encoding em variáveis categóricas de baixa cardinalidade\n",
    "df = pd.get_dummies(df, columns=['SEGMENTO_INDUSTRIAL', 'PORTE', 'DOMINIO_EMAIL'], drop_first=True)\n",
    "\n",
    "X = df.drop(columns='TARGET_INADIMPLENCIA')\n",
    "y = df['TARGET_INADIMPLENCIA']"
   ]
  },
  {
   "cell_type": "code",
   "execution_count": 134,
   "id": "0b80d0a7",
   "metadata": {},
   "outputs": [
    {
     "data": {
      "application/vnd.microsoft.datawrangler.viewer.v0+json": {
       "columns": [
        {
         "name": "index",
         "rawType": "int64",
         "type": "integer"
        },
        {
         "name": "VALOR_A_PAGAR",
         "rawType": "float64",
         "type": "float"
        },
        {
         "name": "TAXA",
         "rawType": "float64",
         "type": "float"
        },
        {
         "name": "RENDA_MES_ANTERIOR",
         "rawType": "float64",
         "type": "float"
        },
        {
         "name": "NO_FUNCIONARIOS",
         "rawType": "int64",
         "type": "integer"
        },
        {
         "name": "FLAG_PF",
         "rawType": "int64",
         "type": "integer"
        },
        {
         "name": "TEMPO_DE_CASA_MESES",
         "rawType": "int64",
         "type": "integer"
        },
        {
         "name": "PRAZO_PAGAMENTO_DIAS",
         "rawType": "int64",
         "type": "integer"
        },
        {
         "name": "MES_SAFRA",
         "rawType": "int32",
         "type": "integer"
        },
        {
         "name": "ANO_SAFRA",
         "rawType": "int32",
         "type": "integer"
        },
        {
         "name": "INADIMPLENCIAS_ANTERIORES",
         "rawType": "int64",
         "type": "integer"
        },
        {
         "name": "SEGMENTO_INDUSTRIAL_Indústria",
         "rawType": "bool",
         "type": "boolean"
        },
        {
         "name": "SEGMENTO_INDUSTRIAL_Serviços",
         "rawType": "bool",
         "type": "boolean"
        },
        {
         "name": "PORTE_MEDIO",
         "rawType": "bool",
         "type": "boolean"
        },
        {
         "name": "PORTE_PEQUENO",
         "rawType": "bool",
         "type": "boolean"
        },
        {
         "name": "DOMINIO_EMAIL_HOTMAIL",
         "rawType": "bool",
         "type": "boolean"
        },
        {
         "name": "DOMINIO_EMAIL_OUTROS",
         "rawType": "bool",
         "type": "boolean"
        },
        {
         "name": "DOMINIO_EMAIL_YAHOO",
         "rawType": "bool",
         "type": "boolean"
        }
       ],
       "ref": "3158ceb0-e942-417d-83d0-54e24d06d66a",
       "rows": [
        [
         "0",
         "59610.76",
         "5.99",
         "300502.0",
         "107",
         "0",
         "92",
         "20",
         "9",
         "2018",
         "0",
         "False",
         "False",
         "False",
         "True",
         "True",
         "False",
         "False"
        ],
        [
         "1",
         "39398.06",
         "5.99",
         "300502.0",
         "107",
         "0",
         "92",
         "18",
         "9",
         "2018",
         "0",
         "False",
         "False",
         "False",
         "True",
         "True",
         "False",
         "False"
        ],
        [
         "2",
         "55416.75",
         "5.99",
         "300502.0",
         "107",
         "0",
         "92",
         "16",
         "9",
         "2018",
         "0",
         "False",
         "False",
         "False",
         "True",
         "True",
         "False",
         "False"
        ],
        [
         "3",
         "11751.35",
         "5.99",
         "300502.0",
         "107",
         "0",
         "92",
         "16",
         "9",
         "2018",
         "0",
         "False",
         "False",
         "False",
         "True",
         "True",
         "False",
         "False"
        ],
        [
         "4",
         "35985.0",
         "5.99",
         "300502.0",
         "107",
         "0",
         "92",
         "16",
         "9",
         "2018",
         "0",
         "False",
         "False",
         "False",
         "True",
         "True",
         "False",
         "False"
        ],
        [
         "5",
         "52410.75",
         "5.99",
         "300502.0",
         "107",
         "0",
         "93",
         "18",
         "9",
         "2018",
         "0",
         "False",
         "False",
         "False",
         "True",
         "True",
         "False",
         "False"
        ],
        [
         "6",
         "97584.8",
         "5.99",
         "300502.0",
         "107",
         "0",
         "93",
         "22",
         "9",
         "2018",
         "0",
         "False",
         "False",
         "False",
         "True",
         "True",
         "False",
         "False"
        ],
        [
         "7",
         "98520.45",
         "5.99",
         "300502.0",
         "107",
         "0",
         "93",
         "21",
         "9",
         "2018",
         "0",
         "False",
         "False",
         "False",
         "True",
         "True",
         "False",
         "False"
        ],
        [
         "8",
         "90688.59",
         "5.99",
         "300502.0",
         "107",
         "0",
         "93",
         "20",
         "9",
         "2018",
         "0",
         "False",
         "False",
         "False",
         "True",
         "True",
         "False",
         "False"
        ],
        [
         "9",
         "98011.37",
         "5.99",
         "300502.0",
         "107",
         "0",
         "93",
         "18",
         "9",
         "2018",
         "0",
         "False",
         "False",
         "False",
         "True",
         "True",
         "False",
         "False"
        ],
        [
         "10",
         "945.6",
         "5.99",
         "499238.0",
         "98",
         "0",
         "94",
         "34",
         "10",
         "2018",
         "0",
         "False",
         "False",
         "False",
         "True",
         "True",
         "False",
         "False"
        ],
        [
         "11",
         "89264.3",
         "5.99",
         "499238.0",
         "98",
         "0",
         "93",
         "17",
         "10",
         "2018",
         "0",
         "False",
         "False",
         "False",
         "True",
         "True",
         "False",
         "False"
        ],
        [
         "12",
         "64259.4",
         "5.99",
         "499238.0",
         "98",
         "0",
         "93",
         "16",
         "10",
         "2018",
         "0",
         "False",
         "False",
         "False",
         "True",
         "True",
         "False",
         "False"
        ],
        [
         "13",
         "31709.6",
         "5.99",
         "499238.0",
         "98",
         "0",
         "94",
         "20",
         "10",
         "2018",
         "0",
         "False",
         "False",
         "False",
         "True",
         "True",
         "False",
         "False"
        ],
        [
         "14",
         "99243.5",
         "5.99",
         "499238.0",
         "98",
         "0",
         "94",
         "20",
         "10",
         "2018",
         "0",
         "False",
         "False",
         "False",
         "True",
         "True",
         "False",
         "False"
        ],
        [
         "15",
         "40089.5",
         "5.99",
         "499238.0",
         "98",
         "0",
         "94",
         "16",
         "10",
         "2018",
         "0",
         "False",
         "False",
         "False",
         "True",
         "True",
         "False",
         "False"
        ],
        [
         "16",
         "53852.65",
         "5.99",
         "256117.0",
         "104",
         "0",
         "94",
         "18",
         "11",
         "2018",
         "0",
         "False",
         "False",
         "False",
         "True",
         "True",
         "False",
         "False"
        ],
        [
         "17",
         "11828.0",
         "5.99",
         "256117.0",
         "104",
         "0",
         "94",
         "19",
         "11",
         "2018",
         "0",
         "False",
         "False",
         "False",
         "True",
         "True",
         "False",
         "False"
        ],
        [
         "18",
         "89997.95",
         "5.99",
         "256117.0",
         "104",
         "0",
         "94",
         "18",
         "11",
         "2018",
         "0",
         "False",
         "False",
         "False",
         "True",
         "True",
         "False",
         "False"
        ],
        [
         "19",
         "34929.0",
         "5.99",
         "256117.0",
         "104",
         "0",
         "94",
         "16",
         "11",
         "2018",
         "0",
         "False",
         "False",
         "False",
         "True",
         "True",
         "False",
         "False"
        ],
        [
         "20",
         "55873.35",
         "4.99",
         "256117.0",
         "104",
         "0",
         "95",
         "16",
         "11",
         "2018",
         "0",
         "False",
         "False",
         "False",
         "True",
         "True",
         "False",
         "False"
        ],
        [
         "21",
         "90768.45",
         "4.99",
         "256117.0",
         "104",
         "0",
         "95",
         "19",
         "11",
         "2018",
         "0",
         "False",
         "False",
         "False",
         "True",
         "True",
         "False",
         "False"
        ],
        [
         "22",
         "88720.85",
         "4.99",
         "256117.0",
         "104",
         "0",
         "95",
         "22",
         "11",
         "2018",
         "0",
         "False",
         "False",
         "False",
         "True",
         "True",
         "False",
         "False"
        ],
        [
         "23",
         "85615.0",
         "4.99",
         "256117.0",
         "104",
         "0",
         "95",
         "20",
         "11",
         "2018",
         "0",
         "False",
         "False",
         "False",
         "True",
         "True",
         "False",
         "False"
        ],
        [
         "24",
         "90116.0",
         "4.99",
         "256117.0",
         "104",
         "0",
         "95",
         "19",
         "11",
         "2018",
         "0",
         "False",
         "False",
         "False",
         "True",
         "True",
         "False",
         "False"
        ],
        [
         "25",
         "89637.05",
         "4.99",
         "433897.0",
         "105",
         "0",
         "95",
         "17",
         "12",
         "2018",
         "0",
         "False",
         "False",
         "False",
         "True",
         "True",
         "False",
         "False"
        ],
        [
         "26",
         "945.6",
         "4.99",
         "433897.0",
         "105",
         "0",
         "96",
         "35",
         "12",
         "2018",
         "0",
         "False",
         "False",
         "False",
         "True",
         "True",
         "False",
         "False"
        ],
        [
         "27",
         "85499.0",
         "4.99",
         "433897.0",
         "105",
         "0",
         "95",
         "16",
         "12",
         "2018",
         "0",
         "False",
         "False",
         "False",
         "True",
         "True",
         "False",
         "False"
        ],
        [
         "28",
         "48185.0",
         "4.99",
         "433897.0",
         "105",
         "0",
         "95",
         "19",
         "12",
         "2018",
         "0",
         "False",
         "False",
         "False",
         "True",
         "True",
         "False",
         "False"
        ],
        [
         "29",
         "61643.9",
         "4.99",
         "433897.0",
         "105",
         "0",
         "95",
         "21",
         "12",
         "2018",
         "0",
         "False",
         "False",
         "False",
         "True",
         "True",
         "False",
         "False"
        ],
        [
         "30",
         "70478.8",
         "4.99",
         "433897.0",
         "105",
         "0",
         "95",
         "20",
         "12",
         "2018",
         "0",
         "False",
         "False",
         "False",
         "True",
         "True",
         "False",
         "False"
        ],
        [
         "31",
         "83994.81",
         "11.99",
         "433897.0",
         "105",
         "0",
         "96",
         "19",
         "12",
         "2018",
         "0",
         "False",
         "False",
         "False",
         "True",
         "True",
         "False",
         "False"
        ],
        [
         "32",
         "55873.35",
         "11.99",
         "370549.0",
         "112",
         "0",
         "96",
         "16",
         "1",
         "2019",
         "0",
         "False",
         "False",
         "False",
         "True",
         "True",
         "False",
         "False"
        ],
        [
         "33",
         "11095.0",
         "11.99",
         "370549.0",
         "112",
         "0",
         "96",
         "16",
         "1",
         "2019",
         "0",
         "False",
         "False",
         "False",
         "True",
         "True",
         "False",
         "False"
        ],
        [
         "34",
         "81835.2",
         "5.99",
         "370549.0",
         "112",
         "0",
         "97",
         "16",
         "1",
         "2019",
         "0",
         "False",
         "False",
         "False",
         "True",
         "True",
         "False",
         "False"
        ],
        [
         "35",
         "32685.0",
         "5.99",
         "370549.0",
         "112",
         "0",
         "97",
         "16",
         "1",
         "2019",
         "0",
         "False",
         "False",
         "False",
         "True",
         "True",
         "False",
         "False"
        ],
        [
         "36",
         "25666.4",
         "5.99",
         "370549.0",
         "112",
         "0",
         "97",
         "16",
         "1",
         "2019",
         "0",
         "False",
         "False",
         "False",
         "True",
         "True",
         "False",
         "False"
        ],
        [
         "37",
         "83114.4",
         "5.99",
         "370549.0",
         "112",
         "0",
         "97",
         "16",
         "1",
         "2019",
         "0",
         "False",
         "False",
         "False",
         "True",
         "True",
         "False",
         "False"
        ],
        [
         "38",
         "71113.45",
         "5.99",
         "437759.0",
         "103",
         "0",
         "97",
         "16",
         "2",
         "2019",
         "0",
         "False",
         "False",
         "False",
         "True",
         "True",
         "False",
         "False"
        ],
        [
         "39",
         "12436.95",
         "5.99",
         "437759.0",
         "103",
         "0",
         "97",
         "16",
         "2",
         "2019",
         "0",
         "False",
         "False",
         "False",
         "True",
         "True",
         "False",
         "False"
        ],
        [
         "40",
         "30520.3",
         "8.99",
         "437759.0",
         "103",
         "0",
         "98",
         "16",
         "2",
         "2019",
         "0",
         "False",
         "False",
         "False",
         "True",
         "True",
         "False",
         "False"
        ],
        [
         "41",
         "99650.8",
         "8.99",
         "476666.0",
         "106",
         "0",
         "98",
         "19",
         "3",
         "2019",
         "0",
         "False",
         "False",
         "False",
         "True",
         "True",
         "False",
         "False"
        ],
        [
         "42",
         "24840.1",
         "8.99",
         "476666.0",
         "106",
         "0",
         "98",
         "18",
         "3",
         "2019",
         "0",
         "False",
         "False",
         "False",
         "True",
         "True",
         "False",
         "False"
        ],
        [
         "43",
         "24840.1",
         "8.99",
         "476666.0",
         "106",
         "0",
         "98",
         "18",
         "3",
         "2019",
         "0",
         "False",
         "False",
         "False",
         "True",
         "True",
         "False",
         "False"
        ],
        [
         "44",
         "94625.8",
         "8.99",
         "476666.0",
         "106",
         "0",
         "98",
         "19",
         "3",
         "2019",
         "0",
         "False",
         "False",
         "False",
         "True",
         "True",
         "False",
         "False"
        ],
        [
         "45",
         "11583.6",
         "8.99",
         "476666.0",
         "106",
         "0",
         "98",
         "17",
         "3",
         "2019",
         "0",
         "False",
         "False",
         "False",
         "True",
         "True",
         "False",
         "False"
        ],
        [
         "46",
         "48226.6",
         "6.99",
         "476666.0",
         "106",
         "0",
         "99",
         "16",
         "3",
         "2019",
         "0",
         "False",
         "False",
         "False",
         "True",
         "True",
         "False",
         "False"
        ],
        [
         "47",
         "74873.0",
         "6.99",
         "476666.0",
         "106",
         "0",
         "99",
         "19",
         "3",
         "2019",
         "0",
         "False",
         "False",
         "False",
         "True",
         "True",
         "False",
         "False"
        ],
        [
         "48",
         "48984.8",
         "6.99",
         "476666.0",
         "106",
         "0",
         "99",
         "18",
         "3",
         "2019",
         "0",
         "False",
         "False",
         "False",
         "True",
         "True",
         "False",
         "False"
        ],
        [
         "49",
         "51535.45",
         "6.99",
         "320319.0",
         "110",
         "0",
         "99",
         "16",
         "4",
         "2019",
         "0",
         "False",
         "False",
         "False",
         "True",
         "True",
         "False",
         "False"
        ]
       ],
       "shape": {
        "columns": 17,
        "rows": 72490
       }
      },
      "text/html": [
       "<div>\n",
       "<style scoped>\n",
       "    .dataframe tbody tr th:only-of-type {\n",
       "        vertical-align: middle;\n",
       "    }\n",
       "\n",
       "    .dataframe tbody tr th {\n",
       "        vertical-align: top;\n",
       "    }\n",
       "\n",
       "    .dataframe thead th {\n",
       "        text-align: right;\n",
       "    }\n",
       "</style>\n",
       "<table border=\"1\" class=\"dataframe\">\n",
       "  <thead>\n",
       "    <tr style=\"text-align: right;\">\n",
       "      <th></th>\n",
       "      <th>VALOR_A_PAGAR</th>\n",
       "      <th>TAXA</th>\n",
       "      <th>RENDA_MES_ANTERIOR</th>\n",
       "      <th>NO_FUNCIONARIOS</th>\n",
       "      <th>FLAG_PF</th>\n",
       "      <th>TEMPO_DE_CASA_MESES</th>\n",
       "      <th>PRAZO_PAGAMENTO_DIAS</th>\n",
       "      <th>MES_SAFRA</th>\n",
       "      <th>ANO_SAFRA</th>\n",
       "      <th>INADIMPLENCIAS_ANTERIORES</th>\n",
       "      <th>SEGMENTO_INDUSTRIAL_Indústria</th>\n",
       "      <th>SEGMENTO_INDUSTRIAL_Serviços</th>\n",
       "      <th>PORTE_MEDIO</th>\n",
       "      <th>PORTE_PEQUENO</th>\n",
       "      <th>DOMINIO_EMAIL_HOTMAIL</th>\n",
       "      <th>DOMINIO_EMAIL_OUTROS</th>\n",
       "      <th>DOMINIO_EMAIL_YAHOO</th>\n",
       "    </tr>\n",
       "  </thead>\n",
       "  <tbody>\n",
       "    <tr>\n",
       "      <th>0</th>\n",
       "      <td>59610.76</td>\n",
       "      <td>5.99</td>\n",
       "      <td>300502.0</td>\n",
       "      <td>107</td>\n",
       "      <td>0</td>\n",
       "      <td>92</td>\n",
       "      <td>20</td>\n",
       "      <td>9</td>\n",
       "      <td>2018</td>\n",
       "      <td>0</td>\n",
       "      <td>False</td>\n",
       "      <td>False</td>\n",
       "      <td>False</td>\n",
       "      <td>True</td>\n",
       "      <td>True</td>\n",
       "      <td>False</td>\n",
       "      <td>False</td>\n",
       "    </tr>\n",
       "    <tr>\n",
       "      <th>1</th>\n",
       "      <td>39398.06</td>\n",
       "      <td>5.99</td>\n",
       "      <td>300502.0</td>\n",
       "      <td>107</td>\n",
       "      <td>0</td>\n",
       "      <td>92</td>\n",
       "      <td>18</td>\n",
       "      <td>9</td>\n",
       "      <td>2018</td>\n",
       "      <td>0</td>\n",
       "      <td>False</td>\n",
       "      <td>False</td>\n",
       "      <td>False</td>\n",
       "      <td>True</td>\n",
       "      <td>True</td>\n",
       "      <td>False</td>\n",
       "      <td>False</td>\n",
       "    </tr>\n",
       "    <tr>\n",
       "      <th>2</th>\n",
       "      <td>55416.75</td>\n",
       "      <td>5.99</td>\n",
       "      <td>300502.0</td>\n",
       "      <td>107</td>\n",
       "      <td>0</td>\n",
       "      <td>92</td>\n",
       "      <td>16</td>\n",
       "      <td>9</td>\n",
       "      <td>2018</td>\n",
       "      <td>0</td>\n",
       "      <td>False</td>\n",
       "      <td>False</td>\n",
       "      <td>False</td>\n",
       "      <td>True</td>\n",
       "      <td>True</td>\n",
       "      <td>False</td>\n",
       "      <td>False</td>\n",
       "    </tr>\n",
       "    <tr>\n",
       "      <th>3</th>\n",
       "      <td>11751.35</td>\n",
       "      <td>5.99</td>\n",
       "      <td>300502.0</td>\n",
       "      <td>107</td>\n",
       "      <td>0</td>\n",
       "      <td>92</td>\n",
       "      <td>16</td>\n",
       "      <td>9</td>\n",
       "      <td>2018</td>\n",
       "      <td>0</td>\n",
       "      <td>False</td>\n",
       "      <td>False</td>\n",
       "      <td>False</td>\n",
       "      <td>True</td>\n",
       "      <td>True</td>\n",
       "      <td>False</td>\n",
       "      <td>False</td>\n",
       "    </tr>\n",
       "    <tr>\n",
       "      <th>4</th>\n",
       "      <td>35985.00</td>\n",
       "      <td>5.99</td>\n",
       "      <td>300502.0</td>\n",
       "      <td>107</td>\n",
       "      <td>0</td>\n",
       "      <td>92</td>\n",
       "      <td>16</td>\n",
       "      <td>9</td>\n",
       "      <td>2018</td>\n",
       "      <td>0</td>\n",
       "      <td>False</td>\n",
       "      <td>False</td>\n",
       "      <td>False</td>\n",
       "      <td>True</td>\n",
       "      <td>True</td>\n",
       "      <td>False</td>\n",
       "      <td>False</td>\n",
       "    </tr>\n",
       "    <tr>\n",
       "      <th>...</th>\n",
       "      <td>...</td>\n",
       "      <td>...</td>\n",
       "      <td>...</td>\n",
       "      <td>...</td>\n",
       "      <td>...</td>\n",
       "      <td>...</td>\n",
       "      <td>...</td>\n",
       "      <td>...</td>\n",
       "      <td>...</td>\n",
       "      <td>...</td>\n",
       "      <td>...</td>\n",
       "      <td>...</td>\n",
       "      <td>...</td>\n",
       "      <td>...</td>\n",
       "      <td>...</td>\n",
       "      <td>...</td>\n",
       "      <td>...</td>\n",
       "    </tr>\n",
       "    <tr>\n",
       "      <th>72485</th>\n",
       "      <td>107321.36</td>\n",
       "      <td>11.99</td>\n",
       "      <td>256133.0</td>\n",
       "      <td>109</td>\n",
       "      <td>0</td>\n",
       "      <td>192</td>\n",
       "      <td>16</td>\n",
       "      <td>5</td>\n",
       "      <td>2021</td>\n",
       "      <td>2</td>\n",
       "      <td>False</td>\n",
       "      <td>True</td>\n",
       "      <td>True</td>\n",
       "      <td>False</td>\n",
       "      <td>True</td>\n",
       "      <td>False</td>\n",
       "      <td>False</td>\n",
       "    </tr>\n",
       "    <tr>\n",
       "      <th>72486</th>\n",
       "      <td>38372.91</td>\n",
       "      <td>5.99</td>\n",
       "      <td>256133.0</td>\n",
       "      <td>109</td>\n",
       "      <td>0</td>\n",
       "      <td>192</td>\n",
       "      <td>16</td>\n",
       "      <td>5</td>\n",
       "      <td>2021</td>\n",
       "      <td>2</td>\n",
       "      <td>False</td>\n",
       "      <td>True</td>\n",
       "      <td>True</td>\n",
       "      <td>False</td>\n",
       "      <td>True</td>\n",
       "      <td>False</td>\n",
       "      <td>False</td>\n",
       "    </tr>\n",
       "    <tr>\n",
       "      <th>72487</th>\n",
       "      <td>43030.50</td>\n",
       "      <td>5.99</td>\n",
       "      <td>463963.0</td>\n",
       "      <td>105</td>\n",
       "      <td>0</td>\n",
       "      <td>193</td>\n",
       "      <td>16</td>\n",
       "      <td>6</td>\n",
       "      <td>2021</td>\n",
       "      <td>2</td>\n",
       "      <td>False</td>\n",
       "      <td>True</td>\n",
       "      <td>True</td>\n",
       "      <td>False</td>\n",
       "      <td>True</td>\n",
       "      <td>False</td>\n",
       "      <td>False</td>\n",
       "    </tr>\n",
       "    <tr>\n",
       "      <th>72488</th>\n",
       "      <td>107318.81</td>\n",
       "      <td>5.99</td>\n",
       "      <td>463963.0</td>\n",
       "      <td>105</td>\n",
       "      <td>0</td>\n",
       "      <td>193</td>\n",
       "      <td>17</td>\n",
       "      <td>6</td>\n",
       "      <td>2021</td>\n",
       "      <td>2</td>\n",
       "      <td>False</td>\n",
       "      <td>True</td>\n",
       "      <td>True</td>\n",
       "      <td>False</td>\n",
       "      <td>True</td>\n",
       "      <td>False</td>\n",
       "      <td>False</td>\n",
       "    </tr>\n",
       "    <tr>\n",
       "      <th>72489</th>\n",
       "      <td>50454.20</td>\n",
       "      <td>5.99</td>\n",
       "      <td>463963.0</td>\n",
       "      <td>105</td>\n",
       "      <td>0</td>\n",
       "      <td>193</td>\n",
       "      <td>18</td>\n",
       "      <td>6</td>\n",
       "      <td>2021</td>\n",
       "      <td>2</td>\n",
       "      <td>False</td>\n",
       "      <td>True</td>\n",
       "      <td>True</td>\n",
       "      <td>False</td>\n",
       "      <td>True</td>\n",
       "      <td>False</td>\n",
       "      <td>False</td>\n",
       "    </tr>\n",
       "  </tbody>\n",
       "</table>\n",
       "<p>72490 rows × 17 columns</p>\n",
       "</div>"
      ],
      "text/plain": [
       "       VALOR_A_PAGAR   TAXA  RENDA_MES_ANTERIOR  NO_FUNCIONARIOS  FLAG_PF  \\\n",
       "0           59610.76   5.99            300502.0              107        0   \n",
       "1           39398.06   5.99            300502.0              107        0   \n",
       "2           55416.75   5.99            300502.0              107        0   \n",
       "3           11751.35   5.99            300502.0              107        0   \n",
       "4           35985.00   5.99            300502.0              107        0   \n",
       "...              ...    ...                 ...              ...      ...   \n",
       "72485      107321.36  11.99            256133.0              109        0   \n",
       "72486       38372.91   5.99            256133.0              109        0   \n",
       "72487       43030.50   5.99            463963.0              105        0   \n",
       "72488      107318.81   5.99            463963.0              105        0   \n",
       "72489       50454.20   5.99            463963.0              105        0   \n",
       "\n",
       "       TEMPO_DE_CASA_MESES  PRAZO_PAGAMENTO_DIAS  MES_SAFRA  ANO_SAFRA  \\\n",
       "0                       92                    20          9       2018   \n",
       "1                       92                    18          9       2018   \n",
       "2                       92                    16          9       2018   \n",
       "3                       92                    16          9       2018   \n",
       "4                       92                    16          9       2018   \n",
       "...                    ...                   ...        ...        ...   \n",
       "72485                  192                    16          5       2021   \n",
       "72486                  192                    16          5       2021   \n",
       "72487                  193                    16          6       2021   \n",
       "72488                  193                    17          6       2021   \n",
       "72489                  193                    18          6       2021   \n",
       "\n",
       "       INADIMPLENCIAS_ANTERIORES  SEGMENTO_INDUSTRIAL_Indústria  \\\n",
       "0                              0                          False   \n",
       "1                              0                          False   \n",
       "2                              0                          False   \n",
       "3                              0                          False   \n",
       "4                              0                          False   \n",
       "...                          ...                            ...   \n",
       "72485                          2                          False   \n",
       "72486                          2                          False   \n",
       "72487                          2                          False   \n",
       "72488                          2                          False   \n",
       "72489                          2                          False   \n",
       "\n",
       "       SEGMENTO_INDUSTRIAL_Serviços  PORTE_MEDIO  PORTE_PEQUENO  \\\n",
       "0                             False        False           True   \n",
       "1                             False        False           True   \n",
       "2                             False        False           True   \n",
       "3                             False        False           True   \n",
       "4                             False        False           True   \n",
       "...                             ...          ...            ...   \n",
       "72485                          True         True          False   \n",
       "72486                          True         True          False   \n",
       "72487                          True         True          False   \n",
       "72488                          True         True          False   \n",
       "72489                          True         True          False   \n",
       "\n",
       "       DOMINIO_EMAIL_HOTMAIL  DOMINIO_EMAIL_OUTROS  DOMINIO_EMAIL_YAHOO  \n",
       "0                       True                 False                False  \n",
       "1                       True                 False                False  \n",
       "2                       True                 False                False  \n",
       "3                       True                 False                False  \n",
       "4                       True                 False                False  \n",
       "...                      ...                   ...                  ...  \n",
       "72485                   True                 False                False  \n",
       "72486                   True                 False                False  \n",
       "72487                   True                 False                False  \n",
       "72488                   True                 False                False  \n",
       "72489                   True                 False                False  \n",
       "\n",
       "[72490 rows x 17 columns]"
      ]
     },
     "execution_count": 134,
     "metadata": {},
     "output_type": "execute_result"
    }
   ],
   "source": [
    "X"
   ]
  },
  {
   "cell_type": "code",
   "execution_count": 135,
   "id": "97982490",
   "metadata": {},
   "outputs": [
    {
     "data": {
      "application/vnd.microsoft.datawrangler.viewer.v0+json": {
       "columns": [
        {
         "name": "index",
         "rawType": "int64",
         "type": "integer"
        },
        {
         "name": "TARGET_INADIMPLENCIA",
         "rawType": "int64",
         "type": "integer"
        }
       ],
       "ref": "7dad5a10-2d0e-4b6e-ac81-0c22a3b7382f",
       "rows": [
        [
         "0",
         "0"
        ],
        [
         "1",
         "0"
        ],
        [
         "2",
         "0"
        ],
        [
         "3",
         "0"
        ],
        [
         "4",
         "0"
        ],
        [
         "5",
         "0"
        ],
        [
         "6",
         "0"
        ],
        [
         "7",
         "0"
        ],
        [
         "8",
         "0"
        ],
        [
         "9",
         "0"
        ],
        [
         "10",
         "0"
        ],
        [
         "11",
         "0"
        ],
        [
         "12",
         "0"
        ],
        [
         "13",
         "0"
        ],
        [
         "14",
         "0"
        ],
        [
         "15",
         "0"
        ],
        [
         "16",
         "0"
        ],
        [
         "17",
         "0"
        ],
        [
         "18",
         "0"
        ],
        [
         "19",
         "0"
        ],
        [
         "20",
         "0"
        ],
        [
         "21",
         "0"
        ],
        [
         "22",
         "0"
        ],
        [
         "23",
         "0"
        ],
        [
         "24",
         "0"
        ],
        [
         "25",
         "0"
        ],
        [
         "26",
         "0"
        ],
        [
         "27",
         "0"
        ],
        [
         "28",
         "0"
        ],
        [
         "29",
         "0"
        ],
        [
         "30",
         "0"
        ],
        [
         "31",
         "0"
        ],
        [
         "32",
         "0"
        ],
        [
         "33",
         "0"
        ],
        [
         "34",
         "0"
        ],
        [
         "35",
         "0"
        ],
        [
         "36",
         "0"
        ],
        [
         "37",
         "0"
        ],
        [
         "38",
         "0"
        ],
        [
         "39",
         "0"
        ],
        [
         "40",
         "0"
        ],
        [
         "41",
         "0"
        ],
        [
         "42",
         "0"
        ],
        [
         "43",
         "0"
        ],
        [
         "44",
         "0"
        ],
        [
         "45",
         "0"
        ],
        [
         "46",
         "0"
        ],
        [
         "47",
         "0"
        ],
        [
         "48",
         "0"
        ],
        [
         "49",
         "0"
        ]
       ],
       "shape": {
        "columns": 1,
        "rows": 72490
       }
      },
      "text/plain": [
       "0        0\n",
       "1        0\n",
       "2        0\n",
       "3        0\n",
       "4        0\n",
       "        ..\n",
       "72485    0\n",
       "72486    0\n",
       "72487    0\n",
       "72488    0\n",
       "72489    0\n",
       "Name: TARGET_INADIMPLENCIA, Length: 72490, dtype: int64"
      ]
     },
     "execution_count": 135,
     "metadata": {},
     "output_type": "execute_result"
    }
   ],
   "source": [
    "y"
   ]
  },
  {
   "cell_type": "code",
   "execution_count": 138,
   "id": "d654fba4",
   "metadata": {},
   "outputs": [
    {
     "name": "stdout",
     "output_type": "stream",
     "text": [
      "Fitting 5 folds for each of 72 candidates, totalling 360 fits\n"
     ]
    },
    {
     "name": "stderr",
     "output_type": "stream",
     "text": [
      "c:\\Users\\Matheus\\Documents\\GitHub\\default-risk-analysis\\dra-env\\Lib\\site-packages\\xgboost\\training.py:183: UserWarning: [16:00:15] WARNING: C:\\actions-runner\\_work\\xgboost\\xgboost\\src\\learner.cc:738: \n",
      "Parameters: { \"use_label_encoder\" } are not used.\n",
      "\n",
      "  bst.update(dtrain, iteration=i, fobj=obj)\n"
     ]
    },
    {
     "name": "stdout",
     "output_type": "stream",
     "text": [
      "Melhores hiperparâmetros:\n",
      "{'colsample_bytree': 0.8, 'learning_rate': 0.1, 'max_depth': 7, 'n_estimators': 200, 'subsample': 0.8}\n",
      "\n",
      "Classification Report:\n",
      "              precision    recall  f1-score   support\n",
      "\n",
      "           0       0.99      0.95      0.97     13432\n",
      "           1       0.55      0.83      0.66      1066\n",
      "\n",
      "    accuracy                           0.94     14498\n",
      "   macro avg       0.77      0.89      0.81     14498\n",
      "weighted avg       0.95      0.94      0.94     14498\n",
      "\n",
      "\n",
      "Confusion Matrix:\n",
      "[[12696   736]\n",
      " [  179   887]]\n",
      "\n",
      "ROC AUC Score:\n",
      "0.9562053654737308\n"
     ]
    }
   ],
   "source": [
    "import pandas as pd\n",
    "from sklearn.model_selection import train_test_split, GridSearchCV, StratifiedKFold\n",
    "from xgboost import XGBClassifier\n",
    "from sklearn.metrics import classification_report, confusion_matrix, roc_auc_score\n",
    "\n",
    "# === 1. PREPARAÇÃO DOS DADOS ===\n",
    "# Supondo que você já tenha seu dataframe pronto com as variáveis transformadas\n",
    "# e a variável target separada como `TARGET_INADIMPLENCIA`\n",
    "\n",
    "# Exemplo:\n",
    "X = df.drop(columns=['TARGET_INADIMPLENCIA'])\n",
    "y = df['TARGET_INADIMPLENCIA']\n",
    "\n",
    "# Divisão treino/teste (estratificada por causa do desbalanceamento)\n",
    "X_train, X_test, y_train, y_test = train_test_split(\n",
    "    X, y, test_size=0.2, random_state=42, stratify=y\n",
    ")\n",
    "\n",
    "# === 2. DEFINIÇÃO DO MODELO BASE ===\n",
    "xgb_model = XGBClassifier(\n",
    "    objective='binary:logistic',\n",
    "    eval_metric='logloss',\n",
    "    use_label_encoder=False,\n",
    "    scale_pos_weight=(y_train == 0).sum() / (y_train == 1).sum(),  # Contornando o desbalanceamento\n",
    ")\n",
    "\n",
    "# === 3. GRID DE PARÂMETROS ===\n",
    "param_grid = {\n",
    "    'n_estimators': [100, 200],\n",
    "    'max_depth': [3, 5, 7],\n",
    "    'learning_rate': [0.01, 0.1, 0.2],\n",
    "    'subsample': [0.8, 1.0],\n",
    "    'colsample_bytree': [0.8, 1.0]\n",
    "}\n",
    "\n",
    "# === 4. VALIDAÇÃO CRUZADA ===\n",
    "cv = StratifiedKFold(n_splits=5, shuffle=True, random_state=42)\n",
    "\n",
    "grid = GridSearchCV(\n",
    "    estimator=xgb_model,\n",
    "    param_grid=param_grid,\n",
    "    cv=cv,\n",
    "    scoring='roc_auc',\n",
    "    n_jobs=-1,\n",
    "    verbose=3\n",
    ")\n",
    "\n",
    "# === 5. TREINAMENTO ===\n",
    "grid.fit(X_train, y_train)\n",
    "\n",
    "# === 6. RESULTADOS ===\n",
    "print(\"Melhores hiperparâmetros:\")\n",
    "print(grid.best_params_)\n",
    "\n",
    "best_model = grid.best_estimator_\n",
    "y_pred = best_model.predict(X_test)\n",
    "y_proba = best_model.predict_proba(X_test)[:, 1]\n",
    "\n",
    "print(\"\\nClassification Report:\")\n",
    "print(classification_report(y_test, y_pred))\n",
    "\n",
    "print(\"\\nConfusion Matrix:\")\n",
    "print(confusion_matrix(y_test, y_pred))\n",
    "\n",
    "print(\"\\nROC AUC Score:\")\n",
    "print(roc_auc_score(y_test, y_proba))\n"
   ]
  },
  {
   "cell_type": "code",
   "execution_count": 137,
   "id": "9694f90c",
   "metadata": {},
   "outputs": [],
   "source": [
    "\n",
    "#merged_dataset.to_csv('../data/processed/train_merged_dataset.csv', index=False)"
   ]
  }
 ],
 "metadata": {
  "kernelspec": {
   "display_name": "dra-env",
   "language": "python",
   "name": "python3"
  },
  "language_info": {
   "codemirror_mode": {
    "name": "ipython",
    "version": 3
   },
   "file_extension": ".py",
   "mimetype": "text/x-python",
   "name": "python",
   "nbconvert_exporter": "python",
   "pygments_lexer": "ipython3",
   "version": "3.12.3"
  }
 },
 "nbformat": 4,
 "nbformat_minor": 5
}
