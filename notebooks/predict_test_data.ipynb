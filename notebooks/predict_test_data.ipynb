{
 "cells": [
  {
   "cell_type": "markdown",
   "id": "af752d4e",
   "metadata": {},
   "source": [
    "# Previsão da probabilidade de inadimplência"
   ]
  },
  {
   "cell_type": "markdown",
   "id": "409c3e79",
   "metadata": {},
   "source": [
    "Este notebook tem como objetivo aplicar o modelo final treinado para estimar a probabilidade de inadimplência na base de dados que não possui a variável alvo. Nele, o modelo salvo é carregado, os dados inéditos passam pelos mesmos passos de pré-processamento utilizados no treinamento, e em seguida são geradas as previsões de probabilidade e classe. Por fim, os resultados são exportados para uso posterior. Vale lembrar que este notebook é voltado apenas para a etapa de inferência, ou seja, não realiza nenhum tipo de re-treinamento do modelo. **É necessário executar os notebooks anteriores para chegar até aqui**.\n"
   ]
  },
  {
   "cell_type": "code",
   "execution_count": 1,
   "id": "80ef8b90",
   "metadata": {},
   "outputs": [],
   "source": [
    "import pickle\n",
    "import pandas as pd\n",
    "\n",
    "from sklearn.model_selection import train_test_split\n",
    "from sklearn.ensemble import RandomForestClassifier\n",
    "from sklearn.preprocessing import StandardScaler\n",
    "from imblearn.pipeline import Pipeline as ImbPipeline\n",
    "from imblearn.over_sampling import SMOTE\n",
    "\n",
    "import warnings\n",
    "\n",
    "# remoção segura para deixar o log mais limpo\n",
    "warnings.filterwarnings(\"ignore\", message=\"X does not have valid feature names\") "
   ]
  },
  {
   "cell_type": "markdown",
   "id": "8cb5c981",
   "metadata": {},
   "source": [
    "Pré-processamento"
   ]
  },
  {
   "cell_type": "code",
   "execution_count": 2,
   "id": "4ea54afb",
   "metadata": {},
   "outputs": [],
   "source": [
    "# Leitura do dataset\n",
    "dataset_features_v1 = pd.read_csv('../data/processed/dataset_features_v1.csv')\n",
    "\n",
    "# Conversão dos tipos numéricos e categóricos\n",
    "dataset_features_v1 = dataset_features_v1.astype({\n",
    "    'ID_CLIENTE': 'int64',\n",
    "    'VALOR_A_PAGAR': 'float64',\n",
    "    'TAXA': 'float64',\n",
    "    'RENDA_MES_ANTERIOR': 'float64',\n",
    "    'NO_FUNCIONARIOS': 'int64',\n",
    "    'FLAG_PF': 'int64',\n",
    "    'DIAS_ATRASO': 'int64',\n",
    "    'TARGET_INADIMPLENCIA': 'int64',\n",
    "    'DIAS_ADIANTAMENTO': 'int64',\n",
    "    'TEMPO_DE_CASA_MESES': 'int64',\n",
    "    'PRAZO_PAGAMENTO_DIAS': 'int64',\n",
    "    'MES_SAFRA': 'int32',\n",
    "    'INADIMPLENCIAS_ANTERIORES': 'int64',\n",
    "    'SEGMENTO_INDUSTRIAL': 'category',\n",
    "    'DOMINIO_EMAIL': 'category',\n",
    "    'PORTE': 'category',\n",
    "    'CEP_2_DIG': 'category',\n",
    "})\n",
    "\n",
    "# Conversão de datas\n",
    "dataset_features_v1['SAFRA_REF'] = pd.to_datetime(\n",
    "    dataset_features_v1['SAFRA_REF'], format='%Y-%m-%d', errors='coerce'\n",
    ")\n",
    "\n",
    "dataset_features_v1['DATA_EMISSAO_DOCUMENTO'] = pd.to_datetime(\n",
    "    dataset_features_v1['DATA_EMISSAO_DOCUMENTO'], format='%Y-%m-%d', errors='coerce'\n",
    ")\n",
    "\n",
    "dataset_features_v1['DATA_PAGAMENTO'] = pd.to_datetime(\n",
    "    dataset_features_v1['DATA_PAGAMENTO'], format='%Y-%m-%d', errors='coerce'\n",
    ")\n",
    "\n",
    "dataset_features_v1['DATA_VENCIMENTO'] = pd.to_datetime(\n",
    "    dataset_features_v1['DATA_VENCIMENTO'], format='%Y-%m-%d', errors='coerce'\n",
    ")\n",
    "\n",
    "dataset_features_v1['DATA_CADASTRO'] = pd.to_datetime(\n",
    "    dataset_features_v1['DATA_CADASTRO'], format='%Y-%m-%d', errors='coerce'\n",
    ")\n",
    "\n",
    "# Eliminar colunas irrelevantes\n",
    "cols_drop = [\n",
    "    'ID_CLIENTE', 'DATA_EMISSAO_DOCUMENTO', 'DATA_PAGAMENTO',\n",
    "    'DATA_VENCIMENTO', 'DATA_CADASTRO', 'SAFRA_REF',\n",
    "    'DIAS_ATRASO', 'DIAS_ADIANTAMENTO', # Colunas que só são conhecidas depois do treinamento. São removidas para evitar data leakage\n",
    "]\n",
    "\n",
    "df = dataset_features_v1.drop(columns=cols_drop)\n",
    "\n",
    "\n",
    "# Aplicando One-Hot Encoding em variáveis categóricas de baixa cardinalidade\n",
    "df = pd.get_dummies(df, columns=['SEGMENTO_INDUSTRIAL', 'PORTE', 'DOMINIO_EMAIL'], drop_first=True)\n",
    "\n",
    "# Aplicando Frequency Encoding para variável com alta cardinalidade \n",
    "freq_map = df['CEP_2_DIG'].value_counts(normalize=True)\n",
    "df['CEP_2_DIG'] = df['CEP_2_DIG'].map(freq_map)\n",
    "\n",
    "# Importante não adionar a variável target, resultaria em data leackage e consequentemente overfitting\n",
    "X = df.drop(columns='TARGET_INADIMPLENCIA')\n",
    "y = df['TARGET_INADIMPLENCIA']\n",
    "\n",
    "# Divisão treino/teste\n",
    "X_train, X_test, y_train, y_test = train_test_split(\n",
    "    X, y, test_size=0.2, stratify=y, random_state=42\n",
    ")"
   ]
  },
  {
   "cell_type": "code",
   "execution_count": 3,
   "id": "7b773d69",
   "metadata": {},
   "outputs": [
    {
     "name": "stdout",
     "output_type": "stream",
     "text": [
      "\n",
      "=== Treinando o modelo final com todos os dados ===\n"
     ]
    },
    {
     "name": "stderr",
     "output_type": "stream",
     "text": [
      "[Parallel(n_jobs=-1)]: Using backend ThreadingBackend with 12 concurrent workers.\n",
      "[Parallel(n_jobs=-1)]: Done  26 tasks      | elapsed:    1.1s\n",
      "[Parallel(n_jobs=-1)]: Done 176 tasks      | elapsed:    5.7s\n",
      "[Parallel(n_jobs=-1)]: Done 300 out of 300 | elapsed:    9.7s finished\n"
     ]
    },
    {
     "name": "stdout",
     "output_type": "stream",
     "text": [
      "Modelo salvo em '../data/processed/final_random_forest_structure.pkl'\n"
     ]
    }
   ],
   "source": [
    "# === Hiperparâmetros ótimos para Random Forest ===\n",
    "melhores_params = {\n",
    "    'bootstrap': False,\n",
    "    'max_depth': None,\n",
    "    'max_features': 'log2',\n",
    "    'min_samples_leaf': 2,\n",
    "    'min_samples_split': 5,\n",
    "    'n_estimators': 300,\n",
    "    'random_state': 42,\n",
    "    'n_jobs': -1,\n",
    "    'verbose': 1  # ativa logs do Random Forest durante o fit\n",
    "}\n",
    "\n",
    "# === Pipeline com SMOTE + Escalonamento + Random Forest ===\n",
    "pipeline = ImbPipeline(steps=[\n",
    "    ('smote', SMOTE(random_state=42)),\n",
    "    ('scaler', StandardScaler()),\n",
    "    ('clf', RandomForestClassifier(**melhores_params))\n",
    "])\n",
    "\n",
    "# === Treinamento final no conjunto completo ===\n",
    "print(\"\\n=== Treinando o modelo final com todos os dados ===\")\n",
    "pipeline.fit(X, y)\n",
    "\n",
    "# === Salvar modelo treinado ===\n",
    "with open('../data/processed/final_random_forest_structure.pkl', 'wb') as f:\n",
    "    pickle.dump(pipeline, f)\n",
    "\n",
    "print(\"Modelo salvo em '../data/processed/final_random_forest_structure.pkl'\")\n"
   ]
  },
  {
   "cell_type": "markdown",
   "id": "5112f820",
   "metadata": {},
   "source": [
    "Persistindo dados de probabilidade de inadimplência"
   ]
  },
  {
   "cell_type": "code",
   "execution_count": 1,
   "id": "0cccba16",
   "metadata": {},
   "outputs": [
    {
     "name": "stdout",
     "output_type": "stream",
     "text": [
      "{'XGBoost': {'Melhores parâmetros': {'clf__colsample_bytree': 0.6, 'clf__gamma': 0, 'clf__learning_rate': 0.1, 'clf__max_depth': 10, 'clf__min_child_weight': 1, 'clf__n_estimators': 300, 'clf__subsample': 0.8}, 'ROC AUC (validação)': 0.9600524212116186, 'ROC AUC (teste)': 0.9685975419379949, 'Classification Report': {'0': {'precision': 0.977415124581087, 'recall': 0.981275599765945, 'f1-score': 0.97934155777794, 'support': 13672.0}, '1': {'precision': 0.7521781219748306, 'recall': 0.7148114075436982, 'f1-score': 0.7330188679245283, 'support': 1087.0}, 'accuracy': 0.9616505183278, 'macro avg': {'precision': 0.8647966232779588, 'recall': 0.8480435036548216, 'f1-score': 0.8561802128512341, 'support': 14759.0}, 'weighted avg': {'precision': 0.9608264246804838, 'recall': 0.9616505183278, 'f1-score': 0.9611998975116172, 'support': 14759.0}}, 'Confusion Matrix': [[13416, 256], [310, 777]]}, 'RandomForest': {'Melhores parâmetros': {'clf__bootstrap': False, 'clf__max_depth': None, 'clf__max_features': 'log2', 'clf__min_samples_leaf': 2, 'clf__min_samples_split': 5, 'clf__n_estimators': 300}, 'ROC AUC (validação)': 0.9624474982057096, 'ROC AUC (teste)': 0.9665197856684913, 'Classification Report': {'0': {'precision': 0.9799985293036253, 'recall': 0.9747659449970744, 'f1-score': 0.9773752337648051, 'support': 13672.0}, '1': {'precision': 0.7025862068965517, 'recall': 0.749770009199632, 'f1-score': 0.7254116599910992, 'support': 1087.0}, 'accuracy': 0.9581949996612237, 'macro avg': {'precision': 0.8412923681000886, 'recall': 0.8622679770983532, 'f1-score': 0.8513934468779522, 'support': 14759.0}, 'weighted avg': {'precision': 0.9595671183369955, 'recall': 0.9581949996612237, 'f1-score': 0.9588181225315224, 'support': 14759.0}}, 'Confusion Matrix': [[13327, 345], [272, 815]]}, 'LogisticRegression': {'Melhores parâmetros': {'clf__C': 10.0}, 'ROC AUC (validação)': 0.8597710862099304, 'ROC AUC (teste)': 0.8731729256283229, 'Classification Report': {'0': {'precision': 0.9774136027850896, 'recall': 0.8419397308367467, 'f1-score': 0.9046327950017683, 'support': 13672.0}, '1': {'precision': 0.27531857813547955, 'recall': 0.7552897884084636, 'f1-score': 0.4035389530597198, 'support': 1087.0}, 'accuracy': 0.8355579646317501, 'macro avg': {'precision': 0.6263660904602846, 'recall': 0.7986147596226052, 'f1-score': 0.654085874030744, 'support': 14759.0}, 'weighted avg': {'precision': 0.9257043208693686, 'recall': 0.8355579646317501, 'f1-score': 0.867727245425848, 'support': 14759.0}}, 'Confusion Matrix': [[11511, 2161], [266, 821]]}, 'LightGBM': {'Melhores parâmetros': {'clf__colsample_bytree': 0.6, 'clf__learning_rate': 0.1, 'clf__min_child_samples': 50, 'clf__n_estimators': 300, 'clf__num_leaves': 100, 'clf__subsample': 0.6}, 'ROC AUC (validação)': 0.9586362715208164, 'ROC AUC (teste)': 0.9687959073211093, 'Classification Report': {'0': {'precision': 0.9761092150170648, 'recall': 0.9831772966647162, 'f1-score': 0.9796305068687826, 'support': 13672.0}, '1': {'precision': 0.7672064777327935, 'recall': 0.6973321067157314, 'f1-score': 0.7306024096385542, 'support': 1087.0}, 'accuracy': 0.9621248052036045, 'macro avg': {'precision': 0.8716578463749292, 'recall': 0.8402547016902238, 'f1-score': 0.8551164582536683, 'support': 14759.0}, 'weighted avg': {'precision': 0.9607235333700697, 'recall': 0.9621248052036045, 'f1-score': 0.9612895934133142, 'support': 14759.0}}, 'Confusion Matrix': [[13442, 230], [329, 758]]}}\n"
     ]
    }
   ],
   "source": [
    "import pickle\n",
    "\n",
    "# Abrindo e carregando o conteúdo\n",
    "with open('../data/processed/resultados_grid_search_cv.pkl', 'rb') as arquivo:\n",
    "    objeto = pickle.load(arquivo)\n",
    "\n",
    "# Exibindo (opcional)\n",
    "print(objeto)\n"
   ]
  }
 ],
 "metadata": {
  "kernelspec": {
   "display_name": "dra",
   "language": "python",
   "name": "python3"
  },
  "language_info": {
   "codemirror_mode": {
    "name": "ipython",
    "version": 3
   },
   "file_extension": ".py",
   "mimetype": "text/x-python",
   "name": "python",
   "nbconvert_exporter": "python",
   "pygments_lexer": "ipython3",
   "version": "3.10.11"
  }
 },
 "nbformat": 4,
 "nbformat_minor": 5
}
