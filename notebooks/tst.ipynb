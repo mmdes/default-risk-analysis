{
 "cells": [
  {
   "cell_type": "code",
   "execution_count": 10,
   "id": "a73f2617",
   "metadata": {},
   "outputs": [],
   "source": [
    "hierarquia = [\n",
    "    ['FLAG_PF', 'PORTE', 'SEGMENTO_INDUSTRIAL', 'DOMINIO_EMAIL', 'CEP_2_DIG', 'TAXA'],\n",
    "    ['PORTE', 'SEGMENTO_INDUSTRIAL', 'DOMINIO_EMAIL', 'CEP_2_DIG', 'TAXA'],\n",
    "    ['FLAG_PF', 'SEGMENTO_INDUSTRIAL', 'DOMINIO_EMAIL', 'CEP_2_DIG', 'TAXA'],\n",
    "    ['FLAG_PF', 'PORTE', 'DOMINIO_EMAIL', 'CEP_2_DIG', 'TAXA'],\n",
    "    ['FLAG_PF', 'PORTE', 'SEGMENTO_INDUSTRIAL', 'CEP_2_DIG', 'TAXA'],\n",
    "    ['FLAG_PF', 'PORTE', 'SEGMENTO_INDUSTRIAL', 'DOMINIO_EMAIL', 'TAXA'],\n",
    "    ['FLAG_PF', 'PORTE', 'SEGMENTO_INDUSTRIAL', 'DOMINIO_EMAIL', 'CEP_2_DIG'],\n",
    "    ['FLAG_PF', 'PORTE', 'SEGMENTO_INDUSTRIAL', 'DOMINIO_EMAIL'],\n",
    "    ['FLAG_PF', 'PORTE', 'SEGMENTO_INDUSTRIAL', 'TAXA'],\n",
    "    ['FLAG_PF', 'PORTE', 'DOMINIO_EMAIL', 'CEP_2_DIG'],\n",
    "    ['FLAG_PF', 'SEGMENTO_INDUSTRIAL', 'DOMINIO_EMAIL', 'TAXA'],\n",
    "    ['PORTE', 'SEGMENTO_INDUSTRIAL', 'DOMINIO_EMAIL', 'TAXA'],\n",
    "    ['FLAG_PF', 'PORTE', 'SEGMENTO_INDUSTRIAL'],\n",
    "    ['FLAG_PF', 'PORTE', 'TAXA'],\n",
    "    ['FLAG_PF', 'SEGMENTO_INDUSTRIAL', 'TAXA'],\n",
    "    ['PORTE', 'SEGMENTO_INDUSTRIAL', 'TAXA'],\n",
    "    ['FLAG_PF', 'DOMINIO_EMAIL', 'CEP_2_DIG'],\n",
    "    ['FLAG_PF', 'PORTE'],\n",
    "    ['FLAG_PF', 'TAXA'],\n",
    "    ['FLAG_PF', 'SEGMENTO_INDUSTRIAL'],\n",
    "    ['PORTE', 'TAXA'],\n",
    "    ['SEGMENTO_INDUSTRIAL', 'TAXA'],\n",
    "    ['DOMINIO_EMAIL', 'CEP_2_DIG'],\n",
    "    ['FLAG_PF'],\n",
    "    ['PORTE'],\n",
    "    ['SEGMENTO_INDUSTRIAL'],\n",
    "    ['DOMINIO_EMAIL'],\n",
    "    ['CEP_2_DIG'],\n",
    "    ['TAXA']\n",
    "]"
   ]
  },
  {
   "cell_type": "code",
   "execution_count": 13,
   "id": "3547b2a6",
   "metadata": {},
   "outputs": [
    {
     "name": "stdout",
     "output_type": "stream",
     "text": [
      "['FLAG_PF', 'PORTE', 'SEGMENTO_INDUSTRIAL', 'DOMINIO_EMAIL', 'TAXA']\n",
      "['PORTE', 'SEGMENTO_INDUSTRIAL', 'DOMINIO_EMAIL', 'TAXA']\n",
      "['FLAG_PF', 'SEGMENTO_INDUSTRIAL', 'DOMINIO_EMAIL', 'TAXA']\n",
      "['FLAG_PF', 'PORTE', 'DOMINIO_EMAIL', 'TAXA']\n",
      "['FLAG_PF', 'PORTE', 'SEGMENTO_INDUSTRIAL', 'TAXA']\n",
      "['FLAG_PF', 'PORTE', 'SEGMENTO_INDUSTRIAL', 'DOMINIO_EMAIL', 'TAXA']\n",
      "['FLAG_PF', 'PORTE', 'SEGMENTO_INDUSTRIAL', 'DOMINIO_EMAIL']\n",
      "['FLAG_PF', 'PORTE', 'SEGMENTO_INDUSTRIAL', 'DOMINIO_EMAIL']\n",
      "['FLAG_PF', 'PORTE', 'SEGMENTO_INDUSTRIAL', 'TAXA']\n",
      "['FLAG_PF', 'PORTE', 'DOMINIO_EMAIL']\n",
      "['FLAG_PF', 'SEGMENTO_INDUSTRIAL', 'DOMINIO_EMAIL', 'TAXA']\n",
      "['PORTE', 'SEGMENTO_INDUSTRIAL', 'DOMINIO_EMAIL', 'TAXA']\n",
      "['FLAG_PF', 'PORTE', 'SEGMENTO_INDUSTRIAL']\n",
      "['FLAG_PF', 'PORTE', 'TAXA']\n",
      "['FLAG_PF', 'SEGMENTO_INDUSTRIAL', 'TAXA']\n",
      "['PORTE', 'SEGMENTO_INDUSTRIAL', 'TAXA']\n",
      "['FLAG_PF', 'DOMINIO_EMAIL']\n",
      "['FLAG_PF', 'PORTE']\n",
      "['FLAG_PF', 'TAXA']\n",
      "['FLAG_PF', 'SEGMENTO_INDUSTRIAL']\n",
      "['PORTE', 'TAXA']\n",
      "['SEGMENTO_INDUSTRIAL', 'TAXA']\n",
      "['DOMINIO_EMAIL']\n",
      "['FLAG_PF']\n",
      "['PORTE']\n",
      "['SEGMENTO_INDUSTRIAL']\n",
      "['DOMINIO_EMAIL']\n",
      "['TAXA']\n"
     ]
    }
   ],
   "source": [
    "coluna = \"CEP_2_DIG\"\n",
    "estrategia = 'median'\n",
    "\n",
    "hierar = hierarquia.copy()\n",
    "\n",
    "hierar = [\n",
    "    [col for col in grupo if col != coluna]\n",
    "    for grupo in hierarquia\n",
    "    if any(col != coluna for col in grupo)  # garante que restou algo no grupo\n",
    "]\n",
    "\n",
    "\n",
    "\n",
    "\n",
    "for item in hierar:\n",
    "    print(item)"
   ]
  },
  {
   "cell_type": "code",
   "execution_count": 14,
   "id": "c802fc0d",
   "metadata": {},
   "outputs": [
    {
     "name": "stdout",
     "output_type": "stream",
     "text": [
      "Imputando coluna: FLAG_PF com estratégia: mode\n"
     ]
    },
    {
     "ename": "NameError",
     "evalue": "name 'imputacao_hierarquica' is not defined",
     "output_type": "error",
     "traceback": [
      "\u001b[1;31m---------------------------------------------------------------------------\u001b[0m",
      "\u001b[1;31mNameError\u001b[0m                                 Traceback (most recent call last)",
      "Cell \u001b[1;32mIn[14], line 22\u001b[0m\n\u001b[0;32m     14\u001b[0m hierar \u001b[38;5;241m=\u001b[39m [\n\u001b[0;32m     15\u001b[0m     [col \u001b[38;5;28;01mfor\u001b[39;00m col \u001b[38;5;129;01min\u001b[39;00m grupo \u001b[38;5;28;01mif\u001b[39;00m col \u001b[38;5;241m!=\u001b[39m coluna]\n\u001b[0;32m     16\u001b[0m     \u001b[38;5;28;01mfor\u001b[39;00m grupo \u001b[38;5;129;01min\u001b[39;00m hierarquia\n\u001b[0;32m     17\u001b[0m     \u001b[38;5;28;01mif\u001b[39;00m \u001b[38;5;28many\u001b[39m(col \u001b[38;5;241m!=\u001b[39m coluna \u001b[38;5;28;01mfor\u001b[39;00m col \u001b[38;5;129;01min\u001b[39;00m grupo)  \u001b[38;5;66;03m# garante que restou algo no grupo\u001b[39;00m\n\u001b[0;32m     18\u001b[0m ]\n\u001b[0;32m     20\u001b[0m \u001b[38;5;28mprint\u001b[39m(\u001b[38;5;124mf\u001b[39m\u001b[38;5;124m\"\u001b[39m\u001b[38;5;124mImputando coluna: \u001b[39m\u001b[38;5;132;01m{\u001b[39;00mcoluna\u001b[38;5;132;01m}\u001b[39;00m\u001b[38;5;124m com estratégia: \u001b[39m\u001b[38;5;132;01m{\u001b[39;00mestrategias\u001b[38;5;241m.\u001b[39mget(coluna)\u001b[38;5;132;01m}\u001b[39;00m\u001b[38;5;124m\"\u001b[39m)\n\u001b[1;32m---> 22\u001b[0m cc[coluna \u001b[38;5;241m+\u001b[39m \u001b[38;5;124m'\u001b[39m\u001b[38;5;124m_INPUTED\u001b[39m\u001b[38;5;124m'\u001b[39m] \u001b[38;5;241m=\u001b[39m \u001b[43mimputacao_hierarquica\u001b[49m(cc, coluna, hierar, strategy\u001b[38;5;241m=\u001b[39mestrategias\u001b[38;5;241m.\u001b[39mget(coluna))\n\u001b[0;32m     24\u001b[0m cc[coluna] \u001b[38;5;241m=\u001b[39m cc[coluna \u001b[38;5;241m+\u001b[39m \u001b[38;5;124m'\u001b[39m\u001b[38;5;124m_INPUTED\u001b[39m\u001b[38;5;124m'\u001b[39m]\n\u001b[0;32m     25\u001b[0m cc\u001b[38;5;241m.\u001b[39mdrop(columns\u001b[38;5;241m=\u001b[39m[coluna \u001b[38;5;241m+\u001b[39m \u001b[38;5;124m'\u001b[39m\u001b[38;5;124m_INPUTED\u001b[39m\u001b[38;5;124m'\u001b[39m], inplace\u001b[38;5;241m=\u001b[39m\u001b[38;5;28;01mTrue\u001b[39;00m)\n",
      "\u001b[1;31mNameError\u001b[0m: name 'imputacao_hierarquica' is not defined"
     ]
    }
   ],
   "source": [
    "colunas_para_imputar = ['FLAG_PF', 'PORTE', 'SEGMENTO_INDUSTRIAL'] \n",
    "\n",
    "estrategias = {\n",
    "    'FLAG_PF': 'mode',\n",
    "    'PORTE': 'mode',\n",
    "    'SEGMENTO_INDUSTRIAL': 'mode',\n",
    "}\n",
    "\n",
    "# Aplica a imputação hierárquica (imputação com contexto) para cada coluna da lista\n",
    "for coluna in colunas_para_imputar:\n",
    "    \n",
    "    hierar = hierarquia.copy()\n",
    "\n",
    "    hierar = [\n",
    "        [col for col in grupo if col != coluna]\n",
    "        for grupo in hierarquia\n",
    "        if any(col != coluna for col in grupo)  # garante que restou algo no grupo\n",
    "    ]\n",
    "\n",
    "    print(f\"Imputando coluna: {coluna} com estratégia: {estrategias.get(coluna)}\")\n",
    "    \n",
    "    cc[coluna + '_INPUTED'] = imputacao_hierarquica(cc, coluna, hierar, strategy=estrategias.get(coluna))\n",
    "    \n",
    "    cc[coluna] = cc[coluna + '_INPUTED']\n",
    "    cc.drop(columns=[coluna + '_INPUTED'], inplace=True)\n"
   ]
  }
 ],
 "metadata": {
  "kernelspec": {
   "display_name": "dra",
   "language": "python",
   "name": "python3"
  },
  "language_info": {
   "codemirror_mode": {
    "name": "ipython",
    "version": 3
   },
   "file_extension": ".py",
   "mimetype": "text/x-python",
   "name": "python",
   "nbconvert_exporter": "python",
   "pygments_lexer": "ipython3",
   "version": "3.10.11"
  }
 },
 "nbformat": 4,
 "nbformat_minor": 5
}
