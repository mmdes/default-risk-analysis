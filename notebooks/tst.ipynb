{
 "cells": [
  {
   "cell_type": "code",
   "execution_count": 10,
   "id": "a73f2617",
   "metadata": {},
   "outputs": [],
   "source": [
    "hierarquia = [\n",
    "    ['FLAG_PF', 'PORTE', 'SEGMENTO_INDUSTRIAL', 'DOMINIO_EMAIL', 'CEP_2_DIG', 'TAXA'],\n",
    "    ['PORTE', 'SEGMENTO_INDUSTRIAL', 'DOMINIO_EMAIL', 'CEP_2_DIG', 'TAXA'],\n",
    "    ['FLAG_PF', 'SEGMENTO_INDUSTRIAL', 'DOMINIO_EMAIL', 'CEP_2_DIG', 'TAXA'],\n",
    "    ['FLAG_PF', 'PORTE', 'DOMINIO_EMAIL', 'CEP_2_DIG', 'TAXA'],\n",
    "    ['FLAG_PF', 'PORTE', 'SEGMENTO_INDUSTRIAL', 'CEP_2_DIG', 'TAXA'],\n",
    "    ['FLAG_PF', 'PORTE', 'SEGMENTO_INDUSTRIAL', 'DOMINIO_EMAIL', 'TAXA'],\n",
    "    ['FLAG_PF', 'PORTE', 'SEGMENTO_INDUSTRIAL', 'DOMINIO_EMAIL', 'CEP_2_DIG'],\n",
    "    ['FLAG_PF', 'PORTE', 'SEGMENTO_INDUSTRIAL', 'DOMINIO_EMAIL'],\n",
    "    ['FLAG_PF', 'PORTE', 'SEGMENTO_INDUSTRIAL', 'TAXA'],\n",
    "    ['FLAG_PF', 'PORTE', 'DOMINIO_EMAIL', 'CEP_2_DIG'],\n",
    "    ['FLAG_PF', 'SEGMENTO_INDUSTRIAL', 'DOMINIO_EMAIL', 'TAXA'],\n",
    "    ['PORTE', 'SEGMENTO_INDUSTRIAL', 'DOMINIO_EMAIL', 'TAXA'],\n",
    "    ['FLAG_PF', 'PORTE', 'SEGMENTO_INDUSTRIAL'],\n",
    "    ['FLAG_PF', 'PORTE', 'TAXA'],\n",
    "    ['FLAG_PF', 'SEGMENTO_INDUSTRIAL', 'TAXA'],\n",
    "    ['PORTE', 'SEGMENTO_INDUSTRIAL', 'TAXA'],\n",
    "    ['FLAG_PF', 'DOMINIO_EMAIL', 'CEP_2_DIG'],\n",
    "    ['FLAG_PF', 'PORTE'],\n",
    "    ['FLAG_PF', 'TAXA'],\n",
    "    ['FLAG_PF', 'SEGMENTO_INDUSTRIAL'],\n",
    "    ['PORTE', 'TAXA'],\n",
    "    ['SEGMENTO_INDUSTRIAL', 'TAXA'],\n",
    "    ['DOMINIO_EMAIL', 'CEP_2_DIG'],\n",
    "    ['FLAG_PF'],\n",
    "    ['PORTE'],\n",
    "    ['SEGMENTO_INDUSTRIAL'],\n",
    "    ['DOMINIO_EMAIL'],\n",
    "    ['CEP_2_DIG'],\n",
    "    ['TAXA']\n",
    "]"
   ]
  },
  {
   "cell_type": "code",
   "execution_count": 13,
   "id": "3547b2a6",
   "metadata": {},
   "outputs": [
    {
     "name": "stdout",
     "output_type": "stream",
     "text": [
      "['FLAG_PF', 'PORTE', 'SEGMENTO_INDUSTRIAL', 'DOMINIO_EMAIL', 'TAXA']\n",
      "['PORTE', 'SEGMENTO_INDUSTRIAL', 'DOMINIO_EMAIL', 'TAXA']\n",
      "['FLAG_PF', 'SEGMENTO_INDUSTRIAL', 'DOMINIO_EMAIL', 'TAXA']\n",
      "['FLAG_PF', 'PORTE', 'DOMINIO_EMAIL', 'TAXA']\n",
      "['FLAG_PF', 'PORTE', 'SEGMENTO_INDUSTRIAL', 'TAXA']\n",
      "['FLAG_PF', 'PORTE', 'SEGMENTO_INDUSTRIAL', 'DOMINIO_EMAIL', 'TAXA']\n",
      "['FLAG_PF', 'PORTE', 'SEGMENTO_INDUSTRIAL', 'DOMINIO_EMAIL']\n",
      "['FLAG_PF', 'PORTE', 'SEGMENTO_INDUSTRIAL', 'DOMINIO_EMAIL']\n",
      "['FLAG_PF', 'PORTE', 'SEGMENTO_INDUSTRIAL', 'TAXA']\n",
      "['FLAG_PF', 'PORTE', 'DOMINIO_EMAIL']\n",
      "['FLAG_PF', 'SEGMENTO_INDUSTRIAL', 'DOMINIO_EMAIL', 'TAXA']\n",
      "['PORTE', 'SEGMENTO_INDUSTRIAL', 'DOMINIO_EMAIL', 'TAXA']\n",
      "['FLAG_PF', 'PORTE', 'SEGMENTO_INDUSTRIAL']\n",
      "['FLAG_PF', 'PORTE', 'TAXA']\n",
      "['FLAG_PF', 'SEGMENTO_INDUSTRIAL', 'TAXA']\n",
      "['PORTE', 'SEGMENTO_INDUSTRIAL', 'TAXA']\n",
      "['FLAG_PF', 'DOMINIO_EMAIL']\n",
      "['FLAG_PF', 'PORTE']\n",
      "['FLAG_PF', 'TAXA']\n",
      "['FLAG_PF', 'SEGMENTO_INDUSTRIAL']\n",
      "['PORTE', 'TAXA']\n",
      "['SEGMENTO_INDUSTRIAL', 'TAXA']\n",
      "['DOMINIO_EMAIL']\n",
      "['FLAG_PF']\n",
      "['PORTE']\n",
      "['SEGMENTO_INDUSTRIAL']\n",
      "['DOMINIO_EMAIL']\n",
      "['TAXA']\n"
     ]
    }
   ],
   "source": [
    "coluna = \"CEP_2_DIG\"\n",
    "estrategia = 'median'\n",
    "\n",
    "hierar = hierarquia.copy()\n",
    "\n",
    "hierar = [\n",
    "    [col for col in grupo if col != coluna]\n",
    "    for grupo in hierarquia\n",
    "    if any(col != coluna for col in grupo)  # garante que restou algo no grupo\n",
    "]\n",
    "\n",
    "\n",
    "\n",
    "\n",
    "for item in hierar:\n",
    "    print(item)"
   ]
  },
  {
   "cell_type": "code",
   "execution_count": null,
   "id": "c802fc0d",
   "metadata": {},
   "outputs": [],
   "source": [
    "colunas_para_imputar = ['FLAG_PF', 'PORTE', 'SEGMENTO_INDUSTRIAL'] \n",
    "\n",
    "estrategias = {\n",
    "    'FLAG_PF': 'mode',\n",
    "    'PORTE': 'mode',\n",
    "    'SEGMENTO_INDUSTRIAL': 'mode',\n",
    "}\n",
    "\n",
    "# Aplica a imputação hierárquica para cada coluna da lista\n",
    "for coluna in colunas_para_imputar:\n",
    "    \n",
    "    hierar = hierarquia.copy()\n",
    "\n",
    "    hierar = [\n",
    "        [col for col in grupo if col != coluna]\n",
    "        for grupo in hierarquia\n",
    "        if any(col != coluna for col in grupo)  # garante que restou algo no grupo\n",
    "    ]\n",
    "\n",
    "    print(f\"Imputando coluna: {coluna} com estratégia: {estrategias.get(coluna)}\")\n",
    "    \n",
    "    cc[coluna + '_INPUTED'] = imputacao_hierarquica(cc, coluna, hierar, strategy=estrategias.get(coluna))\n",
    "    \n",
    "    cc[coluna] = cc[coluna + '_INPUTED']\n",
    "    cc.drop(columns=[coluna + '_INPUTED'], inplace=True)\n"
   ]
  }
 ],
 "metadata": {
  "kernelspec": {
   "display_name": "dra",
   "language": "python",
   "name": "python3"
  },
  "language_info": {
   "codemirror_mode": {
    "name": "ipython",
    "version": 3
   },
   "file_extension": ".py",
   "mimetype": "text/x-python",
   "name": "python",
   "nbconvert_exporter": "python",
   "pygments_lexer": "ipython3",
   "version": "3.10.11"
  }
 },
 "nbformat": 4,
 "nbformat_minor": 5
}
