{
 "cells": [
  {
   "cell_type": "code",
   "execution_count": 178,
   "id": "fbf8a961",
   "metadata": {},
   "outputs": [],
   "source": [
    "import sys\n",
    "import os\n",
    "import pandas as pd\n",
    "import importlib\n",
    "\n",
    "import seaborn as sns\n",
    "import matplotlib.pyplot as plt\n",
    "\n",
    "sys.dont_write_bytecode = True\n",
    "\n",
    "# Adiciona o diretório raiz do projeto ao sys.path\n",
    "sys.path.append(os.path.abspath(os.path.join('.')))\n"
   ]
  },
  {
   "cell_type": "code",
   "execution_count": 179,
   "id": "46a8bedf",
   "metadata": {},
   "outputs": [],
   "source": [
    "import src.preprocessing\n",
    "import src.model_utils\n",
    "importlib.reload(src.preprocessing)\n",
    "importlib.reload(src.model_utils)\n",
    "from src.preprocessing import processar_dados\n",
    "from src.model_utils import predict"
   ]
  },
  {
   "cell_type": "code",
   "execution_count": 180,
   "id": "9885cfa5",
   "metadata": {},
   "outputs": [],
   "source": [
    "df = pd.read_csv('./data/raw/base_pagamentos_teste.csv', sep=';')"
   ]
  },
  {
   "cell_type": "code",
   "execution_count": 181,
   "id": "8741cfef",
   "metadata": {},
   "outputs": [
    {
     "name": "stdout",
     "output_type": "stream",
     "text": [
      "Imputação hierárquica coluna: FLAG_PF, com estratégia: mode\n",
      "Imputação hierárquica coluna: PORTE, com estratégia: mode\n",
      "Imputação hierárquica coluna: SEGMENTO_INDUSTRIAL, com estratégia: mode\n",
      "Imputação hierárquica coluna: VALOR_A_PAGAR, com estratégia: median\n",
      "Imputação hierárquica coluna: RENDA_MES_ANTERIOR, com estratégia: median\n",
      "Imputação hierárquica coluna: NO_FUNCIONARIOS, com estratégia: median\n",
      "Imputação hierárquica coluna: DOMINIO_EMAIL, com estratégia: mode\n",
      "Imputação hierárquica coluna: CEP_2_DIG, com estratégia: mode\n",
      "Imputação hierárquica coluna: TEMPO_DE_CASA_MESES, com estratégia: median\n"
     ]
    },
    {
     "name": "stderr",
     "output_type": "stream",
     "text": [
      "[Parallel(n_jobs=12)]: Using backend ThreadingBackend with 12 concurrent workers.\n",
      "[Parallel(n_jobs=12)]: Done  26 tasks      | elapsed:    0.0s\n",
      "[Parallel(n_jobs=12)]: Done 176 tasks      | elapsed:    0.0s\n",
      "[Parallel(n_jobs=12)]: Done 300 out of 300 | elapsed:    0.0s finished\n"
     ]
    }
   ],
   "source": [
    "sub = predict(df)"
   ]
  },
  {
   "cell_type": "code",
   "execution_count": 182,
   "id": "933f19eb",
   "metadata": {},
   "outputs": [
    {
     "data": {
      "application/vnd.microsoft.datawrangler.viewer.v0+json": {
       "columns": [
        {
         "name": "index",
         "rawType": "int64",
         "type": "integer"
        },
        {
         "name": "ID_CLIENTE",
         "rawType": "int64",
         "type": "integer"
        },
        {
         "name": "SAFRA_REF",
         "rawType": "object",
         "type": "string"
        },
        {
         "name": "PROBABILIDADE_INADIMPLENCIA",
         "rawType": "float64",
         "type": "float"
        }
       ],
       "ref": "def901bd-8f03-479b-98c8-502c06f4d864",
       "rows": [
        [
         "74866",
         "8784237149961904",
         "2021-07",
         "0.05308096899485865"
        ],
        [
         "74867",
         "8784237149961904",
         "2021-07",
         "0.06429701061392494"
        ],
        [
         "77273",
         "8784237149961904",
         "2021-07",
         "0.061652979888046876"
        ],
        [
         "77274",
         "8784237149961904",
         "2021-08",
         "0.042644527413124474"
        ],
        [
         "77275",
         "8784237149961904",
         "2021-08",
         "0.061905492295230374"
        ],
        [
         "77276",
         "8784237149961904",
         "2021-08",
         "0.07004094792324167"
        ],
        [
         "78131",
         "8784237149961904",
         "2021-08",
         "0.06542941183228883"
        ],
        [
         "78132",
         "8784237149961904",
         "2021-08",
         "0.09078994075924719"
        ],
        [
         "78133",
         "8784237149961904",
         "2021-08",
         "0.08745660742591387"
        ],
        [
         "78134",
         "8784237149961904",
         "2021-08",
         "0.06429274779661316"
        ],
        [
         "78135",
         "8784237149961904",
         "2021-08",
         "0.06787485711613472"
        ],
        [
         "78136",
         "8784237149961904",
         "2021-09",
         "0.07704574484895237"
        ],
        [
         "78137",
         "8784237149961904",
         "2021-09",
         "0.07424137505271196"
        ],
        [
         "80897",
         "8784237149961904",
         "2021-09",
         "0.07847640875413711"
        ],
        [
         "80898",
         "8784237149961904",
         "2021-10",
         "0.11218807639579928"
        ],
        [
         "80899",
         "8784237149961904",
         "2021-10",
         "0.12246872459939413"
        ],
        [
         "83514",
         "8784237149961904",
         "2021-10",
         "0.10050306798376138"
        ],
        [
         "83515",
         "8784237149961904",
         "2021-10",
         "0.10710696159451728"
        ],
        [
         "83516",
         "8784237149961904",
         "2021-10",
         "0.10231359369652683"
        ],
        [
         "83517",
         "8784237149961904",
         "2021-10",
         "0.10731540923755804"
        ],
        [
         "83518",
         "8784237149961904",
         "2021-11",
         "0.07970163425755532"
        ],
        [
         "83519",
         "8784237149961904",
         "2021-11",
         "0.09259504342418004"
        ],
        [
         "83520",
         "8784237149961904",
         "2021-11",
         "0.08161339896343768"
        ],
        [
         "83521",
         "8784237149961904",
         "2021-11",
         "0.09228393878430428"
        ],
        [
         "85906",
         "8784237149961904",
         "2021-11",
         "0.09228393878430428"
        ],
        [
         "75110",
         "15070048310374146",
         "2021-07",
         "0.26208877332314834"
        ],
        [
         "80039",
         "15070048310374146",
         "2021-08",
         "0.36732447212997854"
        ],
        [
         "80040",
         "15070048310374146",
         "2021-08",
         "0.3229078054633119"
        ],
        [
         "80041",
         "15070048310374146",
         "2021-09",
         "0.3687133610188674"
        ],
        [
         "82857",
         "15070048310374146",
         "2021-10",
         "0.3168036283939646"
        ],
        [
         "82858",
         "15070048310374146",
         "2021-10",
         "0.3168036283939646"
        ],
        [
         "77585",
         "18719614953021044",
         "2021-08",
         "0.30872398974622395"
        ],
        [
         "80093",
         "18719614953021044",
         "2021-09",
         "0.3339377902460906"
        ],
        [
         "74864",
         "39547025441582855",
         "2021-07",
         "0.8115285722768196"
        ],
        [
         "77687",
         "39547025441582855",
         "2021-08",
         "0.0706017276531622"
        ],
        [
         "77688",
         "39547025441582855",
         "2021-08",
         "0.07226839431982886"
        ],
        [
         "79916",
         "39547025441582855",
         "2021-08",
         "0.07038348097031931"
        ],
        [
         "79917",
         "39547025441582855",
         "2021-09",
         "0.288907710175436"
        ],
        [
         "82338",
         "39547025441582855",
         "2021-09",
         "0.08324588454167456"
        ],
        [
         "82339",
         "39547025441582855",
         "2021-09",
         "0.07237757729602237"
        ],
        [
         "82340",
         "39547025441582855",
         "2021-10",
         "0.06065812952508401"
        ],
        [
         "82341",
         "39547025441582855",
         "2021-10",
         "0.05019815561396787"
        ],
        [
         "85460",
         "39547025441582855",
         "2021-11",
         "0.26403134132082245"
        ],
        [
         "75370",
         "49632905576538927",
         "2021-07",
         "0.002621473850892342"
        ],
        [
         "79155",
         "49632905576538927",
         "2021-08",
         "0.01366204993488527"
        ],
        [
         "85589",
         "49632905576538927",
         "2021-11",
         "0.0057075651341531915"
        ],
        [
         "82656",
         "51762959302415533",
         "2021-09",
         "0.07651569622437719"
        ],
        [
         "84851",
         "51762959302415533",
         "2021-10",
         "0.06713855269607087"
        ],
        [
         "78846",
         "66220087398241662",
         "2021-08",
         "0.017741996363461087"
        ],
        [
         "78847",
         "66220087398241662",
         "2021-09",
         "0.024919523554800836"
        ]
       ],
       "shape": {
        "columns": 3,
        "rows": 12264
       }
      },
      "text/html": [
       "<div>\n",
       "<style scoped>\n",
       "    .dataframe tbody tr th:only-of-type {\n",
       "        vertical-align: middle;\n",
       "    }\n",
       "\n",
       "    .dataframe tbody tr th {\n",
       "        vertical-align: top;\n",
       "    }\n",
       "\n",
       "    .dataframe thead th {\n",
       "        text-align: right;\n",
       "    }\n",
       "</style>\n",
       "<table border=\"1\" class=\"dataframe\">\n",
       "  <thead>\n",
       "    <tr style=\"text-align: right;\">\n",
       "      <th></th>\n",
       "      <th>ID_CLIENTE</th>\n",
       "      <th>SAFRA_REF</th>\n",
       "      <th>PROBABILIDADE_INADIMPLENCIA</th>\n",
       "    </tr>\n",
       "  </thead>\n",
       "  <tbody>\n",
       "    <tr>\n",
       "      <th>74866</th>\n",
       "      <td>8784237149961904</td>\n",
       "      <td>2021-07</td>\n",
       "      <td>0.053081</td>\n",
       "    </tr>\n",
       "    <tr>\n",
       "      <th>74867</th>\n",
       "      <td>8784237149961904</td>\n",
       "      <td>2021-07</td>\n",
       "      <td>0.064297</td>\n",
       "    </tr>\n",
       "    <tr>\n",
       "      <th>77273</th>\n",
       "      <td>8784237149961904</td>\n",
       "      <td>2021-07</td>\n",
       "      <td>0.061653</td>\n",
       "    </tr>\n",
       "    <tr>\n",
       "      <th>77274</th>\n",
       "      <td>8784237149961904</td>\n",
       "      <td>2021-08</td>\n",
       "      <td>0.042645</td>\n",
       "    </tr>\n",
       "    <tr>\n",
       "      <th>77275</th>\n",
       "      <td>8784237149961904</td>\n",
       "      <td>2021-08</td>\n",
       "      <td>0.061905</td>\n",
       "    </tr>\n",
       "    <tr>\n",
       "      <th>...</th>\n",
       "      <td>...</td>\n",
       "      <td>...</td>\n",
       "      <td>...</td>\n",
       "    </tr>\n",
       "    <tr>\n",
       "      <th>84921</th>\n",
       "      <td>9206030810342980458</td>\n",
       "      <td>2021-11</td>\n",
       "      <td>0.094078</td>\n",
       "    </tr>\n",
       "    <tr>\n",
       "      <th>84922</th>\n",
       "      <td>9206030810342980458</td>\n",
       "      <td>2021-11</td>\n",
       "      <td>0.110089</td>\n",
       "    </tr>\n",
       "    <tr>\n",
       "      <th>84923</th>\n",
       "      <td>9206030810342980458</td>\n",
       "      <td>2021-11</td>\n",
       "      <td>0.080728</td>\n",
       "    </tr>\n",
       "    <tr>\n",
       "      <th>85916</th>\n",
       "      <td>9206030810342980458</td>\n",
       "      <td>2021-11</td>\n",
       "      <td>0.069316</td>\n",
       "    </tr>\n",
       "    <tr>\n",
       "      <th>85917</th>\n",
       "      <td>9206030810342980458</td>\n",
       "      <td>2021-11</td>\n",
       "      <td>0.072039</td>\n",
       "    </tr>\n",
       "  </tbody>\n",
       "</table>\n",
       "<p>12264 rows × 3 columns</p>\n",
       "</div>"
      ],
      "text/plain": [
       "                ID_CLIENTE SAFRA_REF  PROBABILIDADE_INADIMPLENCIA\n",
       "74866     8784237149961904   2021-07                     0.053081\n",
       "74867     8784237149961904   2021-07                     0.064297\n",
       "77273     8784237149961904   2021-07                     0.061653\n",
       "77274     8784237149961904   2021-08                     0.042645\n",
       "77275     8784237149961904   2021-08                     0.061905\n",
       "...                    ...       ...                          ...\n",
       "84921  9206030810342980458   2021-11                     0.094078\n",
       "84922  9206030810342980458   2021-11                     0.110089\n",
       "84923  9206030810342980458   2021-11                     0.080728\n",
       "85916  9206030810342980458   2021-11                     0.069316\n",
       "85917  9206030810342980458   2021-11                     0.072039\n",
       "\n",
       "[12264 rows x 3 columns]"
      ]
     },
     "execution_count": 182,
     "metadata": {},
     "output_type": "execute_result"
    }
   ],
   "source": [
    "sub"
   ]
  },
  {
   "cell_type": "code",
   "execution_count": 183,
   "id": "98404f9e",
   "metadata": {},
   "outputs": [
    {
     "data": {
      "image/png": "[encoded data removed]",
      "text/plain": [
       "<Figure size 640x480 with 1 Axes>"
      ]
     },
     "metadata": {},
     "output_type": "display_data"
    }
   ],
   "source": [
    "sns.histplot(sub['PROBABILIDADE_INADIMPLENCIA'], bins=50, kde=True)\n",
    "plt.title('Distribuição das Probabilidades de Inadimplência')\n",
    "plt.xlabel('Probabilidade')\n",
    "plt.ylabel('Frequência')\n",
    "plt.show()"
   ]
  },
  {
   "cell_type": "code",
   "execution_count": 184,
   "id": "d50bc049",
   "metadata": {},
   "outputs": [
    {
     "data": {
      "image/png": "[encoded data removed]",
      "text/plain": [
       "<Figure size 600x600 with 1 Axes>"
      ]
     },
     "metadata": {},
     "output_type": "display_data"
    }
   ],
   "source": [
    "# Filtro para clientes com probabilidade >= 0.5\n",
    "alto_risco = sub['PROBABILIDADE_INADIMPLENCIA'] >= 0.5\n",
    "\n",
    "# Contagens\n",
    "n_alto_risco = alto_risco.sum()\n",
    "n_baixo_risco = len(sub) - n_alto_risco\n",
    "\n",
    "# Dados para o gráfico\n",
    "labels = ['Risco < 50%', 'Risco ≥ 50%']\n",
    "sizes = [n_baixo_risco, n_alto_risco]\n",
    "\n",
    "# Gráfico de pizza\n",
    "plt.figure(figsize=(6, 6))\n",
    "plt.pie(sizes, labels=labels, autopct='%.1f%%', startangle=90)\n",
    "plt.title('Proporção de Clientes com Risco ≥ 50%')\n",
    "plt.axis('equal')\n",
    "plt.show()"
   ]
  }
 ],
 "metadata": {
  "kernelspec": {
   "display_name": "dra",
   "language": "python",
   "name": "python3"
  },
  "language_info": {
   "codemirror_mode": {
    "name": "ipython",
    "version": 3
   },
   "file_extension": ".py",
   "mimetype": "text/x-python",
   "name": "python",
   "nbconvert_exporter": "python",
   "pygments_lexer": "ipython3",
   "version": "3.10.11"
  }
 },
 "nbformat": 4,
 "nbformat_minor": 5
}
