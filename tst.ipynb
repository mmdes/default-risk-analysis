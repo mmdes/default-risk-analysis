{
 "cells": [
  {
   "cell_type": "code",
   "execution_count": 1,
   "id": "f52df416",
   "metadata": {},
   "outputs": [
    {
     "name": "stdout",
     "output_type": "stream",
     "text": [
      "Processando 'mn.pdf'...\n",
      "Processando 'readme.pdf'...\n"
     ]
    },
    {
     "ename": "KeyboardInterrupt",
     "evalue": "",
     "output_type": "error",
     "traceback": [
      "\u001b[0;31m---------------------------------------------------------------------------\u001b[0m",
      "\u001b[0;31mKeyboardInterrupt\u001b[0m                         Traceback (most recent call last)",
      "Cell \u001b[0;32mIn[1], line 63\u001b[0m\n\u001b[1;32m     55\u001b[0m arquivos_de_entrada \u001b[38;5;241m=\u001b[39m [\n\u001b[1;32m     56\u001b[0m     \u001b[38;5;124m\"\u001b[39m\u001b[38;5;124mmn.pdf\u001b[39m\u001b[38;5;124m\"\u001b[39m,      \u001b[38;5;66;03m# Nome do seu primeiro arquivo PDF\u001b[39;00m\n\u001b[1;32m     57\u001b[0m     \u001b[38;5;124m\"\u001b[39m\u001b[38;5;124mreadme.pdf\u001b[39m\u001b[38;5;124m\"\u001b[39m,  \u001b[38;5;66;03m# Nome do seu segundo arquivo PDF\u001b[39;00m\n\u001b[1;32m     58\u001b[0m     \u001b[38;5;66;03m# \"outro_arquivo.pdf\", # Pode adicionar mais arquivos aqui\u001b[39;00m\n\u001b[1;32m     59\u001b[0m ]\n\u001b[1;32m     61\u001b[0m pdf_saida \u001b[38;5;241m=\u001b[39m \u001b[38;5;124m\"\u001b[39m\u001b[38;5;124mpdfs_concatenados.pdf\u001b[39m\u001b[38;5;124m\"\u001b[39m \u001b[38;5;66;03m# Nome do arquivo PDF de saída\u001b[39;00m\n\u001b[0;32m---> 63\u001b[0m \u001b[43mconcatenar_pdfs\u001b[49m\u001b[43m(\u001b[49m\u001b[43marquivos_de_entrada\u001b[49m\u001b[43m,\u001b[49m\u001b[43m \u001b[49m\u001b[43mpdf_saida\u001b[49m\u001b[43m)\u001b[49m\n",
      "Cell \u001b[0;32mIn[1], line 27\u001b[0m, in \u001b[0;36mconcatenar_pdfs\u001b[0;34m(lista_pdfs, output_path)\u001b[0m\n\u001b[1;32m     25\u001b[0m     \u001b[38;5;28mprint\u001b[39m(\u001b[38;5;124mf\u001b[39m\u001b[38;5;124m\"\u001b[39m\u001b[38;5;124mProcessando \u001b[39m\u001b[38;5;124m'\u001b[39m\u001b[38;5;132;01m{\u001b[39;00mpdf_path\u001b[38;5;132;01m}\u001b[39;00m\u001b[38;5;124m'\u001b[39m\u001b[38;5;124m...\u001b[39m\u001b[38;5;124m\"\u001b[39m)\n\u001b[1;32m     26\u001b[0m     \u001b[38;5;66;03m# Adiciona cada PDF ao objeto writer\u001b[39;00m\n\u001b[0;32m---> 27\u001b[0m     \u001b[43mwriter\u001b[49m\u001b[38;5;241;43m.\u001b[39;49m\u001b[43mappend\u001b[49m\u001b[43m(\u001b[49m\u001b[43mpdf_path\u001b[49m\u001b[43m)\u001b[49m\n\u001b[1;32m     28\u001b[0m \u001b[38;5;28;01mexcept\u001b[39;00m \u001b[38;5;167;01mFileNotFoundError\u001b[39;00m:\n\u001b[1;32m     29\u001b[0m     \u001b[38;5;28mprint\u001b[39m(\u001b[38;5;124mf\u001b[39m\u001b[38;5;124m\"\u001b[39m\u001b[38;5;124mAviso: O arquivo \u001b[39m\u001b[38;5;124m'\u001b[39m\u001b[38;5;132;01m{\u001b[39;00mpdf_path\u001b[38;5;132;01m}\u001b[39;00m\u001b[38;5;124m'\u001b[39m\u001b[38;5;124m não foi encontrado e será ignorado.\u001b[39m\u001b[38;5;124m\"\u001b[39m)\n",
      "File \u001b[0;32m~/default-risk-analysis/dra/lib/python3.10/site-packages/pypdf/_writer.py:2800\u001b[0m, in \u001b[0;36mPdfWriter.append\u001b[0;34m(self, fileobj, outline_item, pages, import_outline, excluded_fields)\u001b[0m\n\u001b[1;32m   2791\u001b[0m     \u001b[38;5;28mself\u001b[39m\u001b[38;5;241m.\u001b[39mmerge(\n\u001b[1;32m   2792\u001b[0m         \u001b[38;5;28;01mNone\u001b[39;00m,\n\u001b[1;32m   2793\u001b[0m         fileobj,\n\u001b[0;32m   (...)\u001b[0m\n\u001b[1;32m   2797\u001b[0m         excluded_fields,\n\u001b[1;32m   2798\u001b[0m     )\n\u001b[1;32m   2799\u001b[0m \u001b[38;5;28;01melse\u001b[39;00m:  \u001b[38;5;66;03m# if isinstance(outline_item, str):\u001b[39;00m\n\u001b[0;32m-> 2800\u001b[0m     \u001b[38;5;28;43mself\u001b[39;49m\u001b[38;5;241;43m.\u001b[39;49m\u001b[43mmerge\u001b[49m\u001b[43m(\u001b[49m\n\u001b[1;32m   2801\u001b[0m \u001b[43m        \u001b[49m\u001b[38;5;28;43;01mNone\u001b[39;49;00m\u001b[43m,\u001b[49m\n\u001b[1;32m   2802\u001b[0m \u001b[43m        \u001b[49m\u001b[43mfileobj\u001b[49m\u001b[43m,\u001b[49m\n\u001b[1;32m   2803\u001b[0m \u001b[43m        \u001b[49m\u001b[43moutline_item\u001b[49m\u001b[43m,\u001b[49m\n\u001b[1;32m   2804\u001b[0m \u001b[43m        \u001b[49m\u001b[43mpages\u001b[49m\u001b[43m,\u001b[49m\n\u001b[1;32m   2805\u001b[0m \u001b[43m        \u001b[49m\u001b[43mimport_outline\u001b[49m\u001b[43m,\u001b[49m\n\u001b[1;32m   2806\u001b[0m \u001b[43m        \u001b[49m\u001b[43mexcluded_fields\u001b[49m\u001b[43m,\u001b[49m\n\u001b[1;32m   2807\u001b[0m \u001b[43m    \u001b[49m\u001b[43m)\u001b[49m\n",
      "File \u001b[0;32m~/default-risk-analysis/dra/lib/python3.10/site-packages/pypdf/_writer.py:2949\u001b[0m, in \u001b[0;36mPdfWriter.merge\u001b[0;34m(self, position, fileobj, outline_item, pages, import_outline, excluded_fields)\u001b[0m\n\u001b[1;32m   2947\u001b[0m _ro \u001b[38;5;241m=\u001b[39m reader\u001b[38;5;241m.\u001b[39mroot_object\n\u001b[1;32m   2948\u001b[0m \u001b[38;5;28;01mif\u001b[39;00m import_outline \u001b[38;5;129;01mand\u001b[39;00m CO\u001b[38;5;241m.\u001b[39mOUTLINES \u001b[38;5;129;01min\u001b[39;00m _ro:\n\u001b[0;32m-> 2949\u001b[0m     outline \u001b[38;5;241m=\u001b[39m \u001b[38;5;28;43mself\u001b[39;49m\u001b[38;5;241;43m.\u001b[39;49m\u001b[43m_get_filtered_outline\u001b[49m\u001b[43m(\u001b[49m\n\u001b[1;32m   2950\u001b[0m \u001b[43m        \u001b[49m\u001b[43m_ro\u001b[49m\u001b[38;5;241;43m.\u001b[39;49m\u001b[43mget\u001b[49m\u001b[43m(\u001b[49m\u001b[43mCO\u001b[49m\u001b[38;5;241;43m.\u001b[39;49m\u001b[43mOUTLINES\u001b[49m\u001b[43m,\u001b[49m\u001b[43m \u001b[49m\u001b[38;5;28;43;01mNone\u001b[39;49;00m\u001b[43m)\u001b[49m\u001b[43m,\u001b[49m\u001b[43m \u001b[49m\u001b[43msrcpages\u001b[49m\u001b[43m,\u001b[49m\u001b[43m \u001b[49m\u001b[43mreader\u001b[49m\n\u001b[1;32m   2951\u001b[0m \u001b[43m    \u001b[49m\u001b[43m)\u001b[49m\n\u001b[1;32m   2952\u001b[0m     \u001b[38;5;28mself\u001b[39m\u001b[38;5;241m.\u001b[39m_insert_filtered_outline(\n\u001b[1;32m   2953\u001b[0m         outline, outline_item_typ, \u001b[38;5;28;01mNone\u001b[39;00m\n\u001b[1;32m   2954\u001b[0m     )  \u001b[38;5;66;03m# TODO: use before parameter\u001b[39;00m\n\u001b[1;32m   2956\u001b[0m \u001b[38;5;28;01mif\u001b[39;00m \u001b[38;5;124m\"\u001b[39m\u001b[38;5;124m/Annots\u001b[39m\u001b[38;5;124m\"\u001b[39m \u001b[38;5;129;01mnot\u001b[39;00m \u001b[38;5;129;01min\u001b[39;00m excluded_fields:\n",
      "File \u001b[0;32m~/default-risk-analysis/dra/lib/python3.10/site-packages/pypdf/_writer.py:3199\u001b[0m, in \u001b[0;36mPdfWriter._get_filtered_outline\u001b[0;34m(self, node, pages, reader)\u001b[0m\n\u001b[1;32m   3197\u001b[0m     \u001b[38;5;28;01mif\u001b[39;00m node \u001b[38;5;129;01mis\u001b[39;00m \u001b[38;5;129;01mnot\u001b[39;00m \u001b[38;5;28;01mNone\u001b[39;00m:\n\u001b[1;32m   3198\u001b[0m         node \u001b[38;5;241m=\u001b[39m node\u001b[38;5;241m.\u001b[39mget_object()\n\u001b[0;32m-> 3199\u001b[0m         new_outline \u001b[38;5;241m+\u001b[39m\u001b[38;5;241m=\u001b[39m \u001b[38;5;28;43mself\u001b[39;49m\u001b[38;5;241;43m.\u001b[39;49m\u001b[43m_get_filtered_outline\u001b[49m\u001b[43m(\u001b[49m\u001b[43mnode\u001b[49m\u001b[43m,\u001b[49m\u001b[43m \u001b[49m\u001b[43mpages\u001b[49m\u001b[43m,\u001b[49m\u001b[43m \u001b[49m\u001b[43mreader\u001b[49m\u001b[43m)\u001b[49m\n\u001b[1;32m   3200\u001b[0m \u001b[38;5;28;01melse\u001b[39;00m:\n\u001b[1;32m   3201\u001b[0m     v: Union[\u001b[38;5;28;01mNone\u001b[39;00m, IndirectObject, NullObject]\n",
      "File \u001b[0;32m~/default-risk-analysis/dra/lib/python3.10/site-packages/pypdf/_writer.py:3210\u001b[0m, in \u001b[0;36mPdfWriter._get_filtered_outline\u001b[0;34m(self, node, pages, reader)\u001b[0m\n\u001b[1;32m   3208\u001b[0m o[NameObject(\u001b[38;5;124m\"\u001b[39m\u001b[38;5;124m/Page\u001b[39m\u001b[38;5;124m\"\u001b[39m)] \u001b[38;5;241m=\u001b[39m v\n\u001b[1;32m   3209\u001b[0m \u001b[38;5;28;01mif\u001b[39;00m \u001b[38;5;124m\"\u001b[39m\u001b[38;5;124m/First\u001b[39m\u001b[38;5;124m\"\u001b[39m \u001b[38;5;129;01min\u001b[39;00m node:\n\u001b[0;32m-> 3210\u001b[0m     o\u001b[38;5;241m.\u001b[39m_filtered_children \u001b[38;5;241m=\u001b[39m \u001b[38;5;28;43mself\u001b[39;49m\u001b[38;5;241;43m.\u001b[39;49m\u001b[43m_get_filtered_outline\u001b[49m\u001b[43m(\u001b[49m\n\u001b[1;32m   3211\u001b[0m \u001b[43m        \u001b[49m\u001b[43mnode\u001b[49m\u001b[43m[\u001b[49m\u001b[38;5;124;43m\"\u001b[39;49m\u001b[38;5;124;43m/First\u001b[39;49m\u001b[38;5;124;43m\"\u001b[39;49m\u001b[43m]\u001b[49m\u001b[43m,\u001b[49m\u001b[43m \u001b[49m\u001b[43mpages\u001b[49m\u001b[43m,\u001b[49m\u001b[43m \u001b[49m\u001b[43mreader\u001b[49m\n\u001b[1;32m   3212\u001b[0m \u001b[43m    \u001b[49m\u001b[43m)\u001b[49m\n\u001b[1;32m   3213\u001b[0m \u001b[38;5;28;01melse\u001b[39;00m:\n\u001b[1;32m   3214\u001b[0m     o\u001b[38;5;241m.\u001b[39m_filtered_children \u001b[38;5;241m=\u001b[39m []\n",
      "File \u001b[0;32m~/default-risk-analysis/dra/lib/python3.10/site-packages/pypdf/_writer.py:3210\u001b[0m, in \u001b[0;36mPdfWriter._get_filtered_outline\u001b[0;34m(self, node, pages, reader)\u001b[0m\n\u001b[1;32m   3208\u001b[0m o[NameObject(\u001b[38;5;124m\"\u001b[39m\u001b[38;5;124m/Page\u001b[39m\u001b[38;5;124m\"\u001b[39m)] \u001b[38;5;241m=\u001b[39m v\n\u001b[1;32m   3209\u001b[0m \u001b[38;5;28;01mif\u001b[39;00m \u001b[38;5;124m\"\u001b[39m\u001b[38;5;124m/First\u001b[39m\u001b[38;5;124m\"\u001b[39m \u001b[38;5;129;01min\u001b[39;00m node:\n\u001b[0;32m-> 3210\u001b[0m     o\u001b[38;5;241m.\u001b[39m_filtered_children \u001b[38;5;241m=\u001b[39m \u001b[38;5;28;43mself\u001b[39;49m\u001b[38;5;241;43m.\u001b[39;49m\u001b[43m_get_filtered_outline\u001b[49m\u001b[43m(\u001b[49m\n\u001b[1;32m   3211\u001b[0m \u001b[43m        \u001b[49m\u001b[43mnode\u001b[49m\u001b[43m[\u001b[49m\u001b[38;5;124;43m\"\u001b[39;49m\u001b[38;5;124;43m/First\u001b[39;49m\u001b[38;5;124;43m\"\u001b[39;49m\u001b[43m]\u001b[49m\u001b[43m,\u001b[49m\u001b[43m \u001b[49m\u001b[43mpages\u001b[49m\u001b[43m,\u001b[49m\u001b[43m \u001b[49m\u001b[43mreader\u001b[49m\n\u001b[1;32m   3212\u001b[0m \u001b[43m    \u001b[49m\u001b[43m)\u001b[49m\n\u001b[1;32m   3213\u001b[0m \u001b[38;5;28;01melse\u001b[39;00m:\n\u001b[1;32m   3214\u001b[0m     o\u001b[38;5;241m.\u001b[39m_filtered_children \u001b[38;5;241m=\u001b[39m []\n",
      "File \u001b[0;32m~/default-risk-analysis/dra/lib/python3.10/site-packages/pypdf/_writer.py:3204\u001b[0m, in \u001b[0;36mPdfWriter._get_filtered_outline\u001b[0;34m(self, node, pages, reader)\u001b[0m\n\u001b[1;32m   3202\u001b[0m \u001b[38;5;28;01mwhile\u001b[39;00m node \u001b[38;5;129;01mis\u001b[39;00m \u001b[38;5;129;01mnot\u001b[39;00m \u001b[38;5;28;01mNone\u001b[39;00m:\n\u001b[1;32m   3203\u001b[0m     node \u001b[38;5;241m=\u001b[39m node\u001b[38;5;241m.\u001b[39mget_object()\n\u001b[0;32m-> 3204\u001b[0m     o \u001b[38;5;241m=\u001b[39m cast(\u001b[38;5;124m\"\u001b[39m\u001b[38;5;124mDestination\u001b[39m\u001b[38;5;124m\"\u001b[39m, \u001b[43mreader\u001b[49m\u001b[38;5;241;43m.\u001b[39;49m\u001b[43m_build_outline_item\u001b[49m\u001b[43m(\u001b[49m\u001b[43mnode\u001b[49m\u001b[43m)\u001b[49m)\n\u001b[1;32m   3205\u001b[0m     v \u001b[38;5;241m=\u001b[39m \u001b[38;5;28mself\u001b[39m\u001b[38;5;241m.\u001b[39m_get_cloned_page(cast(\u001b[38;5;124m\"\u001b[39m\u001b[38;5;124mPageObject\u001b[39m\u001b[38;5;124m\"\u001b[39m, o[\u001b[38;5;124m\"\u001b[39m\u001b[38;5;124m/Page\u001b[39m\u001b[38;5;124m\"\u001b[39m]), pages, reader)\n\u001b[1;32m   3206\u001b[0m     \u001b[38;5;28;01mif\u001b[39;00m v \u001b[38;5;129;01mis\u001b[39;00m \u001b[38;5;28;01mNone\u001b[39;00m:\n",
      "File \u001b[0;32m~/default-risk-analysis/dra/lib/python3.10/site-packages/pypdf/_doc_common.py:999\u001b[0m, in \u001b[0;36mPdfDocCommon._build_outline_item\u001b[0;34m(self, node)\u001b[0m\n\u001b[1;32m    995\u001b[0m \u001b[38;5;28;01melif\u001b[39;00m \u001b[38;5;28misinstance\u001b[39m(dest, \u001b[38;5;28mstr\u001b[39m):\n\u001b[1;32m    996\u001b[0m     \u001b[38;5;66;03m# named destination, addresses NameObject Issue #193\u001b[39;00m\n\u001b[1;32m    997\u001b[0m     \u001b[38;5;66;03m# TODO: Keep named destination instead of replacing it?\u001b[39;00m\n\u001b[1;32m    998\u001b[0m     \u001b[38;5;28;01mtry\u001b[39;00m:\n\u001b[0;32m--> 999\u001b[0m         outline_item \u001b[38;5;241m=\u001b[39m \u001b[38;5;28;43mself\u001b[39;49m\u001b[38;5;241;43m.\u001b[39;49m\u001b[43m_build_destination\u001b[49m\u001b[43m(\u001b[49m\n\u001b[1;32m   1000\u001b[0m \u001b[43m            \u001b[49m\u001b[43mtitle\u001b[49m\u001b[43m,\u001b[49m\u001b[43m \u001b[49m\u001b[38;5;28;43mself\u001b[39;49m\u001b[38;5;241;43m.\u001b[39;49m\u001b[43m_named_destinations\u001b[49m\u001b[43m[\u001b[49m\u001b[43mdest\u001b[49m\u001b[43m]\u001b[49m\u001b[38;5;241;43m.\u001b[39;49m\u001b[43mdest_array\u001b[49m\n\u001b[1;32m   1001\u001b[0m \u001b[43m        \u001b[49m\u001b[43m)\u001b[49m\n\u001b[1;32m   1002\u001b[0m     \u001b[38;5;28;01mexcept\u001b[39;00m \u001b[38;5;167;01mKeyError\u001b[39;00m:\n\u001b[1;32m   1003\u001b[0m         \u001b[38;5;66;03m# named destination not found in Name Dict\u001b[39;00m\n\u001b[1;32m   1004\u001b[0m         outline_item \u001b[38;5;241m=\u001b[39m \u001b[38;5;28mself\u001b[39m\u001b[38;5;241m.\u001b[39m_build_destination(title, \u001b[38;5;28;01mNone\u001b[39;00m)\n",
      "\u001b[0;31mKeyboardInterrupt\u001b[0m: "
     ]
    }
   ],
   "source": [
    "# Passo 1: Certifique-se de que instalou a biblioteca pypdf.\n",
    "# Abra o seu terminal ou linha de comandos e execute: pip install pypdf\n",
    "\n",
    "# A classe 'PdfMerger' foi substituída por 'PdfWriter' em versões mais recentes da pypdf.\n",
    "from pypdf import PdfWriter\n",
    "\n",
    "def concatenar_pdfs(lista_pdfs, output_path):\n",
    "    \"\"\"\n",
    "    Concatena múltiplos arquivos PDF em um único arquivo de forma robusta.\n",
    "\n",
    "    Args:\n",
    "        lista_pdfs (list): Uma lista de caminhos para os arquivos PDF a serem concatenados.\n",
    "        output_path (str): O caminho para o arquivo PDF de saída.\n",
    "    \"\"\"\n",
    "    # Usamos PdfWriter, que é a classe correta para esta operação.\n",
    "    # O uso de 'with' garante que os recursos sejam fechados automaticamente.\n",
    "    try:\n",
    "        with PdfWriter() as writer:\n",
    "            if not lista_pdfs:\n",
    "                print(\"A lista de PDFs está vazia. Nenhum arquivo de saída foi criado.\")\n",
    "                return\n",
    "\n",
    "            for pdf_path in lista_pdfs:\n",
    "                try:\n",
    "                    print(f\"Processando '{pdf_path}'...\")\n",
    "                    # Adiciona cada PDF ao objeto writer\n",
    "                    writer.append(pdf_path)\n",
    "                except FileNotFoundError:\n",
    "                    print(f\"Aviso: O arquivo '{pdf_path}' não foi encontrado e será ignorado.\")\n",
    "                except Exception as e:\n",
    "                    print(f\"Aviso: Ocorreu um erro ao processar '{pdf_path}': {e}. O arquivo será ignorado.\")\n",
    "            \n",
    "            # Verificamos se alguma página foi adicionada ao 'writer' antes de salvar.\n",
    "            if len(writer.pages) == 0:\n",
    "                print(\"Nenhum PDF válido foi processado. O arquivo de saída não foi criado.\")\n",
    "                return\n",
    "\n",
    "            print(f\"Gravando o arquivo de saída em '{output_path}'...\")\n",
    "            # O método write recebe o caminho do arquivo diretamente.\n",
    "            writer.write(output_path)\n",
    "        \n",
    "        print(f\"\\nPDFs concatenados com sucesso em '{output_path}'.\")\n",
    "\n",
    "    except Exception as e:\n",
    "        print(f\"Ocorreu um erro inesperado durante a concatenação: {e}\")\n",
    "        print(\"Isto pode acontecer se um dos PDFs estiver corrompido, protegido por senha ou num formato inválido.\")\n",
    "\n",
    "# Exemplo de uso:\n",
    "if __name__ == \"__main__\":\n",
    "    # IMPORTANTE:\n",
    "    # Coloque aqui a lista de todos os PDFs que deseja juntar.\n",
    "    # Certifique-se de que os arquivos existem no mesmo diretório que o script\n",
    "    # ou forneça o caminho completo para eles.\n",
    "    \n",
    "    arquivos_de_entrada = [\n",
    "        \"mn.pdf\",      # Nome do seu primeiro arquivo PDF\n",
    "        \"readme.pdf\",  # Nome do seu segundo arquivo PDF\n",
    "        # \"outro_arquivo.pdf\", # Pode adicionar mais arquivos aqui\n",
    "    ]\n",
    "    \n",
    "    pdf_saida = \"pdfs_concatenados.pdf\" # Nome do arquivo PDF de saída\n",
    "\n",
    "    concatenar_pdfs(arquivos_de_entrada, pdf_saida)\n"
   ]
  },
  {
   "cell_type": "code",
   "execution_count": null,
   "id": "34269598",
   "metadata": {},
   "outputs": [
    {
     "name": "stdout",
     "output_type": "stream",
     "text": [
      "Esse code funciona?\n"
     ]
    }
   ],
   "source": [
    "print('Esse code funciona?')"
   ]
  }
 ],
 "metadata": {
  "kernelspec": {
   "display_name": "dra",
   "language": "python",
   "name": "python3"
  },
  "language_info": {
   "codemirror_mode": {
    "name": "ipython",
    "version": 3
   },
   "file_extension": ".py",
   "mimetype": "text/x-python",
   "name": "python",
   "nbconvert_exporter": "python",
   "pygments_lexer": "ipython3",
   "version": "3.10.18"
  }
 },
 "nbformat": 4,
 "nbformat_minor": 5
}
